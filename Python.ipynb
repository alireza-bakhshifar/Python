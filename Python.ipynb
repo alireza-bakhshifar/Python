{
  "cells": [
    {
      "cell_type": "markdown",
      "metadata": {
        "id": "view-in-github",
        "colab_type": "text"
      },
      "source": [
        "<a href=\"https://colab.research.google.com/github/alireza-bakhshifar/Python/blob/main/Python.ipynb\" target=\"_parent\"><img src=\"https://colab.research.google.com/assets/colab-badge.svg\" alt=\"Open In Colab\"/></a>"
      ]
    },
    {
      "cell_type": "code",
      "execution_count": 1,
      "metadata": {
        "id": "tD-cm0iT_wCd",
        "colab": {
          "base_uri": "https://localhost:8080/"
        },
        "outputId": "001dd4ff-5457-4100-d4c9-02c5347d14e8"
      },
      "outputs": [
        {
          "output_type": "stream",
          "name": "stdout",
          "text": [
            "The Zen of Python, by Tim Peters\n",
            "\n",
            "Beautiful is better than ugly.\n",
            "Explicit is better than implicit.\n",
            "Simple is better than complex.\n",
            "Complex is better than complicated.\n",
            "Flat is better than nested.\n",
            "Sparse is better than dense.\n",
            "Readability counts.\n",
            "Special cases aren't special enough to break the rules.\n",
            "Although practicality beats purity.\n",
            "Errors should never pass silently.\n",
            "Unless explicitly silenced.\n",
            "In the face of ambiguity, refuse the temptation to guess.\n",
            "There should be one-- and preferably only one --obvious way to do it.\n",
            "Although that way may not be obvious at first unless you're Dutch.\n",
            "Now is better than never.\n",
            "Although never is often better than *right* now.\n",
            "If the implementation is hard to explain, it's a bad idea.\n",
            "If the implementation is easy to explain, it may be a good idea.\n",
            "Namespaces are one honking great idea -- let's do more of those!\n"
          ]
        }
      ],
      "source": [
        "import this"
      ]
    },
    {
      "cell_type": "markdown",
      "metadata": {
        "id": "WQBv_bVl41sX"
      },
      "source": [
        "# References\n",
        "\n",
        "*   Beginner\n",
        "    *   Head First Python A Learner's Guide to the Fundamentals of Python Programming\n",
        "\n",
        "    *   Data Structures and Program Design Using Python\n",
        "\n",
        "    *   Data Structures and Algorithms in Python\n",
        "* Intermediate\n",
        "\n",
        "    *   Architecture Patterns with Python\n",
        "\n",
        "    *   High Performance Python\n",
        "\n",
        "    *   Designing Data-Intensive Application\n",
        "* Advanced\n",
        "\n",
        "    *   Fluent Python\n",
        "\n",
        "    *   Python Concurrency with Asyncio\n",
        "\n",
        "    *   Python Object-Oriented Programming  \n",
        "\n",
        "\n",
        "\n",
        "\n",
        "\n",
        "\n",
        "\n",
        "\n"
      ]
    },
    {
      "cell_type": "markdown",
      "metadata": {
        "id": "44fPn5bEpuqH"
      },
      "source": [
        "#  **1. Syntax**"
      ]
    },
    {
      "cell_type": "markdown",
      "metadata": {
        "id": "9R5S9NsLqGU_"
      },
      "source": [
        "In computer science, the syntax of a computer language is the set of rules that defines the combinations of symbols that are considered to be correctly structured statements or expressions in that language.\n",
        "\n",
        "\n"
      ]
    },
    {
      "cell_type": "markdown",
      "metadata": {
        "id": "acbfrfepr7ne"
      },
      "source": [
        "## Variables"
      ]
    },
    {
      "cell_type": "markdown",
      "metadata": {
        "id": "iYye1FIYtAsm"
      },
      "source": [
        "Variables are spaces in storage that store a special type of data.\n",
        "\n",
        "*   A variable name (identifier) must start with a letter or the underscore character (underscore character makes a variable private)\n",
        "*   A variable name cannot start with a number\n",
        "*   A variable name can only contain alpha-numeric characters and underscores (A-z, 0-9, and _ )\n",
        "*   Variable names are case-sensitive (age, Age and AGE are three different variables)\n",
        "\n",
        "*   A variable name cannot be any of the Python keywords.\n",
        "\n"
      ]
    },
    {
      "cell_type": "code",
      "execution_count": null,
      "metadata": {
        "id": "c_1q7TCkA512"
      },
      "outputs": [],
      "source": [
        "help('keywords')"
      ]
    },
    {
      "cell_type": "markdown",
      "metadata": {
        "id": "-5bKMF0Zxnc-"
      },
      "source": [
        "**$x+3$**\n",
        "\n",
        "> $x$ --> element or variable\n",
        "\n",
        "\n",
        "> $x+3$ --> expression\n",
        "\n",
        "\n",
        "\n",
        "\n"
      ]
    },
    {
      "cell_type": "code",
      "execution_count": null,
      "metadata": {
        "id": "FN3IvssOsY27"
      },
      "outputs": [],
      "source": [
        "a = 2\n",
        "b = 3"
      ]
    },
    {
      "cell_type": "code",
      "execution_count": null,
      "metadata": {
        "id": "Nt-vpPrKseUv"
      },
      "outputs": [],
      "source": [
        "c , d = 12 , 'ML'"
      ]
    },
    {
      "cell_type": "code",
      "execution_count": null,
      "metadata": {
        "id": "d5XV8Vnasrzz"
      },
      "outputs": [],
      "source": [
        "print(c)\n",
        "print(d)"
      ]
    },
    {
      "cell_type": "code",
      "source": [
        "import pprint\n",
        "pprint.pprint()\n",
        "pprint.pformat()\n",
        "pprint(c)"
      ],
      "metadata": {
        "id": "QWoGG6H5z022"
      },
      "execution_count": null,
      "outputs": []
    },
    {
      "cell_type": "code",
      "execution_count": null,
      "metadata": {
        "id": "ZSt061Mgsvui"
      },
      "outputs": [],
      "source": [
        "print(c); print(d)"
      ]
    },
    {
      "cell_type": "code",
      "execution_count": null,
      "metadata": {
        "collapsed": true,
        "id": "ADOdKJ2hmwKj"
      },
      "outputs": [],
      "source": [
        "print(c,d)"
      ]
    },
    {
      "cell_type": "code",
      "execution_count": null,
      "metadata": {
        "id": "Nzl8PzCUoSN6"
      },
      "outputs": [],
      "source": [
        "print(c,'\\n',d, sep='') # new line\n",
        "print(c,'\\t',d) # tab"
      ]
    },
    {
      "cell_type": "code",
      "execution_count": null,
      "metadata": {
        "id": "36wFPzHOtK87"
      },
      "outputs": [],
      "source": [
        "print(4,6,7,8,9, sep='-')"
      ]
    },
    {
      "cell_type": "code",
      "execution_count": null,
      "metadata": {
        "id": "iui2BNCIttDj"
      },
      "outputs": [],
      "source": [
        "print(4,5,7,8,sep='-',end='.')"
      ]
    },
    {
      "cell_type": "code",
      "execution_count": null,
      "metadata": {
        "id": "C8eqR3Saszk1"
      },
      "outputs": [],
      "source": [
        "x , y = 6 , 4\n",
        "print('area =',x*y)"
      ]
    },
    {
      "cell_type": "code",
      "execution_count": null,
      "metadata": {
        "id": "QYdHV0-CplRI"
      },
      "outputs": [],
      "source": [
        "name = 'Alireza'\n",
        "age = '24'\n",
        "print(f'My name is {name} and I\\'m {age} years old')"
      ]
    },
    {
      "cell_type": "code",
      "execution_count": null,
      "metadata": {
        "id": "OkWePoWhqdUl"
      },
      "outputs": [],
      "source": [
        "obj = 13520\n",
        "best_x = 15\n",
        "best_y = 20\n",
        "print(f'Objective Function = {obj}\\nx={best_x}\\ny={best_y}')"
      ]
    },
    {
      "cell_type": "code",
      "execution_count": null,
      "metadata": {
        "id": "19yTbE0p5qD2"
      },
      "outputs": [],
      "source": [
        "f'Objective Function = {obj}  x={best_x} y={best_y}'"
      ]
    },
    {
      "cell_type": "code",
      "execution_count": null,
      "metadata": {
        "id": "K86G6aER7QYe"
      },
      "outputs": [],
      "source": [
        "f'Objective Function = {obj}'"
      ]
    },
    {
      "cell_type": "code",
      "execution_count": null,
      "metadata": {
        "id": "i6NZacfi2D72"
      },
      "outputs": [],
      "source": [
        "obj = 135.151648\n",
        "f'Objective Function = {obj:.3f}'"
      ]
    },
    {
      "cell_type": "code",
      "execution_count": null,
      "metadata": {
        "id": "-UixM27373tc"
      },
      "outputs": [],
      "source": [
        "number = 123\n",
        "\n",
        "# Formatting the number as an integer with a minimum width of 5 characters and as a floating-point number with 2 decimal places\n",
        "formatted_number = f\"Formatted Number: {number:5d}\"\n",
        "print(formatted_number)"
      ]
    },
    {
      "cell_type": "code",
      "execution_count": null,
      "metadata": {
        "id": "RRkmpv3punMm"
      },
      "outputs": [],
      "source": [
        "x = input('Please Enter Your Age:')\n",
        "print(f'your age is:{x}')"
      ]
    },
    {
      "cell_type": "code",
      "execution_count": null,
      "metadata": {
        "id": "_Q4f-7932obG"
      },
      "outputs": [],
      "source": [
        "f'Hi'"
      ]
    },
    {
      "cell_type": "code",
      "execution_count": null,
      "metadata": {
        "id": "6owQFy_C_m9v"
      },
      "outputs": [],
      "source": [
        "# Line Continuation\n",
        "long_sum = 1 + 2 + 3 + \\\n",
        "           4 + 5 + 6\n",
        "print(long_sum)"
      ]
    },
    {
      "cell_type": "code",
      "execution_count": null,
      "metadata": {
        "id": "M3rlgR9t9Hbm"
      },
      "outputs": [],
      "source": [
        "# Packing & Unpacking\n",
        "\n",
        "# Packing\n",
        "numbers = 1, 2, 3\n",
        "print(numbers)\n",
        "\n",
        "# Unpacking\n",
        "x, y, z = numbers\n",
        "print(x)\n",
        "print(y)\n",
        "print(z)"
      ]
    },
    {
      "cell_type": "markdown",
      "metadata": {
        "id": "kW14LIA0I2lk"
      },
      "source": [
        "## Operators"
      ]
    },
    {
      "cell_type": "code",
      "execution_count": null,
      "metadata": {
        "id": "EvfNoaF5Nafp"
      },
      "outputs": [],
      "source": [
        "# Arithmetic Operators\n",
        "a , b = 11 , 5\n",
        "a+b\n",
        "a-b\n",
        "a*b\n",
        "a/b\n",
        "a**b\n",
        "print(a % b)\n",
        "print(a//b)"
      ]
    },
    {
      "cell_type": "code",
      "execution_count": null,
      "metadata": {
        "id": "Iw0MR0lLBt6B"
      },
      "outputs": [],
      "source": [
        "# Comparison operators\n",
        "42 == 42\n",
        "'dog' != 'cat'\n",
        "45 < 42\n",
        "45 > 42\n",
        "40 <= 40\n",
        "39 >= 40"
      ]
    },
    {
      "cell_type": "code",
      "execution_count": null,
      "metadata": {
        "id": "euPXeYj5CSPz"
      },
      "outputs": [],
      "source": [
        "# Assignment operators\n",
        "a = 20\n",
        "b = 60\n",
        "\n",
        "b += a\n",
        "print(b)\n",
        "\n",
        "b -= a\n",
        "print(b)\n",
        "\n",
        "b /= a\n",
        "print(b)\n",
        "\n",
        "b %= a\n",
        "print(b)\n",
        "\n",
        "b *= a\n",
        "print(b)"
      ]
    },
    {
      "cell_type": "code",
      "execution_count": null,
      "metadata": {
        "id": "IAjBN0f8GF3x"
      },
      "outputs": [],
      "source": [
        "# Logical operators\n",
        "x = 4\n",
        "y = 7\n",
        "x < 5 and  y < 10\n",
        "x < 5 or y < 4\n",
        "not(x < 5 and y < 10)"
      ]
    },
    {
      "cell_type": "code",
      "execution_count": null,
      "metadata": {
        "id": "zjCTo2_eIK6C"
      },
      "outputs": [],
      "source": [
        "# Membership operators\n",
        "x = [1,2,3,4]\n",
        "y = 3\n",
        "y in x"
      ]
    },
    {
      "cell_type": "code",
      "execution_count": null,
      "metadata": {
        "id": "2wZbkZYnIfRv"
      },
      "outputs": [],
      "source": [
        "x = 'hello world'\n",
        "y = 's'\n",
        "y in x"
      ]
    },
    {
      "cell_type": "code",
      "execution_count": null,
      "metadata": {
        "id": "RKd6ueNlI956"
      },
      "outputs": [],
      "source": [
        "# Identity operators\n",
        "x , y = 5,7\n",
        "x is y"
      ]
    },
    {
      "cell_type": "code",
      "execution_count": null,
      "metadata": {
        "id": "jvQRq1x5JrV_"
      },
      "outputs": [],
      "source": [
        "x = [1,2,3,4]\n",
        "y = [1,2,3,4]\n",
        "x is y"
      ]
    },
    {
      "cell_type": "code",
      "execution_count": null,
      "metadata": {
        "id": "fqq1LYXjM00f"
      },
      "outputs": [],
      "source": [
        "x = 0b1011\n",
        "y = 0o72367\n",
        "z = 0x12f6e2a"
      ]
    },
    {
      "cell_type": "code",
      "execution_count": null,
      "metadata": {
        "id": "yT3731-5NCzP"
      },
      "outputs": [],
      "source": [
        "x = 135621020\n",
        "x = bin(x)\n",
        "y = oct(x)\n",
        "z = hex(x)"
      ]
    },
    {
      "cell_type": "code",
      "execution_count": null,
      "metadata": {
        "collapsed": true,
        "id": "GYLyz-0sRC3t"
      },
      "outputs": [],
      "source": [
        "# Walrus operator\n",
        "print(x:=2)\n",
        "print((x:=2) <5)"
      ]
    },
    {
      "cell_type": "markdown",
      "metadata": {
        "id": "WDhuC93IFs8f"
      },
      "source": [
        "#  **2. Data Types**"
      ]
    },
    {
      "cell_type": "markdown",
      "metadata": {
        "id": "TadM7LU5OQyX"
      },
      "source": [
        "\n",
        "\n",
        "1.   Numeric Types\n",
        "  *   int\n",
        "  *   float\n",
        "  *   complex\n",
        "2.   Sequence Types\n",
        "  *   str\n",
        "  *   list\n",
        "  *   tuple\n",
        "3.   Mapping Type\n",
        "  *   dict\n",
        "4.   Set Types\n",
        "  *   set\n",
        "  *   frozenset\n",
        "5.   Boolean Type\n",
        "  *   bool\n",
        "6.   None Type\n",
        "  *   NoneType\n",
        "\n",
        "\n",
        "\n",
        "\n",
        "\n",
        "\n",
        "\n"
      ]
    },
    {
      "cell_type": "markdown",
      "metadata": {
        "id": "An-toN2yzG4C"
      },
      "source": [
        "![image.png](data:image/png;base64,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)"
      ]
    },
    {
      "cell_type": "code",
      "execution_count": null,
      "metadata": {
        "id": "o7PQUoXLiQDC"
      },
      "outputs": [],
      "source": [
        "#Some Hints on Numerics\n",
        "x = 1_000_000_000\n",
        "x"
      ]
    },
    {
      "cell_type": "code",
      "execution_count": null,
      "metadata": {
        "id": "jjFuqwVdiTUd"
      },
      "outputs": [],
      "source": [
        "x = 1e4\n",
        "x"
      ]
    },
    {
      "cell_type": "markdown",
      "metadata": {
        "id": "Qn0gXBi0p23V"
      },
      "source": [
        "# **3. Data Structures**"
      ]
    },
    {
      "cell_type": "markdown",
      "metadata": {
        "id": "yP2FvfzjerLq"
      },
      "source": [
        "## Strings"
      ]
    },
    {
      "cell_type": "code",
      "execution_count": null,
      "metadata": {
        "id": "6AW-ojtceu5m"
      },
      "outputs": [],
      "source": [
        "x = 'stochastic'\n",
        "y = \"fuzzy\"\n",
        "print(x+' '+y)\n",
        "print(3*x)\n",
        "print(\"'hi'\")"
      ]
    },
    {
      "cell_type": "code",
      "execution_count": null,
      "metadata": {
        "id": "x84-h2CUpUUz"
      },
      "outputs": [],
      "source": [
        "a = 'avsniaosvn'\n",
        "a[0]\n",
        "# Slicing\n",
        "a[2:5]\n",
        "a[5:-1]"
      ]
    },
    {
      "cell_type": "code",
      "execution_count": null,
      "metadata": {
        "id": "u_JdIYoKtFhV"
      },
      "outputs": [],
      "source": [
        "a = 'nvjsbvsijdb cajcbasuicacb iap'\n",
        "a[0:20:5]\n",
        "len(a)"
      ]
    },
    {
      "cell_type": "code",
      "execution_count": null,
      "metadata": {
        "id": "Phoe0kiF4rLm"
      },
      "outputs": [],
      "source": [
        "# String Methods\n",
        "q = 'data-driven'\n",
        "print(q.upper())\n",
        "print(q.find('d'))\n",
        "print(q.index('d'))\n",
        "print(q.count('a'))\n",
        "print(q.endswith('n'))\n",
        "print(q.isalnum())\n",
        "print(q.isnumeric())\n",
        "print(q.join('a'))\n"
      ]
    },
    {
      "cell_type": "code",
      "execution_count": null,
      "metadata": {
        "id": "yX91-2O--KsG"
      },
      "outputs": [],
      "source": [
        "l = ['2','3','4']\n",
        "k = '-'\n",
        "print(k.join(l))"
      ]
    },
    {
      "cell_type": "code",
      "execution_count": null,
      "metadata": {
        "id": "dWNrqznp-2MF"
      },
      "outputs": [],
      "source": [
        "csv = 'pouria,mohammadi,24,M,17.75'\n",
        "csv.split(',')"
      ]
    },
    {
      "cell_type": "code",
      "execution_count": null,
      "metadata": {
        "id": "wGVOMfSN8fSm"
      },
      "outputs": [],
      "source": [
        "# Define the string\n",
        "text = \"Hello, World!\"\n",
        "\n",
        "# Find all occurrences of the character 'l' in the string\n",
        "indices = [i for i, char in enumerate(text) if char == 'l']\n",
        "\n",
        "if indices:\n",
        "    print(f\"The indices of 'l' in the string are: {indices}\")\n",
        "else:\n",
        "    print(\"Character 'l' not found in the string.\")\n"
      ]
    },
    {
      "cell_type": "code",
      "execution_count": null,
      "metadata": {
        "id": "He6IMWe4A0gF"
      },
      "outputs": [],
      "source": [
        "# UNICODE\n",
        "print(ord('A'))\n",
        "print(chr(98))\n",
        "print('char: \\u0499')"
      ]
    },
    {
      "cell_type": "code",
      "execution_count": null,
      "metadata": {
        "id": "Rc7-LSPEV3c-"
      },
      "outputs": [],
      "source": [
        "0.2+0.1"
      ]
    },
    {
      "cell_type": "code",
      "execution_count": null,
      "metadata": {
        "id": "DAvWtiakWDDM"
      },
      "outputs": [],
      "source": [
        "from decimal import Decimal\n",
        "print(Decimal(0.2)+ Decimal(0.1))\n",
        "print(Decimal('0.2')+Decimal('0.1'))\n",
        "x = float(Decimal('0.2')+Decimal('0.1'))\n",
        "x"
      ]
    },
    {
      "cell_type": "code",
      "execution_count": null,
      "metadata": {
        "id": "M9jvr6z7XE9V"
      },
      "outputs": [],
      "source": [
        "from fractions import Fraction\n",
        "print(Fraction(9.8))"
      ]
    },
    {
      "cell_type": "code",
      "execution_count": null,
      "metadata": {
        "id": "ij0fdk7GXz0k"
      },
      "outputs": [],
      "source": [
        "round(325.63463,3)"
      ]
    },
    {
      "cell_type": "markdown",
      "metadata": {
        "id": "3K694KsqsEYE"
      },
      "source": [
        "### String Formatting"
      ]
    },
    {
      "cell_type": "code",
      "execution_count": null,
      "metadata": {
        "id": "ffWUEn4RrvdJ"
      },
      "outputs": [],
      "source": [
        "# Old way\n",
        "x = 5.764\n",
        "y = 12\n",
        "print('x = %07.2f\\ny=%i'%(x,y))\n",
        "print('%i %f %c %s %d %o %x %e %r' %(2,2.67,'m','hi',45,51,215743,353688,'C:Downloads'))\n",
        "d = {'a':2 , 'b':3}\n",
        "print('%(a)i  %(b)i' %(d))"
      ]
    },
    {
      "cell_type": "code",
      "execution_count": null,
      "metadata": {
        "id": "rJr0BW1FPxMv"
      },
      "outputs": [],
      "source": [
        "p = int(input(\"p:\"))\n",
        "z = int(input(\"z:\"))\n",
        "y = 2\n",
        "print(\"%*.*f\" %(z,p,y))"
      ]
    },
    {
      "cell_type": "markdown",
      "metadata": {
        "id": "e6ayUj5bshx2"
      },
      "source": [
        "![Screenshot 2024-03-01 235606.png](data:image/png;base64,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)"
      ]
    },
    {
      "cell_type": "markdown",
      "metadata": {
        "id": "OdaGVi_gsqaH"
      },
      "source": [
        "%* برای تعیین مقدار در جایی به غیر از رشته"
      ]
    },
    {
      "cell_type": "code",
      "execution_count": null,
      "metadata": {
        "id": "esVHEp_Hy0Un"
      },
      "outputs": [],
      "source": [
        "# .format\n",
        "t = 5\n",
        "u = 12.5\n",
        "i = 'daaa'\n",
        "print('{0} {1} {2}'.format(t,u,i))\n",
        "print('{2} {1} {0}'.format(t,u,i))\n",
        "a2 = {'x':1 , 'y':2, 'z':3}\n",
        "print('{z} {y} {x}'.format(**a2))\n",
        "print('{1} {0} {2}'.format(*[35,67,21]))\n",
        "print('{1} {0} {2}'.format(*'tea'))\n",
        "print('{!a}'.format('65'))\n",
        "print('{:.3}'.format(23.36413))\n",
        "# [[fill]align] [sign] [#] [0] [width] [grouping_option] [.precision] [type]\n",
        "print('{:*^30}'.format(''))\n",
        "\"int: {1:d};  hex: {0:x};  oct: {0:o};  bin: {0:b}\".format(42,23)"
      ]
    },
    {
      "cell_type": "code",
      "execution_count": null,
      "metadata": {
        "id": "uZ-mkjcuHZOA"
      },
      "outputs": [],
      "source": [
        "# Using the ASCII representation format option {!a}\n",
        "value = 65\n",
        "print(\"The ASCII representation of the value is: {!a}\".format(value))\n"
      ]
    },
    {
      "cell_type": "code",
      "execution_count": null,
      "metadata": {
        "id": "2_6NHGxZH7k7"
      },
      "outputs": [],
      "source": [
        "ascii()"
      ]
    },
    {
      "cell_type": "code",
      "execution_count": null,
      "metadata": {
        "id": "aR9R2CKhy9Ee"
      },
      "outputs": [],
      "source": [
        "# f-string"
      ]
    },
    {
      "cell_type": "code",
      "source": [
        "# replacement_field ::= \"\\{\" [field_name] [\"!\" conversion] [\":\" format_spec] \"\\}\"\n",
        "# - field_name ::= arg_name (\".\" attribute_name | \"[\" element_index \"]\")*\n",
        "# - arg_name ::= [identifier | digit+]\n",
        "# - attribute_name ::= identifier\n",
        "# - element_index ::= digit+ $\\mid$ index_string\n",
        "# - index_string ::= <any source character except \"]\"> +\n",
        "# $\\cdot$ conversion ::= \"r\" | \"s\" | \"a\"\n",
        "# - format_spec ::=\n",
        "\n",
        "# The general form of a standard format specifier is\n",
        "# - format_spec ::= [[fill]align][sign][\\#\\#[0][width][grouping_option][.precision][type]\n",
        "# - fill ::=\n",
        "# $\\cdot$ align ::= \"<\" | \">\" | \"=\" | \"^\"\n",
        "# $\\cdot$ sign $::=$ \"+\" |\"-\" |\" \"\n",
        "# - width ::= digit+\n",
        "# - grouping_option ::= \"-\" \" \",\"\n",
        "# - precision ::= digit+\n",
        "# $\\cdot$ type ::= \"b\" | \"c\" | \"d\" | \"e\" | \"E\" | \"f\" | \"F\" | \"g\" | \"G\" | \"n\" | \"o\" | \"s\" | \"x\" | \"X\" | \"\\%\"\n"
      ],
      "metadata": {
        "id": "J-gSc6hRx_sz"
      },
      "execution_count": null,
      "outputs": []
    },
    {
      "cell_type": "markdown",
      "metadata": {
        "id": "cXJ5Sgdv65Cf"
      },
      "source": [
        "### String Methods"
      ]
    },
    {
      "cell_type": "code",
      "execution_count": null,
      "metadata": {
        "id": "K62JyejfOXFz"
      },
      "outputs": [],
      "source": [
        "#  capitalize()      - Converts the first character to upper case\n",
        "#  casefold()        - Converts string into lower case\n",
        "#  center()          - Returns a centered string\n",
        "#  count()           - Returns the number of times a specified value occurs in a string\n",
        "#  encode()          - Returns an encoded version of the string\n",
        "#  endswith()        - Returns true if the string ends with the specified value\n",
        "#  expandtabs()      - Sets the tab size of the string\n",
        "#  find()            - Searches the string for a specified value and returns the position of where it was found\n",
        "#  format()          - Formats specified values in a string\n",
        "#  format_map()      - Formats specified values in a string\n",
        "#  index()           -  Searches the string for a specified value and returns the position of where it was found\n",
        "#  isalnum()         - Returns True if all characters in the string are alphanumeric\n",
        "#  isalpha()         - Returns True if all characters in the string are in the alphabet\n",
        "#  isdecimal()       - Returns True if all characters in the string are decimals\n",
        "#  isdigit()         - Returns True if all characters in the string are digits\n",
        "#  isidentifier()    - Returns True if the string is an identifier\n",
        "#  islower()         -  Returns True if all characters in the string are lower case\n",
        "#  isnumeric()       -  Returns True if all characters in the string are numeric\n",
        "#  isprintable()     -  Returns True if all characters in the string are printable\n",
        "#  isspace()         -  Returns True if all characters in the string are whitespaces\n",
        "#  istitle()         -  Returns True if the string follows the rules of a title\n",
        "#  isupper()         -  Returns True if all characters in the string are upper case\n",
        "#  join()            - Joins the elements of an iterable to the end of the string\n",
        "#  ljust()           -  Returns a left justified version of the string\n",
        "#  lower()           -  Converts a string into lower case\n",
        "#  lstrip()          - Returns a left trim version of the string\n",
        "#  maketrans()       -  Returns a translation table to be used in translations\n",
        "#  partition()       -  Returns a tuple where the string is parted into three parts\n",
        "#  replace()         -  Returns a string where a specified value is replaced with a specified value\n",
        "#  rfind()           -  Searches the string for a specified value and returns the last position of where it was found\n",
        "#  rindex()          - Searches the string for a specified value and returns the last position of where it was found\n",
        "#  rjust()           -  Returns a right justified version of the string\n",
        "#  rpartition()      - Returns a tuple where the string is parted into three parts\n",
        "#  rsplit()          - Splits the string at the specified separator, and returns a list\n",
        "#  rstrip()          - Returns a right trim version of the string\n",
        "#  split()           -  Splits the string at the specified separator, and returns a list\n",
        "#  splitlines()      - Splits the string at line breaks and returns a list\n",
        "#  startswith()      - Returns true if the string starts with the specified value\n",
        "#  strip()           -  Returns a trimmed version of the string\n",
        "#  swapcase()        - Swaps cases, lower case becomes upper case and vice versa\n",
        "#  title()           -  Converts the first character of each word to upper case\n",
        "#  translate()       -  Returns a translated string\n",
        "#  upper()           -  Converts a string into upper case\n",
        "#  zfill()           -  Fills the string with a specified number of 0 values at the beginning"
      ]
    },
    {
      "cell_type": "markdown",
      "metadata": {
        "id": "KU5Ju5IbqyNX"
      },
      "source": [
        "## Lists"
      ]
    },
    {
      "cell_type": "markdown",
      "metadata": {
        "id": "KTBQAd8W1kO4"
      },
      "source": [
        "Immutable :    Do not change once is defined\n",
        "\n",
        "Mutable :  Can change\n",
        "\n",
        "List are similar to strings"
      ]
    },
    {
      "cell_type": "markdown",
      "metadata": {
        "id": "ghNw7fQ-3uVd"
      },
      "source": [
        "| Immutable | Mutable |\n",
        "| ---| ---|\n",
        "| Strings | List |\n",
        "| Tuples  | Dictionaries|\n",
        "| Frozen Sets| Sets |\n",
        "| Numbers | Custom objects|\n",
        "| NoneType|"
      ]
    },
    {
      "cell_type": "markdown",
      "metadata": {
        "id": "Zq9i1ijOBKng"
      },
      "source": [
        "| Iterables | Non-Iterables |\n",
        "| --- | --- |\n",
        "| Strings | Integers|\n",
        "| Lists   |          Floats|\n",
        "| Tuples  | Booleans|\n",
        "| Dictionaries| NoneType|\n",
        "| Sets| Custom Objects that do not implement the iterable protocol|\n"
      ]
    },
    {
      "cell_type": "code",
      "execution_count": null,
      "metadata": {
        "id": "xqpRQuPjwH1I"
      },
      "outputs": [],
      "source": [
        "#Python List\n",
        "x = [1,2,3,4]\n",
        "y = ['ddro',[1,2,4],1e10,(1,2,3),{'stochatstic',2}]\n",
        "y"
      ]
    },
    {
      "cell_type": "code",
      "execution_count": null,
      "metadata": {
        "id": "MwUhsZFU_srm"
      },
      "outputs": [],
      "source": [
        "y[-1:-3:-1]"
      ]
    },
    {
      "cell_type": "code",
      "execution_count": null,
      "metadata": {
        "id": "rqvYVuEAA3mz"
      },
      "outputs": [],
      "source": [
        "z = list((1,2,3))\n",
        "print(z)"
      ]
    },
    {
      "cell_type": "markdown",
      "metadata": {
        "id": "dteIH6fVXH_h"
      },
      "source": [
        "Lists are neutral towards operators."
      ]
    },
    {
      "cell_type": "code",
      "execution_count": null,
      "metadata": {
        "id": "dj6YINUsXxqq"
      },
      "outputs": [],
      "source": [
        "l1 = [1,2,3,4]\n",
        "l2 = [5,6,7,8]\n",
        "l1+l2\n",
        "l1+['str','norway']"
      ]
    },
    {
      "cell_type": "code",
      "execution_count": null,
      "metadata": {
        "id": "kbx2s14KX3VI"
      },
      "outputs": [],
      "source": [
        "l1*3"
      ]
    },
    {
      "cell_type": "code",
      "execution_count": null,
      "metadata": {
        "id": "5AkEymcPX-sA"
      },
      "outputs": [],
      "source": [
        "l1*l2"
      ]
    },
    {
      "cell_type": "code",
      "execution_count": null,
      "metadata": {
        "id": "TwDLcv0xZZ6p"
      },
      "outputs": [],
      "source": [
        "l1[0] = 109741\n",
        "l1"
      ]
    },
    {
      "cell_type": "code",
      "execution_count": null,
      "metadata": {
        "id": "HLlSpc4gZc1t"
      },
      "outputs": [],
      "source": [
        "2 in l1"
      ]
    },
    {
      "cell_type": "code",
      "execution_count": null,
      "metadata": {
        "id": "0Xf17XtLcMcM"
      },
      "outputs": [],
      "source": [
        "l3 = [9,23,415]\n",
        "l4 = l3 # assign\n",
        "l5 = l3[:] # copy\n",
        "l6 = l3.copy()"
      ]
    },
    {
      "cell_type": "code",
      "execution_count": null,
      "metadata": {
        "id": "DKU7F-AiczPn"
      },
      "outputs": [],
      "source": [
        "a = [1,2,4,626,77,[2434,67,83]]\n",
        "a [5][1]"
      ]
    },
    {
      "cell_type": "code",
      "execution_count": null,
      "metadata": {
        "id": "Gw9FiqM0ePlX"
      },
      "outputs": [],
      "source": [
        "import copy\n",
        "k1 = [1,2,3,4]\n",
        "k2 = copy.copy(k1)\n",
        "k3 = copy.deepcopy(k1)\n",
        "k2[2] = 1414\n",
        "print(k1)\n",
        "print(k2)"
      ]
    },
    {
      "cell_type": "code",
      "execution_count": null,
      "metadata": {
        "id": "fS-0DHncgZWl"
      },
      "outputs": [],
      "source": [
        "j1 = [52,73,34,325,785]\n",
        "j1[2:4] = [1,2,8,4]\n",
        "j1"
      ]
    },
    {
      "cell_type": "code",
      "execution_count": null,
      "metadata": {
        "id": "dQZH25PFiU7i"
      },
      "outputs": [],
      "source": [
        "h = [1,2,3,4]\n",
        "a,b,c,d = h\n",
        "a"
      ]
    },
    {
      "cell_type": "code",
      "execution_count": null,
      "metadata": {
        "id": "tfmPCy8rit7x"
      },
      "outputs": [],
      "source": [
        "a,b,*c = h\n",
        "c\n",
        "#فقط یه ستاره میشه گذاشت"
      ]
    },
    {
      "cell_type": "markdown",
      "metadata": {
        "id": "VSpMVNlchdzA"
      },
      "source": [
        "### List Methods"
      ]
    },
    {
      "cell_type": "code",
      "execution_count": null,
      "metadata": {
        "id": "F3o5LZ5PwNfm"
      },
      "outputs": [],
      "source": [
        "#list.append(x)                      append x to end of #list\n",
        "#list.extend(iterable)               append all elements of iterable to #list\n",
        "#list.insert(i, x)                   insert x at index i\n",
        "#list.remove(x)                      remove first occurance of x from #list\n",
        "#list.pop([i])                       pop element at index i (defaults to end of #list)\n",
        "#list.clear()                        delete all elements from the #list\n",
        "#list.index(x[, start[, end]])       return index of element x\n",
        "#list.count(x)                       return number of occurances of x in #list\n",
        "#list.reverse()                      reverse elements of #list in-place (no return)\n",
        "#list.sort(key=None, reverse=False)  sort #list in-place\n",
        "#list.copy()                         return a shallow copy of the #list"
      ]
    },
    {
      "cell_type": "markdown",
      "metadata": {
        "id": "ahvVgWpZiJg0"
      },
      "source": [
        "### List Comprehensions"
      ]
    },
    {
      "cell_type": "code",
      "execution_count": null,
      "metadata": {
        "colab": {
          "background_save": true
        },
        "id": "Xj17hqb8wR0O"
      },
      "outputs": [],
      "source": [
        "#List Comprehension\n",
        "a = [x for x in range(2,10,2)]\n",
        "a"
      ]
    },
    {
      "cell_type": "markdown",
      "metadata": {
        "id": "0AEx_BrkxICp"
      },
      "source": [
        "## Tuple"
      ]
    },
    {
      "cell_type": "code",
      "execution_count": null,
      "metadata": {
        "id": "9_n7O-SBjlqr"
      },
      "outputs": [],
      "source": [
        "x = (1,2,4,5,[1,2,5],'Laws')\n",
        "y = 1,\n",
        "type(y)"
      ]
    },
    {
      "cell_type": "markdown",
      "metadata": {
        "id": "46c2bZ9Bx-LC"
      },
      "source": [
        "All principles applicable to lists are also relevant for tuples."
      ]
    },
    {
      "cell_type": "markdown",
      "metadata": {
        "id": "nn4mkYOZq4k-"
      },
      "source": [
        "## Dictionary"
      ]
    },
    {
      "cell_type": "code",
      "execution_count": null,
      "metadata": {
        "id": "iMfneK8dbW65"
      },
      "outputs": [],
      "source": [
        "d = {'a': 2, 'b':98}\n",
        "d['a']\n",
        "# Dictionaries cannot have two items with the same key"
      ]
    },
    {
      "cell_type": "code",
      "execution_count": null,
      "metadata": {
        "id": "N5TE7FaGzqsS"
      },
      "outputs": [],
      "source": [
        "d2 = dict(name = \"John\", age = 36, country = \"Norway\")\n",
        "d2"
      ]
    },
    {
      "cell_type": "markdown",
      "metadata": {
        "id": "-bOZqIWv3OVC"
      },
      "source": [
        "Keys can only be immuatable"
      ]
    },
    {
      "cell_type": "markdown",
      "metadata": {
        "id": "3rdGw0Vo2NF6"
      },
      "source": [
        "### Dictionary Methods"
      ]
    },
    {
      "cell_type": "code",
      "execution_count": null,
      "metadata": {
        "id": "RmVkQUNgbdgx"
      },
      "outputs": [],
      "source": [
        "#Dictionary Methods\n",
        "'''\n",
        "clear()\t      Removes all the elements from the dictionary\n",
        "copy()\t      Returns a copy of the dictionary\n",
        "fromkeys()\t  Returns a dictionary with the specified keys and value\n",
        "get()\t      Returns the value of the specified key\n",
        "items()\t      Returns a list containing a tuple for each key value pair\n",
        "keys()\t      Returns a list containing the dictionary's keys\n",
        "pop()\t      Removes the element with the specified key\n",
        "popitem()\t  Removes the last inserted key-value pair\n",
        "setdefault()  Returns the value of the specified key. If the key does not exist:\n",
        "              insert the key, with the specified value\n",
        "update()\t  Updates the dictionary with the specified key-value pairs\n",
        "values()\t  eturns a list of all the values in the dictionary\n",
        "'''"
      ]
    },
    {
      "cell_type": "code",
      "execution_count": null,
      "metadata": {
        "id": "X3gxcuxw0OCm"
      },
      "outputs": [],
      "source": [
        "d2.get('name')"
      ]
    },
    {
      "cell_type": "code",
      "execution_count": null,
      "metadata": {
        "id": "tYnG7vME0KWL"
      },
      "outputs": [],
      "source": [
        "d2.keys()"
      ]
    },
    {
      "cell_type": "code",
      "execution_count": null,
      "metadata": {
        "id": "j91bQiBY0voC"
      },
      "outputs": [],
      "source": [
        "d2.values()"
      ]
    },
    {
      "cell_type": "code",
      "execution_count": null,
      "metadata": {
        "id": "QQO1yFT90ywL"
      },
      "outputs": [],
      "source": [
        "d2['sport'] = 'ski'\n",
        "d2"
      ]
    },
    {
      "cell_type": "code",
      "execution_count": null,
      "metadata": {
        "id": "GONlcTEW1aZU"
      },
      "outputs": [],
      "source": [
        "d2.items()"
      ]
    },
    {
      "cell_type": "code",
      "execution_count": null,
      "metadata": {
        "id": "ZA58yHpe1-sO"
      },
      "outputs": [],
      "source": [
        "for x,y in d2.items():\n",
        "  print(x,y)"
      ]
    },
    {
      "cell_type": "code",
      "execution_count": null,
      "metadata": {
        "id": "HbYNcrLc1p49"
      },
      "outputs": [],
      "source": [
        "'name' in d2"
      ]
    },
    {
      "cell_type": "code",
      "execution_count": null,
      "metadata": {
        "id": "3dkK8uBnL709"
      },
      "outputs": [],
      "source": [
        "s = ['Tehran','Isfahan','Mashhad','Yazd']\n",
        "capacity = [1000,900,1100,2000]\n",
        "p = zip(s,capacity)\n",
        "p = list(p)\n",
        "p = dict(p)\n",
        "p"
      ]
    },
    {
      "cell_type": "markdown",
      "metadata": {
        "id": "bgsu-3RwJn7u"
      },
      "source": [
        "### Dictionary Comprehensions"
      ]
    },
    {
      "cell_type": "code",
      "execution_count": null,
      "metadata": {
        "id": "0xYB7nuWJrxn"
      },
      "outputs": [],
      "source": [
        "d3 = {i:5*i for i in range(10,100,10)}\n",
        "d3"
      ]
    },
    {
      "cell_type": "code",
      "execution_count": null,
      "metadata": {
        "id": "KKEK4_CP4hMD"
      },
      "outputs": [],
      "source": [
        "# given string\n",
        "l=[1,2,3]\n",
        "\n",
        "# using dictionary comprehension\n",
        "dic = {\n",
        "    x: {y: x + y for y in l} for x in l\n",
        "}\n",
        "\n",
        "print(dic)"
      ]
    },
    {
      "cell_type": "markdown",
      "metadata": {
        "id": "xhZE405zq-ez"
      },
      "source": [
        "## Sets"
      ]
    },
    {
      "cell_type": "code",
      "execution_count": null,
      "metadata": {
        "id": "smuJhhSqfQdE"
      },
      "outputs": [],
      "source": [
        "s = {1,2,3}\n",
        "s"
      ]
    },
    {
      "cell_type": "code",
      "execution_count": null,
      "metadata": {
        "id": "JSnf0XJFfUY5"
      },
      "outputs": [],
      "source": [
        "s ={1,2,3,5,5,6,7,8,8,9}\n",
        "s"
      ]
    },
    {
      "cell_type": "markdown",
      "metadata": {
        "id": "nOx_AMxYfU5S"
      },
      "source": [
        "### Set Methods"
      ]
    },
    {
      "cell_type": "code",
      "execution_count": null,
      "metadata": {
        "id": "LN5srZtEf025"
      },
      "outputs": [],
      "source": [
        "'''\n",
        "add()\t                         Adds an element to the set\n",
        "clear()                \t       Removes all the elements from the set\n",
        "copy()\t                       Returns a copy of the set\n",
        "difference()\t                 Returns a set containing the difference between two or more sets\n",
        "difference_update()\t           Removes the items in this set that are also included in another, specified set\n",
        "discard()\t                     Remove the specified item\n",
        "intersection()\t               Returns a set, that is the intersection of two or more sets\n",
        "intersection_update()\t         Removes the items in this set that are not present in other, specified set(s)\n",
        "isdisjoint()\t                 Returns whether two sets have a intersection or not\n",
        "issubset()\t                   Returns whether another set contains this set or not\n",
        "issuperset()                   Returns whether this set contains another set or not\n",
        "pop()\t                         Removes an element from the set\n",
        "remove()               \t       Removes the specified element\n",
        "symmetric_difference()\t       Returns a set with the symmetric differences of two sets\n",
        "symmetric_difference_update()\t inserts the symmetric differences from this set and another\n",
        "union()                      \t Return a set containing the union of sets\n",
        "update()\t                     Update the set with another set, or any other iterable\n",
        "\n",
        "'''"
      ]
    },
    {
      "cell_type": "markdown",
      "metadata": {
        "id": "BRO3H3w5zwxU"
      },
      "source": [
        "Python Collections (Arrays)\n",
        "There are four collection data types in the Python programming language:\n",
        "\n",
        "\n",
        "*   List is a collection which is ordered and changeable. Allows duplicate members.\n",
        "*   Tuple is a collection which is ordered and unchangeable. Allows duplicate members.\n",
        "*   Set is a collection which is unordered, unchangeable*, and unindexed. No duplicate members.\n",
        "*   Dictionary is a collection which is ordered** and changeable. No duplicate members.\n",
        "\n",
        "\n",
        "\n",
        "\n",
        "\n",
        "\n",
        "\n"
      ]
    },
    {
      "cell_type": "markdown",
      "metadata": {
        "id": "xMW3HaJ8eU7E"
      },
      "source": [
        "## Collection Library"
      ]
    },
    {
      "cell_type": "markdown",
      "metadata": {
        "id": "ooHzpNAleqE8"
      },
      "source": [
        "The collections library in Python is a built-in module that provides specialized container datatypes, which are alternatives to Python’s general-purpose built-in containers, such as dict, list, set, and tuple. The collections module offers additional data structures to store collections of items and is designed to improve performance and provide more convenient ways to work with collections of data.\n",
        "\n",
        "Some of the most commonly used classes provided by the collections module include:\n",
        "\n",
        "1. ***namedtuple()***: Factory function for creating tuple subclasses with named fields. This can be used to create lightweight object types with named fields, providing a more self-documenting and readable code.\n",
        "\n",
        "2. ***deque***: A list-like container with fast appends and pops on either end. It is especially useful for implementing queues and breadth-first tree searches.\n",
        "\n",
        "3. ***Counter***: A dict subclass for counting hashable objects. It is a collection where elements are stored as dictionary keys and their counts are stored as dictionary values.\n",
        "\n",
        "4. ***OrderedDict***: A dict subclass that remembers the order entries were added. Starting with Python 3.7, the built-in dict type also maintains insertion order, but OrderedDict still has some additional functionality.\n",
        "\n",
        "5. ***defaultdict***: A dict subclass that calls a factory function to supply missing values. This can simplify code that adds items to dictionaries by eliminating the need to check for the existence of a key.\n",
        "\n",
        "6. ***ChainMap***: A class for creating a single view of multiple mappings. It is useful for looking up values in multiple dictionaries as a single mapping.\n",
        "\n",
        "7. UserDict, UserList, UserString: Wrapper classes that allow users to create their own custom dict, list, or string types by inheriting from these.\n",
        "\n",
        "To use the collections module, you typically import it at the beginning of your Python script or interactive session:\n",
        "\n",
        "```python\n",
        "import collections\n",
        "```\n",
        "Then you can use the classes and functions it provides. Here's an example of using a Counter to count occurrences of elements in a list:\n",
        "\n"
      ]
    },
    {
      "cell_type": "markdown",
      "source": [
        "#### namedtuple"
      ],
      "metadata": {
        "id": "J5GfgAPv1ePE"
      }
    },
    {
      "cell_type": "code",
      "execution_count": null,
      "metadata": {
        "id": "9q9RB0Yc9sRd"
      },
      "outputs": [],
      "source": [
        "from collections import namedtuple\n",
        "\n",
        "# namedtuple 'Person' with fields 'name' and 'age'\n",
        "Person = namedtuple('Person', ['name', 'age'])\n",
        "\n",
        "# Creating an instance\n",
        "person1 = Person(name='Alice', age=30)\n",
        "\n",
        "formatted_person = f\"Name: {person1.name}, Age: {person1.age}\"\n",
        "print(formatted_person)\n"
      ]
    },
    {
      "cell_type": "markdown",
      "source": [
        "#### deque"
      ],
      "metadata": {
        "id": "79vQUkJi16CJ"
      }
    },
    {
      "cell_type": "code",
      "source": [
        "from collections import deque\n",
        "dq = deque(range(10),maxlen=10)\n",
        "dq"
      ],
      "metadata": {
        "colab": {
          "base_uri": "https://localhost:8080/"
        },
        "id": "OCVqtWqv1-U3",
        "outputId": "edc9d6b0-ea44-4664-ae43-64afff4203ff"
      },
      "execution_count": null,
      "outputs": [
        {
          "output_type": "execute_result",
          "data": {
            "text/plain": [
              "deque([0, 1, 2, 3, 4, 5, 6, 7, 8, 9])"
            ]
          },
          "metadata": {},
          "execution_count": 2
        }
      ]
    },
    {
      "cell_type": "code",
      "source": [
        "help(deque)"
      ],
      "metadata": {
        "id": "o3SWPbjm5GMd"
      },
      "execution_count": null,
      "outputs": []
    },
    {
      "cell_type": "code",
      "source": [
        "dq.rotate(-3)\n",
        "dq"
      ],
      "metadata": {
        "colab": {
          "base_uri": "https://localhost:8080/"
        },
        "id": "ysizQP5U5eOy",
        "outputId": "1d3e0cf7-7033-451c-e2ab-3cf0970e6245"
      },
      "execution_count": null,
      "outputs": [
        {
          "output_type": "execute_result",
          "data": {
            "text/plain": [
              "deque([0, 1, 2, 3, 4, 5, 6, 7, 8, 9])"
            ]
          },
          "metadata": {},
          "execution_count": 8
        }
      ]
    },
    {
      "cell_type": "code",
      "source": [
        "dq.appendleft(99)\n",
        "dq"
      ],
      "metadata": {
        "colab": {
          "base_uri": "https://localhost:8080/"
        },
        "id": "8ljpP9a66DvS",
        "outputId": "beea43de-408c-4f65-e215-40151b8e2387"
      },
      "execution_count": null,
      "outputs": [
        {
          "output_type": "execute_result",
          "data": {
            "text/plain": [
              "deque([99, 0, 1, 2, 3, 4, 5, 6, 7, 8])"
            ]
          },
          "metadata": {},
          "execution_count": 9
        }
      ]
    },
    {
      "cell_type": "markdown",
      "source": [
        "removing items from the middle of a deque is not fast. It is really optimized for appending and popping from the ends."
      ],
      "metadata": {
        "id": "6yrr1JD76dOe"
      }
    },
    {
      "cell_type": "markdown",
      "source": [
        "#### Counter"
      ],
      "metadata": {
        "id": "LUMu2tlE1a5q"
      }
    },
    {
      "cell_type": "code",
      "execution_count": null,
      "metadata": {
        "id": "QX2vILcie1cZ"
      },
      "outputs": [],
      "source": [
        "from collections import Counter\n",
        "\n",
        "# Count the occurrences of each element in the list\n",
        "element_counts = Counter(['apple', 'orange', 'apple', 'pear', 'orange', 'banana'])\n",
        "\n",
        "print(element_counts)  # Output: Counter({'apple': 2, 'orange': 2, 'pear': 1, 'banana': 1})"
      ]
    },
    {
      "cell_type": "markdown",
      "metadata": {
        "id": "vPKSrAG3e9bq"
      },
      "source": [
        "The *collections* module is a powerful tool for working with data structures and is widely used in Python programming for various tasks."
      ]
    },
    {
      "cell_type": "markdown",
      "metadata": {
        "id": "wWVYrZi5p7Wm"
      },
      "source": [
        "# **4. Flow Control**"
      ]
    },
    {
      "cell_type": "code",
      "execution_count": null,
      "metadata": {
        "id": "VHBOIwnQ4v9r"
      },
      "outputs": [],
      "source": [
        "# Multiple Inputs\n",
        "r = [int(x) for x in input('Enter Numbers:').split(',')]\n",
        "r"
      ]
    },
    {
      "cell_type": "markdown",
      "metadata": {
        "id": "Oxvnwdo3y9Sv"
      },
      "source": [
        "## if, elif, else"
      ]
    },
    {
      "cell_type": "code",
      "execution_count": null,
      "metadata": {
        "id": "OKweIVdq-o2q"
      },
      "outputs": [],
      "source": [
        "if expression (logical conditions):\n",
        "  statement"
      ]
    },
    {
      "cell_type": "code",
      "execution_count": null,
      "metadata": {
        "id": "5q79bcEQ-zoV"
      },
      "outputs": [],
      "source": [
        "a = int(input(\"Enter a :\"))\n",
        "b = int(input(\"Enter b :\"))\n",
        "if a>b:\n",
        "  print('Bravo')\n",
        "elif a==b:\n",
        "  print('Not Bad')\n",
        "else:\n",
        "  print('Study More')"
      ]
    },
    {
      "cell_type": "code",
      "execution_count": null,
      "metadata": {
        "id": "DSwDr-E1BZxr"
      },
      "outputs": [],
      "source": [
        "# One line if statement\n",
        "a = int(input(\"Enter a :\"))\n",
        "b = int(input(\"Enter b :\"))\n",
        "if a>b: print('Atta boy')"
      ]
    },
    {
      "cell_type": "code",
      "execution_count": null,
      "metadata": {
        "id": "2DLQnvitEOi5"
      },
      "outputs": [],
      "source": [
        "a = 2\n",
        "b = 330\n",
        "print(\"A\") if a > b else print(\"B\")"
      ]
    },
    {
      "cell_type": "code",
      "execution_count": null,
      "metadata": {
        "id": "x9LQnkwIEXgh"
      },
      "outputs": [],
      "source": [
        "print(\"A\") if a > b else print(\"=\") if a == b else print(\"B\")"
      ]
    },
    {
      "cell_type": "code",
      "execution_count": null,
      "metadata": {
        "id": "hzX-Im50EihZ"
      },
      "outputs": [],
      "source": [
        "a = 200\n",
        "b = 33\n",
        "c = 500\n",
        "if a > b or a > c:\n",
        "  print(\"At least one of the conditions is True\")"
      ]
    },
    {
      "cell_type": "code",
      "execution_count": null,
      "metadata": {
        "id": "sbYEQ08sEkHF"
      },
      "outputs": [],
      "source": [
        "x = 41\n",
        "\n",
        "if x > 10:\n",
        "  print(\"Above ten,\")\n",
        "  if x > 20:\n",
        "    print(\"and also above 20!\")\n",
        "  else:\n",
        "    print(\"but not above 20.\")"
      ]
    },
    {
      "cell_type": "markdown",
      "metadata": {
        "id": "hm5cR1O0ErNt"
      },
      "source": [
        "if statements cannot be empty, but if you for some reason have an if statement with no content, put in the pass statement to avoid getting an error."
      ]
    },
    {
      "cell_type": "code",
      "execution_count": null,
      "metadata": {
        "id": "DkuLGW08Es5G"
      },
      "outputs": [],
      "source": [
        "a = 33\n",
        "b = 200\n",
        "\n",
        "if b > a:\n",
        "  pass"
      ]
    },
    {
      "cell_type": "markdown",
      "metadata": {
        "id": "EirrTYy4G4Ru"
      },
      "source": [
        "## match"
      ]
    },
    {
      "cell_type": "code",
      "execution_count": null,
      "metadata": {
        "id": "1-qB99ZUSA2Q"
      },
      "outputs": [],
      "source": [
        "a = int(input(\"Enter a Number between 4 and 6:\"))\n",
        "match a:\n",
        "  case 4:\n",
        "    print('You entered 4')\n",
        "  case 5:\n",
        "    print('You entered 5')\n",
        "  case 6:\n",
        "    print('You entered 6')\n",
        "  case _:\n",
        "    print('Boooooo')\n"
      ]
    },
    {
      "cell_type": "markdown",
      "metadata": {
        "id": "tyT0ENYVMe34"
      },
      "source": [
        "## assert"
      ]
    },
    {
      "cell_type": "code",
      "execution_count": null,
      "metadata": {
        "id": "p08ACvbqGmb7"
      },
      "outputs": [],
      "source": [
        "a = 4\n",
        "b = 0\n",
        "print(\"The value of a / b is : \")\n",
        "assert b != 0, \"Zero Division Error\"\n",
        "print(a / b)"
      ]
    },
    {
      "cell_type": "markdown",
      "metadata": {
        "id": "wT5VsJDjqBrd"
      },
      "source": [
        "# **5. Loops**"
      ]
    },
    {
      "cell_type": "markdown",
      "metadata": {
        "id": "z19kOT6pHMf-"
      },
      "source": [
        "## for"
      ]
    },
    {
      "cell_type": "code",
      "execution_count": null,
      "metadata": {
        "id": "tXlLjztwNuFJ"
      },
      "outputs": [],
      "source": [
        "a = int(input('Enter a number:'))\n",
        "counter = 0\n",
        "for i in range(a,0,-1):\n",
        "  if a % i ==0:\n",
        "    counter +=1\n",
        "  else:\n",
        "    pass\n",
        "if counter ==2:\n",
        "  print('It is prime')\n",
        "else:\n",
        "  print('It is compound')"
      ]
    },
    {
      "cell_type": "markdown",
      "metadata": {
        "id": "uEeniN-IHIXG"
      },
      "source": [
        "## while"
      ]
    },
    {
      "cell_type": "code",
      "execution_count": null,
      "metadata": {
        "id": "rOqgf5KGVtFl"
      },
      "outputs": [],
      "source": [
        "while expression:\n",
        "  statement"
      ]
    },
    {
      "cell_type": "code",
      "execution_count": null,
      "metadata": {
        "id": "4Y-Td8JPxo2B"
      },
      "outputs": [],
      "source": [
        "n = 1\n",
        "while n <= 10:\n",
        "  print(n**2)\n",
        "  n += 1\n"
      ]
    },
    {
      "cell_type": "code",
      "execution_count": null,
      "metadata": {
        "id": "4nCOWp2HyWbd"
      },
      "outputs": [],
      "source": [
        "n = int(input('Enter a Number: '))\n",
        "while n >= 1:\n",
        "    print('{:''>10s}'.format('*'*n))\n",
        "    n -= 1\n"
      ]
    },
    {
      "cell_type": "markdown",
      "metadata": {
        "id": "bqD2gYQQKhc1"
      },
      "source": [
        "## break"
      ]
    },
    {
      "cell_type": "markdown",
      "metadata": {
        "id": "aVPy08zaKX1g"
      },
      "source": [
        "![image.png](data:image/png;base64,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)"
      ]
    },
    {
      "cell_type": "code",
      "execution_count": null,
      "metadata": {
        "id": "cIrOAm5ozmD9"
      },
      "outputs": [],
      "source": [
        "for i in range(5):\n",
        "    if i == 3:\n",
        "        break\n",
        "    print(i)"
      ]
    },
    {
      "cell_type": "markdown",
      "metadata": {
        "id": "Un1G9HgBBibt"
      },
      "source": [
        "## continue"
      ]
    },
    {
      "cell_type": "markdown",
      "metadata": {
        "id": "eM2iICywBkz5"
      },
      "source": [
        "![image.png](data:image/png;base64,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)"
      ]
    },
    {
      "cell_type": "code",
      "execution_count": null,
      "metadata": {
        "id": "SiaA6k0oB2Xr"
      },
      "outputs": [],
      "source": [
        "for i in range(5):\n",
        "    if i == 3:\n",
        "        continue\n",
        "    print(i)"
      ]
    },
    {
      "cell_type": "code",
      "execution_count": null,
      "metadata": {
        "id": "BUMmRkixSvpw"
      },
      "outputs": [],
      "source": [
        "i = 1\n",
        "while i < 6:\n",
        "  print(i)\n",
        "  i += 1\n",
        "else:\n",
        "  print(\"i is no longer less than 6\")"
      ]
    },
    {
      "cell_type": "code",
      "execution_count": null,
      "metadata": {
        "id": "1mfhqMHHXGrP"
      },
      "outputs": [],
      "source": [
        "# Initialize variables\n",
        "i = 1\n",
        "j = 1\n",
        "\n",
        "# Outer loop\n",
        "while i <= 5:\n",
        "    print(\"Outer loop iteration:\", i)\n",
        "\n",
        "    # Inner loop\n",
        "    while j <= i:\n",
        "        print(\"Inner loop iteration:\", j)\n",
        "        j += 1\n",
        "\n",
        "    # Reset inner loop counter\n",
        "    j = 1\n",
        "    i += 1\n"
      ]
    },
    {
      "cell_type": "code",
      "execution_count": null,
      "metadata": {
        "id": "uKiXnUiCYjCT"
      },
      "outputs": [],
      "source": [
        "i = 1\n",
        "while (i<=10):\n",
        "  j = 1\n",
        "  while (j<=10):\n",
        "    print(i*j,end='\\t')\n",
        "    j += 1\n",
        "  print()\n",
        "  i +=1"
      ]
    },
    {
      "cell_type": "code",
      "execution_count": null,
      "metadata": {
        "id": "ho9MNCsyGxdA"
      },
      "outputs": [],
      "source": [
        "# vectorization"
      ]
    },
    {
      "cell_type": "code",
      "execution_count": null,
      "metadata": {
        "id": "DQAUD5Gq1Jf1"
      },
      "outputs": [],
      "source": [
        "# dis module"
      ]
    },
    {
      "cell_type": "markdown",
      "metadata": {
        "id": "b-UF5xq6sjT8"
      },
      "source": [
        "## enumerate"
      ]
    },
    {
      "cell_type": "code",
      "execution_count": null,
      "metadata": {
        "id": "gVqXenN9KtIF"
      },
      "outputs": [],
      "source": [
        "l = ['A','B','C','D']\n",
        "list(enumerate(l))"
      ]
    },
    {
      "cell_type": "code",
      "execution_count": null,
      "metadata": {
        "id": "WveoTmvfsg11"
      },
      "outputs": [],
      "source": [
        "s = ['Tehran','Isfahan','Mashhad','Yazd']\n",
        "capacity = [1000,900,1100,2000]\n",
        "p = zip(s,capacity)\n",
        "for i,j in p:\n",
        "  print(f'city {i} has {j} capacity')"
      ]
    },
    {
      "cell_type": "markdown",
      "metadata": {
        "id": "LknYUj7pKkw5"
      },
      "source": [
        "## Itertools"
      ]
    },
    {
      "cell_type": "markdown",
      "metadata": {
        "id": "L6xTv_1ah2iI"
      },
      "source": [
        "**Infinite Iterators**\n",
        "\n",
        "Functions like count(), cycle(), and repeat() generate infinite iterators."
      ]
    },
    {
      "cell_type": "code",
      "execution_count": null,
      "metadata": {
        "id": "mgYhTAB6OgKL"
      },
      "outputs": [],
      "source": [
        "import itertools"
      ]
    },
    {
      "cell_type": "code",
      "execution_count": null,
      "metadata": {
        "id": "HFr_gb0ciHTX"
      },
      "outputs": [],
      "source": [
        "# count() example\n",
        "for i in itertools.count(5, 2):\n",
        "    if i > 15:\n",
        "        break\n",
        "    print(i)"
      ]
    },
    {
      "cell_type": "code",
      "execution_count": null,
      "metadata": {
        "id": "N3EGlmLCIMrC"
      },
      "outputs": [],
      "source": [
        "# cycle() example\n",
        "colors = ['red', 'green', 'blue']\n",
        "color_cycle = itertools.cycle(colors)\n",
        "for _ in range(5):\n",
        "    print(next(color_cycle))\n"
      ]
    },
    {
      "cell_type": "code",
      "execution_count": null,
      "metadata": {
        "id": "avJ4wfnuIVnz"
      },
      "outputs": [],
      "source": [
        "# repeat() example\n",
        "for i in itertools.repeat('Hello', 3):\n",
        "    print(i)"
      ]
    },
    {
      "cell_type": "markdown",
      "metadata": {
        "id": "mW0wgp0Xi4Mh"
      },
      "source": [
        "**Iterators Terminating on the Shortest Input Sequence**\n",
        "\n",
        "Functions like accumulate(), chain(), compress(), and dropwhile() work with iterators that terminate when the shortest input sequence is exhausted."
      ]
    },
    {
      "cell_type": "code",
      "execution_count": null,
      "metadata": {
        "id": "6wQRBDOPjF3I"
      },
      "outputs": [],
      "source": [
        "# chain() example\n",
        "list1 = [1, 2, 3]\n",
        "list2 = [4, 5, 6]\n",
        "combined = itertools.chain(list1, list2)\n",
        "for i in combined:\n",
        "    print(i)\n",
        "\n",
        "# dropwhile() example\n",
        "data = [1, 2, 3, 4, 5, 6]\n",
        "result = itertools.dropwhile(lambda x: x < 3, data)\n",
        "print(list(result))"
      ]
    },
    {
      "cell_type": "markdown",
      "metadata": {
        "id": "X5iHtVSQp4S_"
      },
      "source": [
        "**Combinatoric Generators**\n",
        "\n",
        " Functions like product(), permutations(), and combinations() generate combinatoric iterators for Cartesian products, permutations, and combinations."
      ]
    },
    {
      "cell_type": "code",
      "execution_count": null,
      "metadata": {
        "id": "p4Zsb336rgTo"
      },
      "outputs": [],
      "source": [
        "# product() example\n",
        "for item in itertools.product([1,2,3], repeat=2):\n",
        "    print(item)\n",
        "print('{:*^30}'.format(''))\n",
        "# permutations() example\n",
        "for item in itertools.permutations('ABC', 2):\n",
        "    print(item)\n",
        "print('{:*^30}'.format(''))\n",
        "# combinations() example\n",
        "for item in itertools.combinations('ABCD', 2):\n",
        "    print(item)"
      ]
    },
    {
      "cell_type": "markdown",
      "metadata": {
        "id": "csef9jTNqx-R"
      },
      "source": [
        "**Iterators with Finite Length**\n",
        "\n",
        "Functions like islice(), takewhile(), and zip_longest() work with iterators of finite length."
      ]
    },
    {
      "cell_type": "code",
      "execution_count": null,
      "metadata": {
        "id": "lrDiXG-eqxuI"
      },
      "outputs": [],
      "source": [
        "# islice() example\n",
        "data = [1, 2, 3, 4, 5]\n",
        "result = itertools.islice(data, 2, None)\n",
        "print(list(result))\n",
        "\n",
        "# takewhile() example\n",
        "data = [1, 2, 3, 4, 5]\n",
        "result = itertools.takewhile(lambda x: x < 3, data)\n",
        "print(list(result))\n",
        "\n",
        "# zip_longest() example\n",
        "data1 = [1, 2, 3]\n",
        "data2 = ['a', 'b']\n",
        "result = itertools.zip_longest(data1, data2, fillvalue='N/A')\n",
        "print(list(result))"
      ]
    },
    {
      "cell_type": "markdown",
      "metadata": {
        "id": "La0KBUt8t1AQ"
      },
      "source": [
        "**Iterators with Repeat Elements**\n",
        "\n",
        "Functions like tee() and repeat() create iterators that repeat elements."
      ]
    },
    {
      "cell_type": "code",
      "execution_count": null,
      "metadata": {
        "id": "p5tES8cyt71x"
      },
      "outputs": [],
      "source": [
        "# tee() example\n",
        "data = [1, 2, 3]\n",
        "iter1, iter2 = itertools.tee(data)\n",
        "print(list(iter1))\n",
        "print(list(iter2))\n",
        "\n",
        "# repeat() example\n",
        "for i in itertools.repeat('Hello', 3):\n",
        "    print(i)"
      ]
    },
    {
      "cell_type": "markdown",
      "metadata": {
        "id": "uB71RMxbwXig"
      },
      "source": [
        "# **6. Functions**"
      ]
    },
    {
      "cell_type": "code",
      "execution_count": null,
      "metadata": {
        "id": "5iF8hQPq5zqV"
      },
      "outputs": [],
      "source": [
        " def function_name(parameter: data_type) -> return_type:\n",
        "    \"\"\"Docstring\"\"\"\n",
        "    # body of the function\n",
        "    return expression"
      ]
    },
    {
      "cell_type": "code",
      "execution_count": null,
      "metadata": {
        "id": "_c18ezbU53Zo"
      },
      "outputs": [],
      "source": [
        "def power (x:int,y:int) -> int:\n",
        "  return x**y\n",
        "power(2,3)"
      ]
    },
    {
      "cell_type": "markdown",
      "metadata": {
        "id": "0qPRSvuAeW_N"
      },
      "source": [
        "**Python Built-in Functions**"
      ]
    },
    {
      "cell_type": "code",
      "execution_count": null,
      "metadata": {
        "id": "spLBlI76X_TR"
      },
      "outputs": [],
      "source": [
        "abs()         #Returns the absolute value of a number\n",
        "all()         #Returns True if all items in an iterable object are true\n",
        "any()         #Returns True if any item in an iterable object is true\n",
        "ascii()       #Returns a readable version of an object. Replaces none-ascii characters with escape character\n",
        "bin()         #Returns the binary version of a number\n",
        "bool()        #Returns the boolean value of the specified object\n",
        "bytearray()   #Returns an array of bytes\n",
        "bytes()       #Returns a bytes object\n",
        "callable()    #Returns True if the specified object is callable, otherwise False\n",
        "chr()         #Returns a character from the specified Unicode code.\n",
        "classmethod() #Converts a method into a class method\n",
        "compile()     #Returns the specified source as an object, ready to be executed\n",
        "complex()     #Returns a complex number\n",
        "delattr()     #Deletes the specified attribute (property or method)        from the specified object\n",
        "dict()        #Returns a dictionary (Array)\n",
        "dir()         #Returns a list of the specified object's properties and methods\n",
        "divmod()      #Returns the quotient and the remainder when argument1 is divided by argument2\n",
        "enumerate()   #Takes a collection (e.g. a tuple)        and returns it as an enumerate object\n",
        "eval()        #Evaluates and executes an expression\n",
        "exec()        #Executes the specified code (or object)\n",
        "filter()      #Use a filter function to exclude items in an iterable object\n",
        "float()       #Returns a floating point number\n",
        "format()      #Formats a specified value\n",
        "frozenset()   #Returns a frozenset object\n",
        "getattr()     #Returns the value of the specified attribute (property or method)\n",
        "globals()     #Returns the current global symbol table as a dictionary\n",
        "hasattr()     #Returns True if the specified object has the specified attribute (property/method)\n",
        "hash()        #Returns the hash value of a specified object\n",
        "help()        #Executes the built-in help system\n",
        "hex()         #Converts a number into a hexadecimal value\n",
        "id()          #Returns the id of an object\n",
        "input()       #Allowing user input\n",
        "int()         #Returns an integer number\n",
        "isinstance()  #Returns True if a specified object is an instance of a specified object\n",
        "issubclass()  #Returns True if a specified class is a subclass of a specified object\n",
        "iter()        #Returns an iterator object\n",
        "len()         #Returns the length of an object\n",
        "list()        #Returns a list\n",
        "locals()      #Returns an updated dictionary of the current local symbol table\n",
        "map()         #Returns the specified iterator with the specified function applied to each item\n",
        "max()         #Returns the largest item in an iterable\n",
        "memoryview()  #Returns a memory view object\n",
        "min()         #Returns the smallest item in an iterable\n",
        "next()        #Returns the next item in an iterable\n",
        "object()      #Returns a new object\n",
        "oct()         #Converts a number into an octal\n",
        "open()        #Opens a file and returns a file object\n",
        "ord()         #Convert an integer representing the Unicode of the specified character\n",
        "pow()         #Returns the value of x to the power of y\n",
        "print()       #Prints to the standard output device\n",
        "property()    #Gets, sets, deletes a property\n",
        "range()       #Returns a sequence of numbers, starting from 0 and increments by 1 (by default)\n",
        "repr()        #Returns a readable version of an object\n",
        "reversed()    #Returns a reversed iterator\n",
        "round()       #Rounds a numbers\n",
        "set()         #Returns a new set object\n",
        "zip()         #Returns an iterator, from two or more iterators"
      ]
    },
    {
      "cell_type": "code",
      "execution_count": null,
      "metadata": {
        "id": "iJpH-OS5y3_f"
      },
      "outputs": [],
      "source": [
        "def west(aa = 2, bb=6):\n",
        "    return aa*bb\n",
        "west()"
      ]
    },
    {
      "cell_type": "code",
      "execution_count": null,
      "metadata": {
        "id": "BZ3fMQggzrFc"
      },
      "outputs": [],
      "source": [
        "def west(aa = 2, bb=6):\n",
        "    return aa*bb\n",
        "west(aa = 6, bb= 7)"
      ]
    },
    {
      "cell_type": "code",
      "execution_count": null,
      "metadata": {
        "id": "n28gslFDzzue"
      },
      "outputs": [],
      "source": [
        "# * -> iterable\n",
        "# ** -> dictionaty"
      ]
    },
    {
      "cell_type": "code",
      "execution_count": null,
      "metadata": {
        "id": "CPx-MzSOpEja"
      },
      "outputs": [],
      "source": [
        "def en (x,y,*c):\n",
        "     print(c)\n",
        "     print(f'{x} {y}')\n",
        "en(3,4,5,6,7,9,10,25,96)"
      ]
    },
    {
      "cell_type": "code",
      "execution_count": null,
      "metadata": {
        "id": "NNj_F2EPcR49"
      },
      "outputs": [],
      "source": [
        "# *iterable\n",
        "def addition (a,b,c):\n",
        "    _sum = a+b+c\n",
        "    return _sum\n",
        "addition (*[1,2,3])\n"
      ]
    },
    {
      "cell_type": "code",
      "execution_count": null,
      "metadata": {
        "id": "_0z_4LP46hsQ"
      },
      "outputs": [],
      "source": [
        "# *arg\n",
        "def jam(*numbers):\n",
        "  a= list((numbers))\n",
        "  j = 0\n",
        "  for i in range(len(a)):\n",
        "    j += a[i]\n",
        "  return j\n",
        "jam(1,2,4,9,8,7,10,12,32)"
      ]
    },
    {
      "cell_type": "code",
      "execution_count": null,
      "metadata": {
        "id": "jLyOpzTPDqog"
      },
      "outputs": [],
      "source": [
        "n = jam\n",
        "n(2,4,5)"
      ]
    },
    {
      "cell_type": "code",
      "execution_count": null,
      "metadata": {
        "id": "63c2ZcZtjfYH"
      },
      "outputs": [],
      "source": [
        "# ** ditionary\n",
        "l1 = ['a','b','c']\n",
        "l2 = [1,2,3]\n",
        "l = dict(zip(l1,l2))\n",
        "print(l)\n",
        "addition(**l)"
      ]
    },
    {
      "cell_type": "code",
      "execution_count": null,
      "metadata": {
        "id": "lhyMUzswvv2X"
      },
      "outputs": [],
      "source": [
        "def _return(**l):\n",
        "    print(l)\n",
        "_return(a = 2,b=9,c=4)"
      ]
    },
    {
      "cell_type": "code",
      "execution_count": null,
      "metadata": {
        "id": "h8TkrvejFCX7"
      },
      "outputs": [],
      "source": [
        "def func(a,*,b,c):\n",
        "    print('a =',a,'b =',b,'c =',c)\n",
        "func(1,b=2,c=3)"
      ]
    },
    {
      "cell_type": "code",
      "execution_count": null,
      "metadata": {
        "id": "ihzdHnfC7JFZ"
      },
      "outputs": [],
      "source": [
        "def keyargs (**student):\n",
        "  print(\"His last name is \" + student[\"lname\"])\n",
        "\n",
        "keyargs(fname = \"Mohammad\", lname = \"Janati\")"
      ]
    },
    {
      "cell_type": "code",
      "execution_count": null,
      "metadata": {
        "id": "BlmEcSKI8ZCL"
      },
      "outputs": [],
      "source": [
        "def sample (a,b=0, *c, **d):\n",
        "    print('a =',a,'b =',b,'c =',c,'d =',d)\n",
        "sample(2,5,5,7,8,9,c=9,f=10)"
      ]
    },
    {
      "cell_type": "code",
      "execution_count": null,
      "metadata": {
        "id": "jjp0wGINE01w"
      },
      "outputs": [],
      "source": [
        "def func(a, b, /, c):\n",
        "    print (\"a:\", a)\n",
        "    print(\"b:\", b)\n",
        "    print(\"c:\", c)\n",
        "func(1,2,c=3)"
      ]
    },
    {
      "cell_type": "code",
      "execution_count": null,
      "metadata": {
        "id": "uGdrSoGUE-ib"
      },
      "outputs": [],
      "source": [
        "# doc-string\n",
        "def my_func():\n",
        "    \"\"\" baraye hal masael \"\"\"\n",
        "    return 'hi'"
      ]
    },
    {
      "cell_type": "code",
      "execution_count": null,
      "metadata": {
        "id": "lnu4OXiod2yZ"
      },
      "outputs": [],
      "source": [
        "my_func()"
      ]
    },
    {
      "cell_type": "code",
      "execution_count": null,
      "metadata": {
        "id": "AY3Rqf0jdSdb"
      },
      "outputs": [],
      "source": [
        "filter.__doc__"
      ]
    },
    {
      "cell_type": "code",
      "execution_count": null,
      "metadata": {
        "collapsed": true,
        "id": "_ueuMz_tdvsG"
      },
      "outputs": [],
      "source": [
        "help(filter)"
      ]
    },
    {
      "cell_type": "code",
      "execution_count": null,
      "metadata": {
        "id": "sS21l1_boDzs"
      },
      "outputs": [],
      "source": [
        "# annotations\n",
        "def zea (x:int , y:int , z:int) -> int:\n",
        "    return z,y,x\n",
        "type(zea(4,5,6))"
      ]
    },
    {
      "cell_type": "markdown",
      "metadata": {
        "id": "WhCj5acGuvEh"
      },
      "source": [
        "### First Class functions"
      ]
    },
    {
      "cell_type": "markdown",
      "metadata": {
        "id": "N2zTwyoJu4t0"
      },
      "source": [
        "1. Can be created at runtime\n",
        "2. Can be assigned to a variable\n",
        "3. Can be passed as an argument to a funtion\n",
        "4. Can be returned as a result from a function\n",
        "5. Can have properties and methods"
      ]
    },
    {
      "cell_type": "code",
      "execution_count": null,
      "metadata": {
        "id": "C_nC_qrZOiiK"
      },
      "outputs": [],
      "source": [
        "# Can Be Creathed at Runtime and Can Be Assigned to a Variable\n",
        "def Outer(a):\n",
        "    return a**2\n",
        "    def Inner(b):\n",
        "        return b**2\n",
        "        Inner(a)\n",
        "Outer(8)"
      ]
    },
    {
      "cell_type": "code",
      "execution_count": null,
      "metadata": {
        "id": "9AvPRXcAPEJu"
      },
      "outputs": [],
      "source": [
        "# Can be passed as an\n",
        "def ascending(mylist):\n",
        "    print(sorted(mylist))\n",
        "\n",
        "def descending(mylist) :\n",
        "    print(sorted(mylist, reverse=True))\n",
        "\n",
        "def mysort(f, mylist) :\n",
        "    f(mylist)\n",
        "\n",
        "mysort(ascending,[6,3,9,2,1,7])\n",
        "mysort(descending,[4,9,6,3,7])"
      ]
    },
    {
      "cell_type": "markdown",
      "metadata": {
        "id": "sJN_uBKpPHfM"
      },
      "source": [
        "### Namspaces\n",
        "\n",
        "\n",
        "*   Built-in\n",
        "*   Global\n",
        "*   Enclosed\n",
        "*   Local\n",
        "\n"
      ]
    },
    {
      "cell_type": "code",
      "execution_count": null,
      "metadata": {
        "id": "6rjqyEOihVqz"
      },
      "outputs": [],
      "source": [
        "print(dir(__builtins__))"
      ]
    },
    {
      "cell_type": "code",
      "execution_count": null,
      "metadata": {
        "id": "Ra2krjmziFs-"
      },
      "outputs": [],
      "source": [
        "print(globals())"
      ]
    },
    {
      "cell_type": "code",
      "execution_count": null,
      "metadata": {
        "id": "q_zzp4N_jt2A"
      },
      "outputs": [],
      "source": [
        "def a():\n",
        "    x , y = 4,6\n",
        "    print(locals())\n",
        "a()"
      ]
    },
    {
      "cell_type": "code",
      "execution_count": null,
      "metadata": {
        "id": "N7yNUlGcxT3k"
      },
      "outputs": [],
      "source": [
        "x = 5\n",
        "def A() :\n",
        "    x=2\n",
        "    def  B():\n",
        "        global x\n",
        "        x=10\n",
        "        print(x)\n",
        "    B()\n",
        "A()"
      ]
    },
    {
      "cell_type": "code",
      "execution_count": null,
      "metadata": {
        "id": "qqEOJrjKzrhh"
      },
      "outputs": [],
      "source": [
        "# Enclosed\n",
        "x = 5\n",
        "def A() :\n",
        "    x=2\n",
        "    def  B():\n",
        "        nonlocal x\n",
        "        x += 1\n",
        "        print(x)\n",
        "    B()\n",
        "A()"
      ]
    },
    {
      "cell_type": "code",
      "execution_count": null,
      "metadata": {
        "id": "y0_-4mQcHapW"
      },
      "outputs": [],
      "source": [
        "# lambda\n",
        "f = (lambda x: x**2)\n",
        "f(25)"
      ]
    },
    {
      "cell_type": "code",
      "execution_count": null,
      "metadata": {
        "id": "662HwLVyHcFf"
      },
      "outputs": [],
      "source": [
        "# filter\n",
        "list1 = [5,7457,23,35,100,24,632]\n",
        "list1 = list(filter(lambda x: x>100,list1))\n",
        "list1"
      ]
    },
    {
      "cell_type": "code",
      "execution_count": null,
      "metadata": {
        "id": "K5f8wYAQHdRG"
      },
      "outputs": [],
      "source": [
        "# map\n",
        "my_l = [1,2,4,5,6,9]\n",
        "my_l = list(map(lambda x: x*3,my_l))\n",
        "my_l"
      ]
    },
    {
      "cell_type": "code",
      "execution_count": null,
      "metadata": {
        "id": "mc84WZaQHtVJ"
      },
      "outputs": [],
      "source": [
        "# reduce\n",
        "from functools import reduce\n",
        "l1 = [5,6,8,20]\n",
        "l1 = reduce(lambda x,y:x+y,l1)\n",
        "l1"
      ]
    },
    {
      "cell_type": "code",
      "execution_count": null,
      "metadata": {
        "id": "GknsIq7rWe6f"
      },
      "outputs": [],
      "source": [
        "# sorted\n",
        "def fun(x):\n",
        "    return x**2\n",
        "l=[4,1,2,3,4,8,7,1,25,9]\n",
        "print(l)\n",
        "new = sorted(l, key=fun)\n",
        "print(new)"
      ]
    },
    {
      "cell_type": "code",
      "execution_count": null,
      "metadata": {
        "id": "Op2_NAzmITv_"
      },
      "outputs": [],
      "source": [
        "# iterator\n",
        "i=[1,2,3]\n",
        "i=iter(i) # or i.__iter__(i)\n",
        "print(i.__next__())\n",
        "print(i.__next__())\n",
        "print(next(i))"
      ]
    },
    {
      "cell_type": "code",
      "execution_count": null,
      "metadata": {
        "id": "fXJAPpPX3trw"
      },
      "outputs": [],
      "source": [
        "def cube(x): return x*x*x\n",
        "\n",
        "cube_v2 = lambda x : x*x*x\n",
        "\n",
        "print(cube(7))\n",
        "print(cube_v2(7))"
      ]
    },
    {
      "cell_type": "markdown",
      "metadata": {
        "id": "uEcy1dJt18sj"
      },
      "source": [
        "### decorators"
      ]
    },
    {
      "cell_type": "markdown",
      "metadata": {
        "id": "aYIpUA0S32q3"
      },
      "source": [
        "A decorator is a function that takes a function as its only parameter and returns a function. This is helpful to “wrap” functionality with the same code over and over again. Decorators give you the ability to modify the behavior of functions without altering their source code, providing a concise and flexible way to enhance and extend their functionality."
      ]
    },
    {
      "cell_type": "markdown",
      "metadata": {
        "id": "LwTDHWoz6beO"
      },
      "source": [
        "A decorator is a design pattern that allows you to modify the functionality of a function by wrapping it in another function.\n",
        "\n",
        "The **outer** function is called the decorator, which takes the original function as an argument and returns a modified version of it.\n",
        "\n"
      ]
    },
    {
      "cell_type": "markdown",
      "metadata": {
        "id": "1MYJSjF_78Lh"
      },
      "source": [
        "A Python decorator is a function that takes in a function and returns it by adding some functionality.\n",
        "\n",
        "Basically, a decorator takes in a function, adds some functionality and returns it."
      ]
    },
    {
      "cell_type": "code",
      "execution_count": null,
      "metadata": {
        "id": "fb8PUV6e2BWP"
      },
      "outputs": [],
      "source": [
        "# Assign function to a variable\n",
        "def cube (x):\n",
        "    return x**3\n",
        "\n",
        "a = cube\n",
        "a(3)"
      ]
    },
    {
      "cell_type": "code",
      "execution_count": null,
      "metadata": {
        "id": "AUD0zJE59fQx"
      },
      "outputs": [],
      "source": [
        "# Passing function as Parameters\n",
        "def apply(func, value):\n",
        "    return func(value)\n",
        "\n",
        "def square(x):\n",
        "    return x ** 2\n",
        "\n",
        "result = apply(square, 5)\n",
        "print(result)"
      ]
    },
    {
      "cell_type": "code",
      "execution_count": null,
      "metadata": {
        "id": "GcAPO4eG7j5j"
      },
      "outputs": [],
      "source": [
        "# function inside another function and returning function\n",
        "def outer(x):\n",
        "    def inner(y):\n",
        "        return x + y\n",
        "    return inner\n",
        "add_five = outer(5)\n",
        "result = add_five(6)\n",
        "result"
      ]
    },
    {
      "cell_type": "code",
      "execution_count": null,
      "metadata": {
        "id": "wnJ3booYm9VY"
      },
      "outputs": [],
      "source": [
        "# Structure\n",
        "from functools import wraps\n",
        "def decorator(func):\n",
        "    wraps(func)\n",
        "    def wrapper_decorator(*args,**kwargs):\n",
        "        # Do sth\n",
        "        value = func(*args,**kwargs)\n",
        "        # Do sth\n",
        "        return value\n",
        "    return wrapper_decorator"
      ]
    },
    {
      "cell_type": "code",
      "execution_count": null,
      "metadata": {
        "id": "iF8P1WN92SNJ"
      },
      "outputs": [],
      "source": [
        "def hi():\n",
        "    print(\"now you are inside the hi() function\")\n",
        "\n",
        "    def greet():\n",
        "        return \"now you are in the greet() function\"\n",
        "\n",
        "    def welcome():\n",
        "        return \"now you are in the welcome() function\"\n",
        "\n",
        "    print(greet())\n",
        "    print(welcome())\n",
        "    print(\"now you are back in the hi() function\")\n",
        "\n",
        "hi()"
      ]
    },
    {
      "cell_type": "code",
      "execution_count": null,
      "metadata": {
        "id": "zTQPSxP5zk_0"
      },
      "outputs": [],
      "source": [
        "def easy(func):\n",
        "    def medium():\n",
        "        print('@'*10)\n",
        "        func()\n",
        "    return medium\n",
        "\n",
        "def func():\n",
        "    print('Hi')\n",
        "d = easy(func)\n",
        "d()"
      ]
    },
    {
      "cell_type": "markdown",
      "metadata": {
        "id": "lzu_1KJwKAKl"
      },
      "source": [
        "**Example 1**\n",
        "\n",
        "Functions within functions\n",
        "\n",
        "Returning functions from within functions\n",
        "\n",
        "Giving a function as an argument to another function"
      ]
    },
    {
      "cell_type": "code",
      "execution_count": null,
      "metadata": {
        "id": "oyoI24L6EloH"
      },
      "outputs": [],
      "source": [
        "def decorator(func):\n",
        "    def wrapTheFunction():\n",
        "        print(\"I am doing some boring work before executing a_func()\")\n",
        "        func()\n",
        "        print(\"I am doing some boring work after executing a_func()\")\n",
        "    return wrapTheFunction\n",
        "\n",
        "def function_requiring_decoration():\n",
        "    print(\"I am the function which needs some decoration to remove my foul smell\")\n",
        "\n",
        "function_requiring_decoration()\n",
        "#outputs: \"I am the function which needs some decoration to remove my foul smell\"\n",
        "\n",
        "function_requiring_decoration = decorator(function_requiring_decoration)\n",
        "#now function_requiring_decoration is wrapped by wrapTheFunction()\n",
        "\n",
        "function_requiring_decoration()"
      ]
    },
    {
      "cell_type": "code",
      "execution_count": null,
      "metadata": {
        "id": "GiY390bBFi37"
      },
      "outputs": [],
      "source": [
        "@decorator\n",
        "def function_requiring_decoration():\n",
        "    \"\"\"Hey you! Decorate me!\"\"\"\n",
        "    print(\"I am the function which needs some decoration to \"\n",
        "          \"remove my foul smell\")\n",
        "\n",
        "function_requiring_decoration()\n",
        "\n",
        "#the @decorator is just a short way of saying:\n",
        "function_requiring_decoration = decorator(function_requiring_decoration)"
      ]
    },
    {
      "cell_type": "code",
      "execution_count": null,
      "metadata": {
        "id": "-EFM8jEfKonF"
      },
      "outputs": [],
      "source": [
        "print(a_function_requiring_decoration.__name__)\n",
        "# Output: wrapTheFunction"
      ]
    },
    {
      "cell_type": "markdown",
      "metadata": {
        "id": "bw0ajSoo6WJY"
      },
      "source": [
        "That’s not what we expected! Its name is “a_function_requiring_decoration”. Well, our function was replaced by wrapTheFunction. It overrode the name and docstring of our function. Luckily, Python provides us a simple function to solve this problem and that is functools.wraps. Let’s modify our previous example to use functools.wraps:"
      ]
    },
    {
      "cell_type": "code",
      "execution_count": null,
      "metadata": {
        "id": "3ZSPfOJb6Sv0"
      },
      "outputs": [],
      "source": [
        "from functools import wraps\n",
        "\n",
        "def a_new_decorator(a_func):\n",
        "    @wraps(a_func)\n",
        "    def wrapTheFunction():\n",
        "        print(\"I am doing some boring work before executing a_func()\")\n",
        "        a_func()\n",
        "        print(\"I am doing some boring work after executing a_func()\")\n",
        "    return wrapTheFunction\n",
        "\n",
        "@a_new_decorator\n",
        "def a_function_requiring_decoration():\n",
        "    \"\"\"Hey yo! Decorate me!\"\"\"\n",
        "    print(\"I am the function which needs some decoration to \"\n",
        "          \"remove my foul smell\")\n",
        "\n",
        "print(a_function_requiring_decoration.__name__)\n",
        "# Output: a_function_requiring_decoration"
      ]
    },
    {
      "cell_type": "markdown",
      "metadata": {
        "id": "IedNMQZs67em"
      },
      "source": [
        "**Example 2**"
      ]
    },
    {
      "cell_type": "code",
      "execution_count": null,
      "metadata": {
        "id": "7f7vhYegJ9-I"
      },
      "outputs": [],
      "source": [
        "def add_one_decorator(func):\n",
        "    def add_one(*args, **kwargs):\n",
        "        value = func(*args,**kwargs)\n",
        "        return value + 1\n",
        "    return add_one\n",
        "@add_one_decorator\n",
        "def add(a,b):\n",
        " \treturn a+b\n",
        "\n",
        "print(add(1,2)) # 4"
      ]
    },
    {
      "cell_type": "code",
      "execution_count": null,
      "metadata": {
        "id": "kvcfxEV01kxS"
      },
      "outputs": [],
      "source": [
        "def outer_function():\n",
        "\tprint(\"outer_function is called\")\n",
        "\n",
        "\tdef inner_function():\n",
        "    \t\tprint(\"inner_function is called\")\n",
        "\n",
        "\treturn inner_function\n",
        "returned_function = outer_function()\n",
        "returned_function()"
      ]
    },
    {
      "cell_type": "code",
      "execution_count": null,
      "metadata": {
        "id": "Z7OUL3rtAt6B"
      },
      "outputs": [],
      "source": [
        "def create_adder(x):\n",
        "    def adder(y):\n",
        "        return x+y\n",
        "\n",
        "    return adder\n",
        "\n",
        "add_15 = create_adder(15)\n",
        "add_15(10)"
      ]
    },
    {
      "cell_type": "markdown",
      "metadata": {
        "id": "jfqmodDO3XRk"
      },
      "source": [
        "**Caching**\n",
        "\n",
        "If we have an application that requires running the same function multiple times with the same arguments, returning the same value, it can quickly become inefficient and take up unnecessary resources.\n",
        "\n",
        "To prevent this, it can be useful to store the arguments used and the returned value of the function any time it is called, and simply re-use the returned value if we have already called the function with the same arguments.\n",
        "\n",
        "In Python, this can be implemented by using the @lru_cache decorator from the functools module which comes installed with Python."
      ]
    },
    {
      "cell_type": "code",
      "execution_count": null,
      "metadata": {
        "id": "IvQ-Orxp3Uij"
      },
      "outputs": [],
      "source": [
        "from functools import lru_cache\n",
        "\n",
        "@lru_cache\n",
        "def fibonacci(n):\n",
        "    if n <= 1:\n",
        "        return n\n",
        "    return fibonacci(n - 1) + fibonacci(n - 2)\n",
        "fibonacci(10)"
      ]
    },
    {
      "cell_type": "markdown",
      "metadata": {
        "id": "O0O6PSF1BBdp"
      },
      "source": [
        "#### [10 Important decorators](https://www.geeksforgeeks.org/top-python-built-in-decorators-that-optimize-python-code-significantly/)\n",
        "\n",
        "1. @classmethod\n",
        "Class methods are methods that are bound to a particular class. These methods are not tied to any instances of the class. The ‘@classmethod’ is a built-in decorator that is used to create a class method.\n",
        "\n",
        "2. @abstractmethod\n",
        "Abstract methods are declared inside an Abstract class without any method definition. This method is meant to be implemented by the base class who implements the parent abstract class. The @abstractmethod decorator provided by abc module is used to implement abstract methods.\n",
        "\n",
        "3. @staticmethod\n",
        "Static methods are simply utility methods that are not bound to a class or an instance of the class. The ‘@staticmethod‘ is a built-in decorator that is used to create a static method.\n",
        "\n",
        "4. @atexit.register\n",
        "The ‘@atexit.register’ decorator is used to call the function when the program is exiting. The functionality is provided by the ‘atexit’ module. This function can be used to perform the clean-up tasks, before the program exits. Clean-ups are the tasks that have been done in order to release the resources such as opened files or database connections, that were being used during the program execution.\n",
        "\n",
        "5. @typing.final\n",
        "The ‘@final’  decorator from the typing module is used to define the final class or method. Final classes cannot be inherited and in a similar way, final methods cannot be overridden.\n",
        "\n",
        "6. @enum.unique\n",
        "Enumeration or Enum is a set of unique names that have a unique value. They are useful if we want to define a set of constants that have a specific meaning. The ‘@unique’ decorator provided by enum module is used to ensure that enumeration members are unique.\n",
        "\n",
        "7. @property\n",
        "Getters and Setters are used within the class to access or update the value of the object variable within that class. The ‘@property’ decorator is used to define getters and setters for class attributes.\n",
        "\n",
        "8. @enum.verify\n",
        "Introduced in Python 3.11, The ‘@enum.verify‘ decorator in Python is used to ensure that the values of the members of an enumeration follow a particular pattern or constraint. Some predefined constraints provided by the enum include,\n",
        "CONTINUES: The CONTINUES modules help ensure that there is no missing value between the highest and lowest value.\n",
        "UNIQUE: The UNIQUE modules help ensure that each value has only one name\n",
        "\n",
        "9. @singledispatch\n",
        "A function with the same name but different behavior with respect to the type of argument is a generic function.  The ‘@singledispatch’ decorator in Python is used to create a generic function. This allows an individual to create an overloaded function that can work with multiple types of parameters.\n",
        "\n",
        "10. @lru_cache\n",
        "This decorator returns the same as lru_cache(maxsize=None) by creating a thin wrapper around a dictionary lookup for the function arguments. Because it never needs to remove old values, this is smaller and faster than lru_cache() with a size limit."
      ]
    },
    {
      "cell_type": "markdown",
      "metadata": {
        "id": "54ZJIjP20O9h"
      },
      "source": [
        "### generators"
      ]
    },
    {
      "cell_type": "markdown",
      "metadata": {
        "id": "UgXpUYykcm2Z"
      },
      "source": [
        "\n",
        "\n",
        "A generator function in Python is defined like a normal function, but whenever it needs to generate a value, it does so with the yield keyword rather than return.generator functions are a special kind of function that return a lazy iterator. These are objects that you can loop over like a list. However, unlike lists, lazy iterators do not store their contents in memory.\n",
        "\n",
        "A generator is a function that returns an iterator that produces a sequence of values when iterated over.\n",
        "\n",
        "\n",
        "Generators are best for calculating large sets of results (particularly calculations involving loops themselves) where you don’t want to allocate the memory for all results at the same time.\n",
        "\n",
        "Generators are iterators, but you can only iterate over them once.\n",
        "\n"
      ]
    },
    {
      "cell_type": "code",
      "execution_count": null,
      "metadata": {
        "id": "IIQGsM55Q5We"
      },
      "outputs": [],
      "source": [
        "def generator_name(arg):\n",
        "    # statements\n",
        "    yield something"
      ]
    },
    {
      "cell_type": "code",
      "execution_count": null,
      "metadata": {
        "id": "TZPK8Vk-YcHr"
      },
      "outputs": [],
      "source": [
        "def simpleGeneratorFun():\n",
        "    yield 1\n",
        "    yield 2\n",
        "    yield 3\n",
        "\n",
        "simpleGeneratorFun()"
      ]
    },
    {
      "cell_type": "code",
      "execution_count": null,
      "metadata": {
        "id": "DL9ISH5A4Dyh"
      },
      "outputs": [],
      "source": [
        "for value in simpleGeneratorFun():\n",
        "    print(value)"
      ]
    },
    {
      "cell_type": "code",
      "execution_count": null,
      "metadata": {
        "id": "zKhLrhTX4TbA"
      },
      "outputs": [],
      "source": [
        "x = simpleGeneratorFun()\n",
        "\n",
        "# Iterating over the generator object using next\n",
        "\n",
        "print(next(x))\n",
        "print(next(x))\n",
        "print(next(x))"
      ]
    },
    {
      "cell_type": "code",
      "execution_count": null,
      "metadata": {
        "id": "UXmpqNlzXEcG"
      },
      "outputs": [],
      "source": [
        "(expression for item in iterable)"
      ]
    },
    {
      "cell_type": "code",
      "execution_count": null,
      "metadata": {
        "id": "khN7pB7V4kU4"
      },
      "outputs": [],
      "source": [
        "generator_exp = (i * 5 for i in range(5) if i%2==0)\n",
        "\n",
        "for i in generator_exp:\n",
        "    print(i)"
      ]
    },
    {
      "cell_type": "code",
      "execution_count": null,
      "metadata": {
        "id": "I4vCRflH0S-N"
      },
      "outputs": [],
      "source": [
        "def my_generator():\n",
        "    for i in range(1,10):\n",
        "        yield i**2\n",
        "g = my_generator()\n",
        "print(next(g))\n",
        "print(next(g))"
      ]
    },
    {
      "cell_type": "code",
      "execution_count": null,
      "metadata": {
        "id": "fd0-5LSt47o3"
      },
      "outputs": [],
      "source": [
        "for j in g:\n",
        "    print(j)"
      ]
    },
    {
      "cell_type": "code",
      "execution_count": null,
      "metadata": {
        "id": "5bt2YlGYeYFj"
      },
      "outputs": [],
      "source": [
        "generator_exp = (i * 5 for i in range(5) if i%2==0)\n",
        "\n",
        "for i in generator_exp:\n",
        "    print(i)"
      ]
    },
    {
      "cell_type": "markdown",
      "metadata": {
        "id": "jt4rZyR15e3G"
      },
      "source": [
        "### coroutine"
      ]
    },
    {
      "cell_type": "code",
      "execution_count": null,
      "metadata": {
        "id": "RS6dOiwN6r0c"
      },
      "outputs": [],
      "source": [
        "def my_generator() :\n",
        "    print('Start')\n",
        "    while True:\n",
        "        name = yield\n",
        "        print('My name is', name)"
      ]
    },
    {
      "cell_type": "code",
      "execution_count": null,
      "metadata": {
        "id": "DDK1lRkp654A"
      },
      "outputs": [],
      "source": [
        "g = my_generator()\n",
        "next(g)\n",
        "next(g)"
      ]
    },
    {
      "cell_type": "code",
      "execution_count": null,
      "metadata": {
        "id": "1P4hHDWi7fpe"
      },
      "outputs": [],
      "source": [
        "g.send('reza')\n",
        "# قبل از سند حتما باید نکست باشه"
      ]
    },
    {
      "cell_type": "markdown",
      "metadata": {
        "id": "OsDwJ8MBKSPZ"
      },
      "source": [
        "### attributes"
      ]
    },
    {
      "cell_type": "code",
      "execution_count": null,
      "metadata": {
        "id": "_87t2VjVC1I0"
      },
      "outputs": [],
      "source": [
        "def ab(li):\n",
        "    return sum(li)\n",
        "setattr(ab,'name','Bye')"
      ]
    },
    {
      "cell_type": "markdown",
      "metadata": {
        "id": "DJV122AnKPjI"
      },
      "source": [
        "### recursive"
      ]
    },
    {
      "cell_type": "code",
      "execution_count": null,
      "metadata": {
        "id": "Cn6M89CUFFzZ"
      },
      "outputs": [],
      "source": [
        "def recursive():\n",
        "    if condition:\n",
        "        return ...\n",
        "    recursive()\n",
        "recursive()"
      ]
    },
    {
      "cell_type": "code",
      "execution_count": null,
      "metadata": {
        "id": "Z8drH9bmJp8-"
      },
      "outputs": [],
      "source": [
        "def fact(x):\n",
        "    if x==1 or x==0:\n",
        "        return 1\n",
        "    return x*fact(x-1)\n",
        "fact(5)"
      ]
    },
    {
      "cell_type": "markdown",
      "metadata": {
        "id": "LsE_cWGVEx_v"
      },
      "source": [
        "![Screenshot 2024-03-13 221744.png](data:image/png;base64,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)"
      ]
    },
    {
      "cell_type": "code",
      "execution_count": null,
      "metadata": {
        "id": "Bhyk6xV-JorK"
      },
      "outputs": [],
      "source": [
        "from time import sleep\n",
        "def rever(n):\n",
        "    if n<=0:\n",
        "        return\n",
        "    sleep(1)\n",
        "    print(n)\n",
        "    n -=1\n",
        "    rever(n)\n",
        "rever(10)"
      ]
    },
    {
      "cell_type": "code",
      "execution_count": null,
      "metadata": {
        "id": "4EF705EXvyG-"
      },
      "outputs": [],
      "source": [
        "# fibonaci\n",
        "\n",
        "def fib(n):\n",
        "    if n==0 or n==1:\n",
        "        return n\n",
        "    return fib(n-1) + fib(n-2)\n",
        "fib(10)"
      ]
    },
    {
      "cell_type": "markdown",
      "metadata": {
        "id": "SlpiKqTRMxdM"
      },
      "source": []
    },
    {
      "cell_type": "markdown",
      "metadata": {
        "id": "J56q2Tlfw5lH"
      },
      "source": [
        "# **7. Class**"
      ]
    },
    {
      "cell_type": "code",
      "execution_count": null,
      "metadata": {
        "id": "vrOzeIWyfYaq"
      },
      "outputs": [],
      "source": [
        "class PascalCase:\n",
        "    pass\n",
        "\n",
        "def snake_case():\n",
        "    pass"
      ]
    },
    {
      "cell_type": "code",
      "source": [
        "# Making an object (instantiate)\n",
        "class Point:\n",
        "    pass\n",
        "\n",
        "p1 = Point()\n",
        "p2 = Point()\n",
        "\n",
        "print(p1);print(p2)"
      ],
      "metadata": {
        "colab": {
          "base_uri": "https://localhost:8080/"
        },
        "id": "If5IRuq7BAt-",
        "outputId": "4c35f9a0-815a-40b9-f4a7-b5f7f969d325"
      },
      "execution_count": null,
      "outputs": [
        {
          "output_type": "stream",
          "name": "stdout",
          "text": [
            "<__main__.Point object at 0x78f49daa1d50>\n",
            "<__main__.Point object at 0x78f49daa0730>\n"
          ]
        }
      ]
    },
    {
      "cell_type": "code",
      "source": [
        "# Adding attributes to an object\n",
        "# <object>.<attribute> = <value>\n",
        "p1.x , p1.y = 5,3\n",
        "p2.x , p2.y = 10,12\n",
        "\n",
        "p2.z: float = 10.5"
      ],
      "metadata": {
        "id": "YjgA3fD7ChFL"
      },
      "execution_count": null,
      "outputs": []
    },
    {
      "cell_type": "code",
      "source": [
        "class Point:\n",
        "    def reset(self):\n",
        "        self.x = 0\n",
        "        self.y = 0"
      ],
      "metadata": {
        "id": "6rf7CxfkTNyP"
      },
      "execution_count": null,
      "outputs": []
    },
    {
      "cell_type": "code",
      "source": [
        "p1 = Point()\n",
        "p2 = Point()\n",
        "\n",
        "p1.reset()"
      ],
      "metadata": {
        "id": "y3DTXrE0Ue2Y"
      },
      "execution_count": null,
      "outputs": []
    },
    {
      "cell_type": "code",
      "source": [
        "Point.reset(p1)"
      ],
      "metadata": {
        "id": "UXoOHmfZWndc"
      },
      "execution_count": null,
      "outputs": []
    },
    {
      "cell_type": "code",
      "source": [
        "from math import hypot\n",
        "class Point:\n",
        "    def move(self, x:float, y:float) -> None:\n",
        "        self.x = x\n",
        "        self.y = y\n",
        "    def reset(self):\n",
        "        self.move(0,0)\n",
        "    def distance(self, other:Point) ->float :\n",
        "        return hypot(self.x - other.x, self.y - other.y)"
      ],
      "metadata": {
        "id": "UOkdIDixWrQX"
      },
      "execution_count": null,
      "outputs": []
    },
    {
      "cell_type": "code",
      "source": [
        "p1 = Point()\n",
        "p2 = Point()\n",
        "\n",
        "p1.reset()\n",
        "p2.move(3,4)\n",
        "p1.distance(p2)"
      ],
      "metadata": {
        "colab": {
          "base_uri": "https://localhost:8080/"
        },
        "id": "03CJklBRXjKW",
        "outputId": "0105a37c-dc95-44ac-dcf8-2ab46423761b"
      },
      "execution_count": null,
      "outputs": [
        {
          "output_type": "execute_result",
          "data": {
            "text/plain": [
              "5.0"
            ]
          },
          "metadata": {},
          "execution_count": 15
        }
      ]
    },
    {
      "cell_type": "code",
      "source": [
        "from math import hypot\n",
        "class Point:\n",
        "\n",
        "    #constructor\n",
        "    def __init__(self,x,y):\n",
        "        self.x = x\n",
        "        self.y = y\n",
        "    # init should return none\n",
        "\n",
        "    def move(self, x:float, y:float) -> None:\n",
        "        self.x = x\n",
        "        self.y = y\n",
        "    def reset(self):\n",
        "        self.move(0,0)\n",
        "    def distance(self, other:Point) ->float :\n",
        "        return hypot(self.x - other.x, self.y - other.y)"
      ],
      "metadata": {
        "id": "uKzhWaPFug7O"
      },
      "execution_count": null,
      "outputs": []
    },
    {
      "cell_type": "code",
      "source": [
        "p3 = Point(5,6)"
      ],
      "metadata": {
        "id": "5AJRMzJCvR01"
      },
      "execution_count": null,
      "outputs": []
    },
    {
      "cell_type": "code",
      "source": [
        "from random import randrange\n",
        "\n",
        "class BankAccount:\n",
        "    account_numbers = set()\n",
        "    def __init__(self, name):\n",
        "        self.name = name\n",
        "        self.balance = 0\n",
        "        self.account_number = 0\n",
        "        while True:\n",
        "            if (an:= randrange(10000,100000)) not in BankAccount.account_numbers:\n",
        "                self.account_numbers.add(an)\n",
        "                self.account_number = an\n",
        "                break\n",
        "ali = BankAccount('Ali')\n",
        "print(ali.account_numbers)\n",
        "print(BankAccount.account_numbers)"
      ],
      "metadata": {
        "colab": {
          "base_uri": "https://localhost:8080/"
        },
        "id": "mbd-d6JKK_1K",
        "outputId": "0ef4d168-cc7e-478a-f734-f463ebf802ed"
      },
      "execution_count": null,
      "outputs": [
        {
          "output_type": "stream",
          "name": "stdout",
          "text": [
            "{62447}\n",
            "{62447}\n"
          ]
        }
      ]
    },
    {
      "cell_type": "code",
      "source": [
        "from typing import List\n",
        "class User:\n",
        "    def __init__(self, user_name:str, email:str, password:str) -> None:\n",
        "\n",
        "        all_users: List[\"User\"] = []\n",
        "        self.user_name = user_name\n",
        "        self.email = email\n",
        "        self.password = password\n",
        "\n",
        "a = User('a','b','123')\n",
        "b = User('b','c','435')"
      ],
      "metadata": {
        "id": "fdqiYJaBK_TY"
      },
      "execution_count": null,
      "outputs": []
    },
    {
      "cell_type": "code",
      "source": [
        "# Inheritance\n",
        "class Seller(User):\n",
        "    pass"
      ],
      "metadata": {
        "id": "4pg67CTuurwY"
      },
      "execution_count": null,
      "outputs": []
    },
    {
      "cell_type": "code",
      "source": [
        "print(Seller.__base__)"
      ],
      "metadata": {
        "colab": {
          "base_uri": "https://localhost:8080/"
        },
        "id": "6bXcKl1YK-1x",
        "outputId": "97761172-3072-4845-9737-e5db8ac0711c"
      },
      "execution_count": null,
      "outputs": [
        {
          "output_type": "stream",
          "name": "stdout",
          "text": [
            "<class '__main__.User'>\n"
          ]
        }
      ]
    },
    {
      "cell_type": "code",
      "source": [],
      "metadata": {
        "id": "q4_i3EnNK95D"
      },
      "execution_count": null,
      "outputs": []
    },
    {
      "cell_type": "code",
      "source": [
        "import datetime\n",
        "now = datetime.datetime.now()\n",
        "print(str(now))\n",
        "print(repr(now))"
      ],
      "metadata": {
        "colab": {
          "base_uri": "https://localhost:8080/"
        },
        "id": "ovyn4yzHIDHP",
        "outputId": "74395dd4-4f0f-4715-89bf-5329ae919500"
      },
      "execution_count": null,
      "outputs": [
        {
          "output_type": "stream",
          "name": "stdout",
          "text": [
            "2024-04-30 13:10:41.950257\n",
            "datetime.datetime(2024, 4, 30, 13, 10, 41, 950257)\n"
          ]
        }
      ]
    },
    {
      "cell_type": "code",
      "source": [],
      "metadata": {
        "id": "TN70B28IbKgl"
      },
      "execution_count": null,
      "outputs": []
    },
    {
      "cell_type": "code",
      "source": [
        "# Store Management System\n",
        "item1 = 'Phone'\n",
        "item1_price = 100\n",
        "item1_quantity = 5\n",
        "item1_price_total = item1_price * item1_quantity\n",
        "\n",
        "print(type(item1))\n",
        "print(type(item1_price))\n",
        "print(type(item1_quantity))"
      ],
      "metadata": {
        "colab": {
          "base_uri": "https://localhost:8080/"
        },
        "id": "9ebPEfWpOPUW",
        "outputId": "96413fe9-eb6e-4b74-ccc9-763783b1b719"
      },
      "execution_count": null,
      "outputs": [
        {
          "output_type": "stream",
          "name": "stdout",
          "text": [
            "<class 'str'>\n",
            "<class 'int'>\n",
            "<class 'int'>\n"
          ]
        }
      ]
    },
    {
      "cell_type": "code",
      "source": [
        "class Item:\n",
        "    pass\n",
        "\n",
        "item1 = Item()\n",
        "item1.name = \"Phone\"\n",
        "item1.price = 100\n",
        "item1.quantity = 5\n",
        "\n",
        "print(type(item1))"
      ],
      "metadata": {
        "colab": {
          "base_uri": "https://localhost:8080/"
        },
        "id": "Xx8_6IQFOlq2",
        "outputId": "85fa14ff-e9df-4f7e-cbad-37f3d60e192c"
      },
      "execution_count": null,
      "outputs": [
        {
          "output_type": "stream",
          "name": "stdout",
          "text": [
            "<class '__main__.Item'>\n"
          ]
        }
      ]
    },
    {
      "cell_type": "code",
      "source": [
        "class Item:\n",
        "    def calculate_total_price(self, x, y):\n",
        "        return x*y"
      ],
      "metadata": {
        "id": "135msKyQOQMY"
      },
      "execution_count": null,
      "outputs": []
    },
    {
      "cell_type": "code",
      "source": [
        "item1 = Item()\n",
        "item1.name = \"Phone\"\n",
        "item1.price = 100\n",
        "item1.quantity = 5\n",
        "item1.calculate_total_price(item1.price, item1.quantity)"
      ],
      "metadata": {
        "colab": {
          "base_uri": "https://localhost:8080/"
        },
        "id": "LFWLRbQaOQmh",
        "outputId": "1537ffbe-e849-469d-d72b-703db228cfd7"
      },
      "execution_count": null,
      "outputs": [
        {
          "output_type": "execute_result",
          "data": {
            "text/plain": [
              "500"
            ]
          },
          "metadata": {},
          "execution_count": 5
        }
      ]
    },
    {
      "cell_type": "code",
      "source": [
        "class Item:\n",
        "    def __init__(self):\n",
        "        print(\"I am created\")\n",
        "    def calculate_total_price(self, x, y):\n",
        "        return x*y\n",
        "item1 = Item()\n",
        "item1.name = \"Phone\"\n",
        "item1.price = 100\n",
        "item1.quantity = 5\n",
        "item1.calculate_total_price(item1.price, item1.quantity)"
      ],
      "metadata": {
        "colab": {
          "base_uri": "https://localhost:8080/"
        },
        "id": "i3Ng-95NOQ5C",
        "outputId": "0391ed08-7940-4930-da0b-da7543b97063"
      },
      "execution_count": null,
      "outputs": [
        {
          "output_type": "stream",
          "name": "stdout",
          "text": [
            "I am created\n"
          ]
        },
        {
          "output_type": "execute_result",
          "data": {
            "text/plain": [
              "500"
            ]
          },
          "metadata": {},
          "execution_count": 6
        }
      ]
    },
    {
      "cell_type": "code",
      "source": [
        "class Item:\n",
        "    def __init__(self,name):\n",
        "        print(f'An instance created: {name}')\n",
        "    def calculate_total_price(self, x, y):\n",
        "        return x*y\n",
        "item1 = Item('Phone')\n",
        "item1.name = \"Phone\"\n",
        "item1.price = 100\n",
        "item1.quantity = 5\n",
        "item1.calculate_total_price(item1.price, item1.quantity)"
      ],
      "metadata": {
        "colab": {
          "base_uri": "https://localhost:8080/"
        },
        "id": "oISug4ynORb7",
        "outputId": "aa1995bb-2a33-4806-aa3b-54e0f109945e"
      },
      "execution_count": null,
      "outputs": [
        {
          "output_type": "stream",
          "name": "stdout",
          "text": [
            "An instance created: Phone\n"
          ]
        },
        {
          "output_type": "execute_result",
          "data": {
            "text/plain": [
              "500"
            ]
          },
          "metadata": {},
          "execution_count": 9
        }
      ]
    },
    {
      "cell_type": "code",
      "source": [
        "class Item:\n",
        "    def __init__(self,name, price, quantity):\n",
        "        self.name = name\n",
        "        self.price = price\n",
        "        self.quantity = quantity\n",
        "    def calculate_total_price(self, x, y):\n",
        "        return x*y\n",
        "\n",
        "item1 = Item('Phone',100,5)\n",
        "item1.calculate_total_price(item1.price, item1.quantity)\n",
        "item1.name"
      ],
      "metadata": {
        "colab": {
          "base_uri": "https://localhost:8080/",
          "height": 35
        },
        "id": "CYy89QYYOR3I",
        "outputId": "008422fa-6b4a-497d-daa6-f1d71dde8a72"
      },
      "execution_count": null,
      "outputs": [
        {
          "output_type": "execute_result",
          "data": {
            "text/plain": [
              "'Phone'"
            ],
            "application/vnd.google.colaboratory.intrinsic+json": {
              "type": "string"
            }
          },
          "metadata": {},
          "execution_count": 13
        }
      ]
    },
    {
      "cell_type": "code",
      "source": [
        "class Item:\n",
        "    def __init__(self,name, price=2000, quantity=0):\n",
        "        self.name = name\n",
        "        self.price = price\n",
        "        self.quantity = quantity\n",
        "    def calculate_total_price(self):\n",
        "        return self.price * self.quantity\n",
        "\n",
        "item1 = Item('Phone',100,5)\n",
        "item1.name"
      ],
      "metadata": {
        "colab": {
          "base_uri": "https://localhost:8080/",
          "height": 35
        },
        "id": "lwCzFtnBOR9G",
        "outputId": "9edceb92-e204-48e3-c70f-0f7a5a225cfd"
      },
      "execution_count": null,
      "outputs": [
        {
          "output_type": "execute_result",
          "data": {
            "text/plain": [
              "'Phone'"
            ],
            "application/vnd.google.colaboratory.intrinsic+json": {
              "type": "string"
            }
          },
          "metadata": {},
          "execution_count": 14
        }
      ]
    },
    {
      "cell_type": "code",
      "source": [
        "class Item:\n",
        "    def __init__(self,name, price=2000, quantity=0):\n",
        "        self.name = name\n",
        "        self.price = price\n",
        "        self.quantity = quantity\n",
        "    def calculate_total_price(self):\n",
        "        return self.price * self.quantity\n",
        "\n",
        "item1 = Item('Phone','100',5)\n",
        "item1.name\n",
        "item1.calculate_total_price()"
      ],
      "metadata": {
        "colab": {
          "base_uri": "https://localhost:8080/",
          "height": 35
        },
        "id": "q98HXo55S4co",
        "outputId": "6f2ee018-9cd7-44cd-cbec-67739d5fd893"
      },
      "execution_count": null,
      "outputs": [
        {
          "output_type": "execute_result",
          "data": {
            "text/plain": [
              "'100100100100100'"
            ],
            "application/vnd.google.colaboratory.intrinsic+json": {
              "type": "string"
            }
          },
          "metadata": {},
          "execution_count": 15
        }
      ]
    },
    {
      "cell_type": "code",
      "source": [
        "class Item:\n",
        "    def __init__(self,name:str, price:float, quantity=0):\n",
        "        self.name = name\n",
        "        self.price = price\n",
        "        self.quantity = quantity\n",
        "    def calculate_total_price(self):\n",
        "        return self.price * self.quantity\n",
        "\n",
        "item1 = Item('Phone','100',5)\n",
        "item1.name\n",
        "item1.calculate_total_price()"
      ],
      "metadata": {
        "id": "E2Hd7AWMS5BS"
      },
      "execution_count": null,
      "outputs": []
    },
    {
      "cell_type": "code",
      "source": [
        "class Item:\n",
        "    def __init__(self,name:str, price:float, quantity=0):\n",
        "\n",
        "        assert price >= 0, f'price {price} is not greater than or equal to zero'\n",
        "        assert quantity >=0, f'quantity {quantity} is not greater than or equal to zero '\n",
        "        self.name = name\n",
        "        self.price = price\n",
        "        self.quantity = quantity\n",
        "    def calculate_total_price(self):\n",
        "        return self.price * self.quantity\n",
        "\n",
        "item1 = Item('Phone',100,-5)\n",
        "item1.name\n",
        "item1.calculate_total_price()"
      ],
      "metadata": {
        "colab": {
          "base_uri": "https://localhost:8080/",
          "height": 332
        },
        "id": "MNyzD5u-S5Zk",
        "outputId": "da2ff666-a4fc-4478-849d-d6e1b3f30ea8"
      },
      "execution_count": null,
      "outputs": [
        {
          "output_type": "error",
          "ename": "AssertionError",
          "evalue": "quantity -5 is not greater than or equal zero ",
          "traceback": [
            "\u001b[0;31m---------------------------------------------------------------------------\u001b[0m",
            "\u001b[0;31mAssertionError\u001b[0m                            Traceback (most recent call last)",
            "\u001b[0;32m<ipython-input-19-e1cba01894b0>\u001b[0m in \u001b[0;36m<cell line: 12>\u001b[0;34m()\u001b[0m\n\u001b[1;32m     10\u001b[0m         \u001b[0;32mreturn\u001b[0m \u001b[0mself\u001b[0m\u001b[0;34m.\u001b[0m\u001b[0mprice\u001b[0m \u001b[0;34m*\u001b[0m \u001b[0mself\u001b[0m\u001b[0;34m.\u001b[0m\u001b[0mquantity\u001b[0m\u001b[0;34m\u001b[0m\u001b[0;34m\u001b[0m\u001b[0m\n\u001b[1;32m     11\u001b[0m \u001b[0;34m\u001b[0m\u001b[0m\n\u001b[0;32m---> 12\u001b[0;31m \u001b[0mitem1\u001b[0m \u001b[0;34m=\u001b[0m \u001b[0mItem\u001b[0m\u001b[0;34m(\u001b[0m\u001b[0;34m'Phone'\u001b[0m\u001b[0;34m,\u001b[0m\u001b[0;36m100\u001b[0m\u001b[0;34m,\u001b[0m\u001b[0;34m-\u001b[0m\u001b[0;36m5\u001b[0m\u001b[0;34m)\u001b[0m\u001b[0;34m\u001b[0m\u001b[0;34m\u001b[0m\u001b[0m\n\u001b[0m\u001b[1;32m     13\u001b[0m \u001b[0mitem1\u001b[0m\u001b[0;34m.\u001b[0m\u001b[0mname\u001b[0m\u001b[0;34m\u001b[0m\u001b[0;34m\u001b[0m\u001b[0m\n\u001b[1;32m     14\u001b[0m \u001b[0mitem1\u001b[0m\u001b[0;34m.\u001b[0m\u001b[0mcalculate_total_price\u001b[0m\u001b[0;34m(\u001b[0m\u001b[0;34m)\u001b[0m\u001b[0;34m\u001b[0m\u001b[0;34m\u001b[0m\u001b[0m\n",
            "\u001b[0;32m<ipython-input-19-e1cba01894b0>\u001b[0m in \u001b[0;36m__init__\u001b[0;34m(self, name, price, quantity)\u001b[0m\n\u001b[1;32m      3\u001b[0m \u001b[0;34m\u001b[0m\u001b[0m\n\u001b[1;32m      4\u001b[0m         \u001b[0;32massert\u001b[0m \u001b[0mprice\u001b[0m \u001b[0;34m>=\u001b[0m \u001b[0;36m0\u001b[0m\u001b[0;34m,\u001b[0m \u001b[0;34mf'price {price} is not greater than or equal zero'\u001b[0m\u001b[0;34m\u001b[0m\u001b[0;34m\u001b[0m\u001b[0m\n\u001b[0;32m----> 5\u001b[0;31m         \u001b[0;32massert\u001b[0m \u001b[0mquantity\u001b[0m \u001b[0;34m>=\u001b[0m\u001b[0;36m0\u001b[0m\u001b[0;34m,\u001b[0m \u001b[0;34mf'quantity {quantity} is not greater than or equal zero '\u001b[0m\u001b[0;34m\u001b[0m\u001b[0;34m\u001b[0m\u001b[0m\n\u001b[0m\u001b[1;32m      6\u001b[0m         \u001b[0mself\u001b[0m\u001b[0;34m.\u001b[0m\u001b[0mname\u001b[0m \u001b[0;34m=\u001b[0m \u001b[0mname\u001b[0m\u001b[0;34m\u001b[0m\u001b[0;34m\u001b[0m\u001b[0m\n\u001b[1;32m      7\u001b[0m         \u001b[0mself\u001b[0m\u001b[0;34m.\u001b[0m\u001b[0mprice\u001b[0m \u001b[0;34m=\u001b[0m \u001b[0mprice\u001b[0m\u001b[0;34m\u001b[0m\u001b[0;34m\u001b[0m\u001b[0m\n",
            "\u001b[0;31mAssertionError\u001b[0m: quantity -5 is not greater than or equal zero "
          ]
        }
      ]
    },
    {
      "cell_type": "code",
      "source": [
        "class Item:\n",
        "    pay_rate = 0.8\n",
        "    def __init__(self,name:str, price:float, quantity=0):\n",
        "\n",
        "        assert price >= 0, f'price {price} is not greater than or equal to zero'\n",
        "        assert quantity >=0, f'quantity {quantity} is not greater than or equal to zero '\n",
        "        self.name = name\n",
        "        self.price = price\n",
        "        self.quantity = quantity\n",
        "    def calculate_total_price(self):\n",
        "        return self.price * self.quantity\n",
        "\n",
        "item1 = Item('Phone',100,45)\n",
        "item1.name\n",
        "item1.calculate_total_price()\n",
        "\n",
        "print(Item.pay_rate)\n",
        "print(item1.pay_rate)  #اول از اینستنس میخواد پیدا کنه ولی اگه پیدا نکنه میره تو سطح کلاس"
      ],
      "metadata": {
        "colab": {
          "base_uri": "https://localhost:8080/"
        },
        "id": "6SRFpyXyS5uz",
        "outputId": "6aed72e0-9b9d-4a82-837f-ba0ef9468105"
      },
      "execution_count": null,
      "outputs": [
        {
          "output_type": "stream",
          "name": "stdout",
          "text": [
            "0.8\n",
            "0.8\n"
          ]
        }
      ]
    },
    {
      "cell_type": "code",
      "source": [
        "print(Item.__dict__)\n",
        "print(item1.__dict__)"
      ],
      "metadata": {
        "colab": {
          "base_uri": "https://localhost:8080/"
        },
        "id": "uXh8ttbfUQ7U",
        "outputId": "97688b3c-ee1e-4744-fe1d-d95941b635af"
      },
      "execution_count": null,
      "outputs": [
        {
          "output_type": "stream",
          "name": "stdout",
          "text": [
            "{'__module__': '__main__', 'pay_rate': 0.8, '__init__': <function Item.__init__ at 0x7f101f230d30>, 'calculate_total_price': <function Item.calculate_total_price at 0x7f101f2313f0>, '__dict__': <attribute '__dict__' of 'Item' objects>, '__weakref__': <attribute '__weakref__' of 'Item' objects>, '__doc__': None}\n",
            "{'name': 'Phone', 'price': 100, 'quantity': 45}\n"
          ]
        }
      ]
    },
    {
      "cell_type": "code",
      "source": [
        "class Item:\n",
        "    pay_rate = 0.8\n",
        "    def __init__(self,name:str, price:float, quantity=0):\n",
        "\n",
        "        assert price >= 0, f'price {price} is not greater than or equal to zero'\n",
        "        assert quantity >=0, f'quantity {quantity} is not greater than or equal to zero '\n",
        "        self.name = name\n",
        "        self.price = price\n",
        "        self.quantity = quantity\n",
        "    def calculate_total_price(self):\n",
        "        return self.price * self.quantity\n",
        "    def apply_discount(self):\n",
        "        self.price = self.price * Item.pay_rate\n",
        "\n",
        "item1 = Item('Phone',100,45)\n",
        "item1.name\n",
        "item1.calculate_total_price()\n",
        "item1.apply_discount()\n",
        "item1.price"
      ],
      "metadata": {
        "colab": {
          "base_uri": "https://localhost:8080/"
        },
        "id": "gQD9hEJIUQel",
        "outputId": "2c86da8c-7025-45d0-ea91-dffbfbc75663"
      },
      "execution_count": null,
      "outputs": [
        {
          "output_type": "execute_result",
          "data": {
            "text/plain": [
              "80.0"
            ]
          },
          "metadata": {},
          "execution_count": 24
        }
      ]
    },
    {
      "cell_type": "code",
      "source": [
        "class Item:\n",
        "    pay_rate = 0.8 # The pay rate after 20% discount\n",
        "    all = []\n",
        "    def __init__(self, name: str, price: float, quantity=0):\n",
        "        # Run validations to the received arguments\n",
        "        assert price >= 0, f\"Price {price} is not greater than or equal to zero!\"\n",
        "        assert quantity >= 0, f\"Quantity {quantity} is not greater or equal to zero!\"\n",
        "\n",
        "        # Assign to self object\n",
        "        self.name = name\n",
        "        self.price = price\n",
        "        self.quantity = quantity\n",
        "\n",
        "        # Actions to execute\n",
        "        Item.all.append(self)\n",
        "\n",
        "    def calculate_total_price(self):\n",
        "        return self.price * self.quantity\n",
        "\n",
        "    def apply_discount(self):\n",
        "        self.price = self.price * self.pay_rate\n",
        "\n",
        "    # def __repr__(self):\n",
        "    #     return f\"Item('{self.name}', {self.price}, {self.quantity})\""
      ],
      "metadata": {
        "id": "VjiTgztQYPPW"
      },
      "execution_count": null,
      "outputs": []
    },
    {
      "cell_type": "code",
      "source": [
        "item1 = Item(\"Phone\", 100, 1)\n",
        "item2 = Item(\"Laptop\", 1000, 3)\n",
        "item3 = Item(\"Cable\", 10, 5)\n",
        "item4 = Item(\"Mouse\", 50, 5)\n",
        "item5 = Item(\"Keyboard\", 75, 5)\n",
        "\n",
        "print(Item.all)"
      ],
      "metadata": {
        "colab": {
          "base_uri": "https://localhost:8080/"
        },
        "id": "--zCjMtgUQOV",
        "outputId": "a73e7e9c-4284-49a8-8b87-777d98d40769"
      },
      "execution_count": null,
      "outputs": [
        {
          "output_type": "stream",
          "name": "stdout",
          "text": [
            "[<__main__.Item object at 0x7f101f3ef430>, <__main__.Item object at 0x7f101f3ee950>, <__main__.Item object at 0x7f101f3ecf40>, <__main__.Item object at 0x7f101f3ed4b0>, <__main__.Item object at 0x7f101f3ed210>]\n"
          ]
        }
      ]
    },
    {
      "cell_type": "markdown",
      "metadata": {
        "id": "_UZIuy-ofix4"
      },
      "source": [
        "In Python, ***@classmethod*** is a decorator that is used to define a method within a class that is bound to the class and not the instance of the class. This means that the method can be called on the class itself, rather than on an instance of the class. The ***@classmethod*** decorator is used to define class methods, which are methods that are shared among all instances of a class. These methods have access to the class itself, rather than the specific instance of the class. Class methods are defined using the @classmethod decorator followed by a regular method definition.\n",
        "\n",
        "Here's an example to illustrate the usage of @classmethod:"
      ]
    },
    {
      "cell_type": "code",
      "execution_count": null,
      "metadata": {
        "id": "JHielJhJftIn"
      },
      "outputs": [],
      "source": [
        "class MyClass:\n",
        "    class_variable = \"Hello\"\n",
        "\n",
        "    @classmethod\n",
        "    def class_method(cls):\n",
        "        print(cls.class_variable)\n",
        "\n",
        "# Calling the class method\n",
        "MyClass.class_method()"
      ]
    },
    {
      "cell_type": "markdown",
      "metadata": {
        "id": "mV4sbyQ8fvWk"
      },
      "source": [
        "In the example above, the class_method is a class method defined using the @classmethod decorator. It can be called directly on the class MyClass without creating an instance of the class. The method prints the value of the class variable class_variable.\n",
        "\n",
        "Class methods are often used to create alternative constructors or to perform operations that are common to all instances of a class."
      ]
    },
    {
      "cell_type": "markdown",
      "metadata": {
        "id": "GZ9mg_BVgGZn"
      },
      "source": [
        "\n",
        "\n",
        "---\n",
        "In Python, when you define a method within a class, it is usually an instance method. This means that the method is bound to the instance of the class and can only be called on an instance of that class. Instance methods have access to the instance itself through the self parameter.\n",
        "\n",
        "On the other hand, a class method is a method that is bound to the class itself, rather than to the instance. This means that it can be called on the class directly, without the need to create an instance of the class. Class methods have access to the class itself through the cls parameter.\n",
        "\n",
        "Here's an example to illustrate the difference between instance methods and class methods:\n"
      ]
    },
    {
      "cell_type": "code",
      "execution_count": null,
      "metadata": {
        "id": "GGcUjXC3gOWK"
      },
      "outputs": [],
      "source": [
        "class MyClass:\n",
        "    class_variable = \"Hello\"\n",
        "\n",
        "    def instance_method(self):\n",
        "        print(\"Instance method called\")\n",
        "        print(\"Instance variable:\", self.class_variable)\n",
        "\n",
        "    @classmethod\n",
        "    def class_method(cls):\n",
        "        print(\"Class method called\")\n",
        "        print(\"Class variable:\", cls.class_variable)\n",
        "\n",
        "# Creating an instance of MyClass\n",
        "my_obj = MyClass()\n",
        "\n",
        "# Calling the instance method\n",
        "my_obj.instance_method()\n",
        "\n",
        "# Calling the class method\n",
        "MyClass.class_method()"
      ]
    },
    {
      "cell_type": "markdown",
      "metadata": {
        "id": "XSsS3A_hgRJJ"
      },
      "source": [
        "In the example above, we have defined two methods: instance_method and class_method.\n",
        "\n",
        "The instance_method is an instance method because it takes the self parameter, which refers to the instance of the class. It can be called on an instance of MyClass, like my_obj.instance_method(). Inside the method, we can access instance variables using self.\n",
        "\n",
        "The class_method is a class method because it takes the cls parameter, which refers to the class itself. It can be called on the class MyClass, like MyClass.class_method(). Inside the method, we can access class variables using cls.\n",
        "\n",
        "Class methods are often used in scenarios where you want to perform operations that are common to all instances of a class, or when you want to create alternative constructors. They provide a way to work with the class itself, rather than with specific instances."
      ]
    },
    {
      "cell_type": "code",
      "source": [
        "# static method\n",
        "\n",
        "'''\n",
        "This should do sth that has a relationship with the class, but not sth that must\n",
        "be unique per instance\n",
        "'''"
      ],
      "metadata": {
        "id": "nKFdquBrUP5W"
      },
      "execution_count": null,
      "outputs": []
    },
    {
      "cell_type": "code",
      "source": [
        "import csv\n",
        "\n",
        "\n",
        "class Item:\n",
        "    pay_rate = 0.8 # The pay rate after 20% discount\n",
        "    all = []\n",
        "    def __init__(self, name: str, price: float, quantity=0):\n",
        "        # Run validations to the received arguments\n",
        "        assert price >= 0, f\"Price {price} is not greater than or equal to zero!\"\n",
        "        assert quantity >= 0, f\"Quantity {quantity} is not greater or equal to zero!\"\n",
        "\n",
        "        # Assign to self object\n",
        "        self.name = name\n",
        "        self.price = price\n",
        "        self.quantity = quantity\n",
        "\n",
        "        # Actions to execute\n",
        "        Item.all.append(self)\n",
        "\n",
        "    def calculate_total_price(self):\n",
        "        return self.price * self.quantity\n",
        "\n",
        "    def apply_discount(self):\n",
        "        self.price = self.price * self.pay_rate\n",
        "\n",
        "    @classmethod\n",
        "    def instantiate_from_csv(cls):\n",
        "        with open('items.csv', 'r') as f:\n",
        "            reader = csv.DictReader(f)\n",
        "            items = list(reader)\n",
        "\n",
        "        for item in items:\n",
        "            Item(\n",
        "                name=item.get('name'),\n",
        "                price=float(item.get('price')),\n",
        "                quantity=int(item.get('quantity')),\n",
        "            )\n",
        "\n",
        "    @staticmethod\n",
        "    def is_integer(num):\n",
        "        # We will count out the floats that are point zero\n",
        "        # For i.e: 5.0, 10.0\n",
        "        if isinstance(num, float):\n",
        "            # Count out the floats that are point zero\n",
        "            return num.is_integer()\n",
        "        elif isinstance(num, int):\n",
        "            return True\n",
        "        else:\n",
        "            return False\n",
        "\n",
        "    def __repr__(self):\n",
        "        return f\"{self.__class__.__name__}('{self.name}', {self.price}, {self.quantity})\"\n",
        "\n",
        "\n",
        "class Phone(Item):\n",
        "    def __init__(self, name: str, price: float, quantity=0, broken_phones=0):\n",
        "        # Call to super function to have access to all attributes / methods\n",
        "        super().__init__(\n",
        "            name, price, quantity\n",
        "        )\n",
        "\n",
        "        # Run validations to the received arguments\n",
        "        assert broken_phones >= 0, f\"Broken Phones {broken_phones} is not greater or equal to zero!\"\n",
        "\n",
        "        # Assign to self object\n",
        "        self.broken_phones = broken_phones\n",
        "\n",
        "phone1 = Phone(\"jscPhonev10\", 500, 5, 1)\n",
        "\n",
        "print(Item.all)"
      ],
      "metadata": {
        "colab": {
          "base_uri": "https://localhost:8080/"
        },
        "id": "mEm79DWhUPk2",
        "outputId": "d04a9aa5-1e6f-4f09-9876-64a1070fbc96"
      },
      "execution_count": null,
      "outputs": [
        {
          "output_type": "stream",
          "name": "stdout",
          "text": [
            "[Phone('jscPhonev10', 500, 5)]\n"
          ]
        }
      ]
    },
    {
      "cell_type": "code",
      "source": [
        "# Super\n",
        "class Emp():\n",
        "\tdef __init__(self, id, name, Add):\n",
        "\t\tself.id = id\n",
        "\t\tself.name = name\n",
        "\t\tself.Add = Add\n",
        "\n",
        "# Class freelancer inherits EMP\n",
        "class Freelance(Emp):\n",
        "\tdef __init__(self, id, name, Add, Emails):\n",
        "\t\tsuper().__init__(id, name, Add)\n",
        "\t\tself.Emails = Emails\n",
        "\n",
        "Emp_1 = Freelance(103, \"Suraj kr gupta\", \"Noida\" , \"KKK@gmails\")\n",
        "print('The ID is:', Emp_1.id)\n",
        "print('The Name is:', Emp_1.name)\n",
        "print('The Address is:', Emp_1.Add)\n",
        "print('The Emails is:', Emp_1.Emails)\n"
      ],
      "metadata": {
        "colab": {
          "base_uri": "https://localhost:8080/"
        },
        "id": "rmdrpe45gK3u",
        "outputId": "7a5c6304-072d-4e25-aa21-ed10fda02b47"
      },
      "execution_count": null,
      "outputs": [
        {
          "output_type": "stream",
          "name": "stdout",
          "text": [
            "The ID is: 103\n",
            "The Name is: Suraj kr gupta\n",
            "The Address is: Noida\n",
            "The Emails is: KKK@gmails\n"
          ]
        }
      ]
    },
    {
      "cell_type": "code",
      "source": [
        "# code\n",
        "# A Python program to demonstrate inheritance\n",
        "\n",
        "class Person:\n",
        "\n",
        "\t# Constructor\n",
        "\tdef __init__(self, name, id):\n",
        "\t\tself.name = name\n",
        "\t\tself.id = id\n",
        "\n",
        "\t# To check if this person is an employee\n",
        "\tdef Display(self):\n",
        "\t\tprint(self.name, self.id)\n",
        "\n",
        "\n",
        "class Emp(Person):\n",
        "\n",
        "\tdef __init__(self, name, id):\n",
        "\t\tself.name_ = name\n",
        "\t\tsuper().__init__(name, id)\n",
        "\n",
        "\tdef Print(self):\n",
        "\t\tprint(\"Emp class called\")\n",
        "\n",
        "Emp_details = Emp(\"Mayank\", 103)\n",
        "\n",
        "# calling parent class function\n",
        "print(Emp_details.name_, Emp_details.name)\n"
      ],
      "metadata": {
        "colab": {
          "base_uri": "https://localhost:8080/"
        },
        "id": "PsvIdgimgKW5",
        "outputId": "cd487e9d-820e-4d9e-c7d1-9cf1129b921a"
      },
      "execution_count": null,
      "outputs": [
        {
          "output_type": "stream",
          "name": "stdout",
          "text": [
            "Mayank Mayank\n"
          ]
        }
      ]
    },
    {
      "cell_type": "code",
      "source": [
        "# Python program to demonstrate\n",
        "# super function\n",
        "\n",
        "class Animals:\n",
        "\t# Initializing constructor\n",
        "\tdef __init__(self):\n",
        "\t\tself.legs = 4\n",
        "\t\tself.domestic = True\n",
        "\t\tself.tail = True\n",
        "\t\tself.mammals = True\n",
        "\n",
        "\tdef isMammal(self):\n",
        "\t\tif self.mammals:\n",
        "\t\t\tprint(\"It is a mammal.\")\n",
        "\n",
        "\tdef isDomestic(self):\n",
        "\t\tif self.domestic:\n",
        "\t\t\tprint(\"It is a domestic animal.\")\n",
        "\n",
        "class Dogs(Animals):\n",
        "\tdef __init__(self):\n",
        "\t\tsuper().__init__()\n",
        "\n",
        "\tdef isMammal(self):\n",
        "\t\tsuper().isMammal()\n",
        "\n",
        "class Horses(Animals):\n",
        "\tdef __init__(self):\n",
        "\t\tsuper().__init__()\n",
        "\n",
        "\tdef hasTailandLegs(self):\n",
        "\t\tif self.tail and self.legs == 4:\n",
        "\t\t\tprint(\"Has legs and tail\")\n",
        "\n",
        "# Driver code\n",
        "Tom = Dogs()\n",
        "Tom.isMammal()\n",
        "Bruno = Horses()\n",
        "Bruno.hasTailandLegs()"
      ],
      "metadata": {
        "colab": {
          "base_uri": "https://localhost:8080/"
        },
        "id": "t2SGlEGhgKAI",
        "outputId": "b85fc970-85fe-4b33-e534-7e5181f9cb31"
      },
      "execution_count": null,
      "outputs": [
        {
          "output_type": "stream",
          "name": "stdout",
          "text": [
            "It is a mammal.\n",
            "Has legs and tail\n"
          ]
        }
      ]
    },
    {
      "cell_type": "code",
      "source": [
        "class Mammal():\n",
        "\n",
        "\tdef __init__(self, name):\n",
        "\t\tprint(name, \"Is a mammal\")\n",
        "\n",
        "\n",
        "class canFly(Mammal):\n",
        "\n",
        "\tdef __init__(self, canFly_name):\n",
        "\t\tprint(canFly_name, \"cannot fly\")\n",
        "\n",
        "\t\t# Calling Parent class\n",
        "\t\t# Constructor\n",
        "\t\tsuper().__init__(canFly_name)\n",
        "\n",
        "\n",
        "class canSwim(canFly):\n",
        "\n",
        "\tdef __init__(self, canSwim_name):\n",
        "\n",
        "\t\tprint(canSwim_name, \"cannot swim\")\n",
        "\n",
        "\t\tsuper().__init__(canSwim_name)\n",
        "\n",
        "\n",
        "class Animal(canSwim):\n",
        "\n",
        "\tdef __init__(self, name):\n",
        "\n",
        "\t\t# Calling the constructor\n",
        "\t\t# of both the parent\n",
        "\t\t# class in the order of\n",
        "\t\t# their inheritance\n",
        "\t\tsuper().__init__(name)\n",
        "\n",
        "\n",
        "# Driver Code\n",
        "Carol = Animal(\"Dog\")\n"
      ],
      "metadata": {
        "colab": {
          "base_uri": "https://localhost:8080/"
        },
        "id": "yflhvi2DgJqs",
        "outputId": "af44b326-fa3b-483a-9889-857c09f9416f"
      },
      "execution_count": null,
      "outputs": [
        {
          "output_type": "stream",
          "name": "stdout",
          "text": [
            "Dog cannot swim\n",
            "Dog cannot fly\n",
            "Dog Is a mammal\n"
          ]
        }
      ]
    },
    {
      "cell_type": "code",
      "source": [
        "bb"
      ],
      "metadata": {
        "id": "cx4BqAPuiO2P"
      },
      "execution_count": null,
      "outputs": []
    },
    {
      "cell_type": "code",
      "source": [],
      "metadata": {
        "id": "1g6C8B3LiPuO"
      },
      "execution_count": null,
      "outputs": []
    },
    {
      "cell_type": "code",
      "source": [],
      "metadata": {
        "id": "Ue6-6i5WiQR_"
      },
      "execution_count": null,
      "outputs": []
    },
    {
      "cell_type": "code",
      "source": [],
      "metadata": {
        "id": "TZ3fvtSniQu9"
      },
      "execution_count": null,
      "outputs": []
    },
    {
      "cell_type": "markdown",
      "metadata": {
        "id": "yhlM13J-zFb_"
      },
      "source": [
        "# **8. Multithread**"
      ]
    },
    {
      "cell_type": "markdown",
      "metadata": {
        "id": "VLQqczDy0fBW"
      },
      "source": [
        "# **9. Libraries**"
      ]
    },
    {
      "cell_type": "markdown",
      "metadata": {
        "id": "i9Xdlf53-8TY"
      },
      "source": [
        "## 9.1 Python Built-In Libraries"
      ]
    },
    {
      "cell_type": "markdown",
      "metadata": {
        "id": "ugp8hw_1_NG1"
      },
      "source": [
        "#### *os*"
      ]
    },
    {
      "cell_type": "markdown",
      "metadata": {
        "id": "lD1F9PtH_U3X"
      },
      "source": [
        "#### *random*"
      ]
    },
    {
      "cell_type": "markdown",
      "metadata": {
        "id": "wBE4HwqsgKNA"
      },
      "source": [
        "![Screenshot 2024-03-20 045548.png](data:image/png;base64,iVBORw0KGgoAAAANSUhEUgAAA+gAAAHWCAYAAADkTKMQAAAAAXNSR0IArs4c6QAAAARnQU1BAACxjwv8YQUAAAAJcEhZcwAADsMAAA7DAcdvqGQAAMlRSURBVHhe7N0JfBTl+Qfwx/tAoyIYVMSAB0I0xiqNFCkxEbWihlIEg4gg1hOCeOBBAQPigSfBW5FDJYIaCYpHITEpUkwphUYDYhUQUQkg2vSPtZ7/93nnnZl3Zmf2SHY3k+zv62c/zjubPdiZec/nfWe3XwQCAAAAAAAAgGa1u/o/AAAAAAAAADQjNNABAAAAAAAAAgANdAAAAAAAAIAAQAMdAAAAAAAAIADQQAcAAAAAAAAIADTQAQAAAAAAAAIADXQAAAAAAACAAEADHQAAAAAAACAA0EAHAAAAAAAACAA00AEAAAAAAAACAA10AAAAAAAAgABAAx0AAAAAAAAgANBABwAAAAAAAAgANNABAAAAAAAAAgANdAAAAAAAAIAAQAMdAAAAAAAAIADQQAcAAAAAAAAIADTQAQAAAAAAAAIADXQAAAAAAACAAEADHQAAAAAAACAA0EAHAAAAAAAACAA00AEAAAAAAAACIGUb6Cumn0W7n6o9pq9Wz0CrVl9OA/XjLh5T16jnmsg8pwYu2qr2RGnNDOO7FJVTjK+0mJ8dr39L67Sapqpjbj6MY7WV5hUl5/cLd5y2LipyfDfjMYNWqOcDKQ7nbsKZ31E+imhevdofMCFlEj+C/LsKjc7zmoPjPEjs9w5Wfmzmb8E99xNPy/sDfk1BvPmV+4kVMW+06qIBL+Oh2aRgA90orHrNVUnT3JuTlnEbF24qF5bNhCto582gMpV0i+24qEy/EecMjn8zkIXhzTRBJVuOcuqFCmXqWj6DjkDncZPJPHdkuUpBylnzrp33L6+gymjKXrMBheuv5QpQuW92wGMQBaKVcg30rYvuoqHLeas7Pf/GUvp5lXi8MZoG8C5RGRqV8J61rbTxE7UJSbWiWlXQht1nHHd+zCww9sV6XOo3iya6U88xxnu+fGEHtceLx+dkjza+S0kBhXslNN7WmgqjY6bXaPrCPPbiuj9FPtuBhpQY+8Znyx3NasCk563vZ+RLUVYom0NLOHfFd1w+zNicMrOEhqQb20E1ZaY6P828ae67gR1hiS7Pa2ZrZlgd8tZvKx/3GdcXtHpG2d+dpgzrLv6/lspqoqjnfbnZtzMfWoKtNG+qGpDRy/0kXffuvHHjxrXy/5b0AnpZfp/R1FPtAtClWAN9K1UuNS6SAZNutytq4kJ5ZBJn3ERlS2vEX5khMfYopxmuYvR+2SGx5sPqFTN7XXnUSwupM57n9x2qOgjW0tDzxHPTV9uhrWZPrf4eIml/tva58m+1NEbZIurc2TjGjgqvqLyPz/Y+LqGhUep80EfieYRLPMfH13mOCK6QyoGLKr0/x/w78/gL7nBn+Z6u98Mxj16HTscZG3pjV1z342XhaV5HWlSD9lsPXFTuzA+042UfJ+/Xykdjj1N6J9WBYLDPL3VeqvPFfa64Q+rM1xkP+3s6X6d9fzP/MR/qczzfx3Hu6r+jdu1o57XjvaeXW/mXdc0khff3NH43r++t5bPq4fi+kf5Nrt8z6vDKwztpFUntO68x3s98H+dxcf+WrjxMOxedr7PDLL3PF/dvYPy9+bfyM/VyS7sGHN8n3HWVEOJ7P2t0zHLHl7MD7hQaoirP9r9Dv7Zcv532Pe2/138Xr1BV7Xk9H3DlEV7nhPu6Dj0fneev/3VWo3amqtVUKTtojqO8i/PlNWXU80yh5/br/NubERccXSl/a+13j/oajOJYhZxn2nmk5a/2+WA8H1L2mH+rnWfm3zjzhBSx5iVV1yqg5Y4OZPu6D/vbs3D5leexUc8J7jyil+oknDBS7OdjpOeX1vewX6+/P3PmB9rfQauVYg30L2mjGj0fkGNfrsyuwG+mjcZWGOb72CaMdF8wFTRKC6mbMNKr8I7N6mfN0X9h7iwaWGQ29gTRUJyZiplwDDrkGIWzDBuWmVyEYxIySs6N6iiPI2e+jQyp5Iz4iGJXb6uwdfO/1JaC8NfoZZ9BU+SG6hgJV8C5jl1Z8QzvELlPZtEo6ziJ951qVIzidpw8ojTY6mdnWd/H61wpKx7qqDiaFQNd6OvMc1tUFDymgfDfe72Pn7KpWlihqOAaFUTXe8+dYedfzUT/nmXFd4k8Vf/es9Q5Ei6/j/Bv4nPJ9Xvy8Ymqwuwzglf2rP1+XseXK4DW7+0T3hn6OmMqRa3PcV4xXStrIvIp+6K9ruLKXeaHNsb0/Fy/tqLJ/x1lMv+Gruvc8bwZoRdl2RAy4iauI3dDvqVcZ83KDG8fdgb1TM+hAb3EttZRG9u5bYj+GrT5HquQa5TrJ656hqOsKacHivT8W5yXL4rzzizjrH+bOSBVQHkBiAxLNqsc5uNubLlE+O2bWA+IzSmUJ6O87OgOM+JzSp9TwpTX0Jql7CJxTXMKjbfCZZaq8Mm1tPFL+aRBZPgDZAj9faph8C/aWM+ve56e5wLCDLEfo4+RhVd2zAjH55UdY4Rqm+GbqzfHni2kFBlSZP7+jDNjrmj7HBcrBIkf5vPiOB4+2g4/VqFT/qHR9lSKly/Mi+L4r6aZKiPWwzH5/TtcWGKlrc//ZHMjCoNUZFyz5rViFHDeIwsrXjQqXyGh5m7Lj6Mb9edV515TjxM34GTjwaxkDxvhCMs284Gfx5A6V7TpOiosWo4QiQrGA7LiqD2/ikO8zXPM3m/8LuVUqf0e1vmnn6NWqGC4UHHx3mcZv52eN21dpBo/1hQTM29sLub3NK/J0LSRp/vn95H+TSHnkjo+E6r9O2zkCAsff1U5HDDpIq2Caf+2L+fUqONbQMvVd/tCRYLx+1vfTQ/v5JEk67wwX6f+vaJiv7yB9wt+x9n6d4YJy/Qs+2K4rpqRfW2Fyf9Vw45Zf2/+W1zTEcznzeNS5qgk6GWDc8CAmSGy8mFe147XR7jOrGPY3NdZ89IbOiJ3ps7HcMojzF07t8/nPNycYiL369dB9NegLcKxsj7bPM+cebFV1pjngUjLzzO/oyxfTqGR8rPVv62+RvydSPo2UFNbpN++qfUAmzGFzjzuslz1mBLWs49+jZtRH9y5El15Da1PijXQD6fOquLlzpyt3rZenaizseWPe9asHnjvESrqlU95MkM3P7PpjALGDtUe0Plw+X8rdBuiYM43tivhsvfZixbetLsVmh4lUbm7UVXkjRHbWMPMQnu9zZAp+XCNykF0zEqvWVhOeNa/t/uUTqoINUdd3MyKj08oelyOE1ceXJ04Zj5gO446m5VHaxRFqyRYeZGbfW7aeZhZybMbijxq1+HCEep9jSkd4aNP7Aglr7zJzLf4s4xRg+Zifk+z0m4eczstRZHfR/o3WZ0uUYyc6rhy6Gy82b+tRSuzrCghUWHfJveI9zgrJ6QyaOAOSv432XnbQX29j3PPi80GKIf7iv16uLZbhLIv4nUVV+4y38z/vRutjmsrivzf+ntXHmAyn7ci9FhUZYNrpN/zvIlwnVnHPX51kJbHbOjY+Zl5/ZapMPeYzm0p+mvQfp9o88QOlHeW8bxjwMUsa8xpL+bnOabB2J/N/7YVat2V0PIiNVjXXIQ1PCL99o2tB8TMLLv5+5rRO47OFa/yGlqzFGug2xcghzNaIa6iAmaGqBiFml2oGx3WzoW9zJ41Y4TJbOg1npWRmBk6FidJiK2LZmhhzfa54E1UkOTcRbPXMvZRCLMxaPWoh2kMhnL1jpqjXuaoiNlzDtERlW29Emz2VodjFdLmSEQ04nCcrB57foREWHjRRvXMcE69o9F3kTl9ZN14OCI1zNGa4pdEBcccRbZHGR5whdtGyx4FtCvPQRZNfh/p3+Q4pvwIc1z1yJmoFl/TOmOsxRCP6USHyT1GZd37SNmjfsaDRwl9jrM1mqzyQdGAb+yUqkZdV43mU+ZHFF3+b/9bvKej+IlYNpjzZ9Xonvl3sbDPydApGilDX73dzcwX43Fu+1yDUVy9kn2s7HWSrIZhLMzOH/Fve4DfR5RDI1MwvF2yprW5p56spnla2RXpt09efmV27oo8d6pX54p3eQ2tV8qFuHe48HZ75FT1RlmjXCIze0RWiOwRFKPX1dl7bvaAej0XPfX5nHGYvaDmqEWMoywQrX/Zx1w8zDk9zkzQPC5fWqFwxmu853KaxyxkBEQbdbPmDjkKbO34O4SOYPJj6peqdxbnSKPpv6cVPuwxumiFmrlDzaNh9qIn5TjZIY3Wea0+b8rlBdTBY6TOmHtvz3ez94uHY7Ea8TC/u2jst1lkLlBj53exViCtkSVzpCpZt79ZY6/iHbpWSGTh8vtI/6aQc0k+Yv8Onqzja46Em3mNqMhdfIpH1IN48DG2RoLs18mHyIt4rqORdh5nOyrE/Pd1J2vgKUpNuq6awPodHOd7pHPPDoU2XuP996HTUaIIJ45YNghmnUCdV875p+E123UWQGZ4u7ODzI6e47ZZxHNb/o4+12yEazAS69y0jpW67prQsDaus7WyMekfPZMK7LqU/fsax5mv1Ui/faLyK1mO+ERpWJ+5nM8hM4oyXHkNrVkKzkF3zgcxyQxcmxdihT2xYfc5/t4u8AXXc5GJzxeVZwcrk2ciY5/pM9cFmsQRZqjwaJXRCxl6XPRzYMCk+5wjZ45jFgUeUZWjZh7H34VHMENHTLTCBudI7FyhgCw0fFjJFsdK+/2nzDRHz7RQcl/JPU58rrjzH/ucFufwmNC8jvntD2WsgGuOxpr4t4u5915cMy9rEQX2NRV7Yy+Zwub3kf5NfBu6BEa79BzjHtEX59wb5nxZHg33GvnlMtA7EsDN7zg36nZ1TbqumsK9/oRtirg+/RrUYfN/xf43CFYeHyOv1znKF3ENxnIOidead6Vhft+99bOjWZydiXZUhddaENa5nX1RVL9b+GswEnFuuuc28/ngMUc5atbIcffQUPwUI6PBPK4d43yI8NvHOb9ytCn8WMdO0Dr7oi+voTXZ7RdBbacke3VEDvfD/QgBwMnKI5pacQInnuMrR+lbUd7bGv9NCdKSrytz5W69MwwgEMw8COVVXKEeAMmW8qu42yNQWrhfSNgxAKQMLQSVH0YHnqiMX45CuWm08Hl+qBB65yrlLU1r/DclCK4rgMQxry+VB+G6aiLkV9DMUr6Bzjh8pDGLsABAasBIWWL4TjNowVrjvylRcF0BxF+jpiBBRMivIJlSPsQdAAAAAAAAIAgwgg4AAAAAAAAQAGigAwAAAAAAAAQAGugAAAAAAAAAAZCyDXS+ZYK5OqPxmEEr1HOBxrfQ4O9bVE5b1S6IkWt1Tn5MXaOeCzLre7eQcxUAoJnZZX0RzatXO5mZnwawLOXbuLWYcgkgkFx32FCPgYvifbVvpXlF/N6u/CVaZp0ed48Cl5RsoHPhZ94yIeiMgrqRFz6E4szwvBlUppJBZlYsUUkDAGiqtTT0xcZWglVlHx3jAC1aWfFQ1KmgRUi9BrpooPWaa2zyLRN+XmU8vpjUydgZKFtp4ydq05Q92vjOJbgXY+xEJUvdI5SG3Wcd+5/fGE2djb2BsnGjqxMpvYBelt95NO6xDAAQq7k3N65yXr9ZlB4A0PIU0HJV11s+zNgzoRpXMwRfijXQt9K8Z40Gmvs+kR0uLLAaPe7wdz0kxg49M8NaxEOGpmhpq5ddD33Rwm3M50PC1c2/4RBm3h5KQ5fz/rU09Dyxnz/HFQ7j+X0cvfzafvG+88x/WwqG02xdNIsm8Eav0fTFmFPkPkk0fIeY54I7/F3/LbXf3j5HjHDz0DDKCMfeOtZ2dIT7WPZSHUkTRqrXuUMyPb+PM9rCfE+5f5H7fAMASA0DhhXQAPH/CaIO4Jf/Oct+lZdyPmtGXS2fQUeI56a+48qL3dOPzLRZzoYpV+x8X5UJIWWzXX4YdRG9TOcHpjwBRKNz5+5qi3lcRyF1cjtPMDv27DoVP5z1Lf1adV7H2n75CH/NOvMhd1i+f53eep322cb3dX9PaAlSrIH+JW2UDd7uNCDHe/yZT3B3+DuHxLjnrax+9i7VeBbmzqKBRWZjWhCF+ExXL33Z1JuNxiETz4+K8zwYx/fR3n/FdO17UTkNbSGh/YlgjkgPOCvHO/qAK1Hu8HeukLkbtJ/MolHW71hODxTp50xoGGWij73z+4jPn2p8Xz6Xe6lGvtxfrKIHAABSTeeL6JFJooLukweHlv3cMe5TkT6kE8ku3uWbaaP439aaClVu/Is2ckX4y80yPaWP+Ksoy5XVz6oOZJcV01X5Mew+evnCDq4yHQCipUclel5H2WfQFP7/8gqqlA3arVS5lF9TQHnZRmPXrlOFctT1rGgdbpxr+6Vy6uXTSI/UBglXp++Qky87IWnuu+q9V1Mlf99e+ZSXLndAC5Kyi8R5W00z5cnenZ5/Q4U/zyyQz5QtrXEUpmXHjNBCZtaKtBEybYbQrN6s/7V4z7OeD/t+oU6h8auep+d78bb6Pvqor4v5fb7gCginN34pKwYPyMwkNMQHQq140ahEcXSFPFar7nNl1sry4+hG/ViKtPx9VZo+2awd28Yc+w40pMQ+VnIqRrgpDeb3eWO0kTnLSmPouWyeGwAAqajDhSNknl5W/JKrchyaXxr5bzlV0mg7b+XoK/Hc+OxTKE8+bzTIZcW/V3fxN2uJi96tm/8lnutOnQ+Pvlwxy3BHOV9tTskTZbi7/LemaWHKE4A/bgwbI87GtSSu8Yu1a8lxHZ1CI2U9SdTpa0Qtrb5G1O/4b86gnlZ9WmsfrCqhIVbD167r6e0AK3LT+hyzXi/ylpDpNhHaIJHq9OkFdKOZb/F7r3lXfrbvoBQEWoo10A+nzvLCUBefr+Oos3nRWT1qRk+5SfaMC2bIzAAuiQVnCI1JG7E/vJNR0MeZ+X06dDpO/t+hVydrjnXPPqoRmYLMYxOpgXxKJzMrMythRqXLwpk1/988lubv63lsE3/sre+TrkZ1HOxz2epdBQBISafQeFnhFZX2qRXGLgc1ncyqzPszyhMuG4xRqgFn5cv8l+e3Gg1256hVpHLFLMN1E+aaU/IushrhPS9WnQVzbzbCWd0RXgDggxu+RqPa7zoy60lcT1yhImMc16bvaLRd1/NqB5htBB6AyTvLeN45kKeL0AYJU6c305wPrajm/EOrg0KLkmINdPvCKCu+yzEnY+uicq1HXYWpMdUDpV8QsdMKYhX6JpkNNvPCS9RCNNqFbVywqclqoLpDHOvLaZ7Wk2lnmio8SGRwVt4aM59jr3UWGc97LAgYF/a5bIdhAgCkqOyLjBGs5Ws98kN9dMx46GvV6MzyZHX1u6Kk4EpwjpGnf/IuVXJefkwnx6hVY8qVKZOMRoSjvmItFmqOxIdOqQMAkz3a7Bjx9ruOzFHo5RX0AIe39xpNI/U8wB1RGSUZ1SqZYfN6p51bhDZIuDq9mb99MssYbR82Qhvlh5Yk5ULczRA3bhiZPeX8OKJ4s9hnh7dYz6lVv6dc3rRV0+VCX9r7yZATa8RTheD43v5LfZ+QxWMiSM+hAbIR6A7xSVFW+A9XeIZax55/d87szB5V+zlz7l/TMjjPYy/+63yMTKrn/ecVWovEqXR07FEa81xuKbcWBABInA40ZLwaPbOE5pfy4c53ee642C/nlqryu2xuuSi3ecRLDQAsL6cJIi83R92aVK50KjDmzfP3UmuL2ItUmfNam9KBDJCawl1Hxij0WhneboWHW/VHPY+IvPia1eYwR+rNup674S9FaINEVac38yGjA9IrMgdahhScg67P7dao3qkOF5aEzNPmOcB+vejR6U7Pz9QqBGqxF/tiNEyZqXryLKIiIS7KxuO5zNp7igxhufo8O9wmtfQc4zUXW2XM3KNqziM38byhMHP/I/M79nbFTRL73eed4/lG6DlGP88LaLn5b3ON7AAApBSts9bEZYM7D7Z4/L3dqBfUNCN7ipmxqJTUxHKlw4W3qxH/GXSERyf9lJn6PFgAaAzHdWSGlYv6mx4eHjaP8CXaHOYaFiZey8JnXaHwbZDo6vT2dEYtH4IWZ7dfBLUNcce3Q+DeMnveS/OyV5NseqcDhBe0Y29+H5GRT3re6iQAAAAAAIVvt8Yj12Ea0sHgXae3VoJv8gATNCes4t7KOe/ZqEJ5PENroLXhTNo+9mYIfQHdiMY5AAAAgI1vicj1pThNbU2EsHV6dR93Yzpjd+dq9dDioIGeagLfIwiJw4ul4JY8AAAAAH440rBFRJn61Okx9aXlQ4g7AAAAAAAAQABgBB0AAAAAAAAgANBABwAAAAAAAAgANNABAAAAAAAAAgANdAAAAAAAAIAAQAMdAAAAAAAAIADQQAcAAAAAAAAIADTQAQAAAAAAAAIADXQAAAAAAACAAEADHQAAAAAAACAA0EAHAAAAAAAACAA00AEAAAAAAAACAA10AAAAAAAAgABAAx0AAAAAAAAgANBABwAAAAAAAAgANNABAAAAAAAAAgANdAAAAAAAAIAAQAMdAAAAAAAAIADQQAcAAAAAAAAIADTQAQAAAAAAAAIADXQAAAAAAACAAEADHQAAAAAAACAA0EAHAAAAAAAACAA00AEAAAAAAAACAA10AAAAAAAAgABAAz1K3373Pxpw8x20+6lnycd+Pc+j0rcq1bNEH27aTMcVXGY9f8Lvh9O6jZvVs0TPv1FB+4vXmM8PHDdZvOd36lkACLLjCoZZ1+7Cd5arvQAAAAAA8YUGepR+/PFH2rr9K5Ui+t/339P6Tz9TKaL/+/Y72rZzp0oRbf1qJ+36r90A//izLfSdeI3pi23bxXv+pFIAAAAAABBE//zoE7pn9ovU95qb6eTBf6SjfncxHdCrn+y4P7zvRdRtwAjqedloGnVPCS1b/b56FUDjoIEOAAAAAJBgXzf8R21BS7BTHK87nphDR59XSKcUXkW3z3iGKv62mt7/eCN9vm2HjK5l9Tu/loN2NR+so8deWkR9rhhLncRrxj38FG3b+Y38G4BYoIEOAAAAAJAg3JC7ZfpTstG2ees2tReCasc3/6abHnqCjjr3Ypr89HP0Wf129Uz0tojX3P/cAup8/iXy2H/zn/9TzwBEhgY6AAAAAEACLKxaTl1/fxndN3eBnPrIDT8Irr/VfShHyx98/mX67/+MEfKm4PfgY5/RbwjN/3OV2gsQ3m6/CGoblI8+3UI7GxpUysCZ6vX3P0Z1n2xSe4gu7/87ukI82IcbN9Ooe2dY4S5t9tuXZowbRSd07iTTz7z6Jj1b/qbcZicek0EP3XSt/Dtd27Q0Ov7ojioFiVJ4251ynQC3W4YX0rm/6aFSAAZeJO6TLV/I7bL7i6n/mb3kNrR81atq6c8rVtLKtevphx9/VHuTY68996RfZ55Avzvj19Tr5BPVXgBoDTZ8/iVdM/VhWlKzSu2xVT39IP32V1kqBUHx6IJyGi3q8ol024hCuvO6y2m33XZTewBCoYGueWlJNU1+ai5t/GKr2mPjH+n773+gn37+2dgh7LXHHrTXXnvK7Z9+/oW+/+EHMn9OvvD2Fs/tsbsRpPD9Dz/Sjz/Zi8LtLvbvs/de5HV5dj6iA028chhd1LeP2gPxxiFHn35Zr1K2Z++4mYZfcI5KARjQQG99vtj+FY0svo/eXvF3tad5ndcrh56eeCMd3q6t2gPxwuXy7NfepucWL+WE2kt0Ye5vaNSg/rTnnnuoPQDxM+f1P9OISdNUyumkYzvTP+c/rVIQBEXTHqFH5i9UqcTi/H7BtIm0/777qD0ATmigK9w4H3GHd0Zq4tGVH38yGui7iwY4F+pmA1y0z+kH0UD/Wf2c/Pxee+0l/i+TsgHPK8Gbz++5x+5y9CScWXeMQyM9QYLaQOcFZA5JO1ClICjCNdCff2OpqPgvUSmitx+9V21BkPW+/Hpa/s8PVCoYzjwtmyqevF+lIF6G3D6VXnz7HZVy4t98yeP30e5mYQ0QR6cPGyVDpr08MX4sXTmgn0pBc+J55rwYXDQ46unsnqfSkYe1pw6HtqX99t2bttTvkFGZy/5RG3Wn74V9fkOvPlCMkXTwhDnoCo+cR8IN6n333ks+9NFxxmU7j4ibz/O2Xt7vIRL8GvP5SI1zNvnpyN8JWhcOrcq++ErfAh2Cacl7q+QDq7W2DNypErTGOXvn72towZJqlYJ44FFMv8Y549/87lnzVAogPji8feDNd4Qty2+b8Qz959tvVQqay8PzXonYOOeG+JRrR9CWt+bTe3MfocnXjKCr/nA+FeT+hs4+/TS6vOBcuv3yIfTmI/fQ/y1fTDMn3URHpbdXr/a2qPqvNOmJ2SoF4IQRdIHnnP9qyFUqRXRE+3aU/+tTVCq5+PYNX2zfoVJE/5j3JOakJ0AQR9Dfe38d/Wb4aJUimeHfU/RHanfwQWoPNJdII+jDJtwjt08+/hhaXfqk3IbgunLKg/TMwjdUKliuHngBPXbbGJWCpupXdDu9ufxvcrvPqVl0/9ir6YD996PbSp6Ri3cxXLcQLw27vqXiJ+fQQy+8ovaEd8PQgfKchOaxonYt9RpRpFLe7hp9Bd06/GKVMnAHTFnlMrk+lemEjE40+OxclTJMnfkCTXhslkp5m3/vBLroLETLghMa6MJ776+ls66+WaWILu3Xlx6//XqVSq5r7nrYES679In76PSTuqsUxEsQG+i/vvRa+vvaj1TKcPCBB9DdonDgnlpoPmigty5nXD6G/vrPOpUKljOyT6S/zHxYpaCpeOVk87ZW/Lvy78s2fr6VjrlwqNzec4896Lv33kpYmDuvQTPu4SfpjeV/o8/qt1H7Qw6m07odT4/dPkaOzEHr8MTLr8kR0e1f/1vtic6HZbMxENMMeE2pEweOlPcv97Lv3nvT81NvpwF5Z6g9tjOvvEEuMOpW/tAUuuC3PVXKwCHvF40rpv/79r9qjxMvFr1p8Tw69KA0tQcAIe4AgTD39SUhjXPG9828Z1apSgFAPPCCnkH1vwB/t5aIG8OmtRs+VVtie6O9vd+++ySscf7td/+j3468nkpefJU+/uxz+t/3P8j7I/PofdagP9IH2p1hoGXiyMeTBl1B1949PebGOUv0quHgjW+j5tc45/xg0cN3Wo1zvlUad+qZ/vnRBrXl9LcP7CkN5rV9Ts/T6N1np9MB++0n0248Cn/XzBdUCsCABjpAM+MK3K0l/qu5PnDDNWoLEsWcQ24+AKB1OLXbcWrLaAjdM/tFevzl12jIbVPVXqL/7PpWNq7icc9jt8vvmOY7D3nHN/+W85S/+/57tQdakn9t/pwKxk6gvtfcLG/B29i1vvg2bOY0DEgOXvQ5XKP4sduup7NyfiW3eeT71CFXU9bgK+jSP90tpy/w4ImX1/6yQs5p52mzWYOuoHlvVcr9Wcd1kaHsfgvC8e3dPqvfrlIAaKADNLupzzzveU92xvdJ9Qqvgviq3/k1nXPdLfIxbvpTai8AtHR3XH2ZdWcMrpTfPuMZuk40xt2Lc3F4cubAkXFdPJBv5acv+sehr6V3/4lGDe5vVdR5DZxF1SvkNrQM//6/XXTDA4/TiReNlA0y81g2ZcLomPseddzGFxLr1XeWy+PopX9uL8fq+lOefo4+3PSZHOl+4c0KuvHBx9UzoWr/tUGeG2vWfyLTf5z8AH25w6jf/a7Xr31X7edpMM8ufFOlAFKwgf7td99Rg7go9QdfdNHkq//7/nv66pt/h7w+1ge/B79XJPyd+Lu5X8//BmgdeG7k/c+9pFJOXOhjsaiWbaGoBDwgjq/5AIDk4jnebz1yj+ccXw45TW97iEoRbfpiK/W5YqysgMdjVPv9jzeqLaJjOh5BCx+cLBeRKhk3ii47/2z1DNEHH3uHy0KwcAOa75N97IWXylFS7vBh8VjKiac/lJS+qlKQaLMXvaW2nPbZay+aLq5PEx+X++YuUKnYcVRO0TR7CsNdo0bSgft7h7rzqu4AppRroF939yNUePtUx2Pi47PlnMQff/xJ/VUoblDPEhf04FunhLw+1ge/x+zX3g7bSOfvwt+Jv5v79aPvfUT9FTQXXpXTa5G5WHFF0Czk3f74+/Ooe5ejVQpaqpsfflI+eIQOAJKvR2ZX+uClmTLElBdyNPX77em04fXn6eZhg6xR0J9//kWGsJ48+I+0sm693NdYejQrz2nVw1v32MOufv30E0ZOg45D0DlkuWjaI/TVvxvU3vi644nZ9HXDf1QKEoXrXH9+z/te5UN+l++4Pdrkp56L6rbI4bxSsYyW1vxDbnM0z5TrLpfbbqvXfyyjbgBYyjXQ5y5+W2a0+oNvs8AF5I8//+TbE/qfb7+jZ8vfpsqVa0JeH+uD3+PZ8jd9V3Tk78Dfhb8Tfzf36+e8/rb6S2gO3MvJt87gleC5oc5zyBuDVwDljNvLgfvvT3f6ZOIAABAbXqmdb2U06cphag/RP9Z9RPvtsw/dO+ZKWvXCE3TSsZ3VM8b84p7DR8lw1cbMTefXzH+7SqWM9+NOfsZhsHz3B9PJXY9VWxBU985+kdZt3KxSifEfUScc/+izKgWJwpEt3BHn5ZLz8tWWga9bv0EUU7fOndRWKLNT7ssddsObw9z3EPmRl1ffeVdtQapLuQZ62FCkME/tveceooCP38+1x+57hO+VC/Nd/DIWSI6xDzymtox7XHb9/WVyXlKs9LAnt0lXDcP9zwEA4iznpG5qy6h8myu7Z3c9hv5R+qS8rSU32hmXtRzK3P0Pl9Oy1e/LfdF45+9r5Hx2s0FuGll8P+1+6lmUffGVcjV3dlynI+nCPs7bMkHwPHBDcu5VzpFW3IEDibP6w4/VltNhbQ+mM0/LVinDtOuvpLQ2+6uUE0fm/HvZIqp7+VmqfOoBtdeJ2xx5PU6hP+T/Vu0xbt/2a/FaL2vWe383SD0p10A/sE0btRVqt92D83OE+y4HH+D/b4DE4l50/VYb7PNtO+TKnnlX3igXEonGk6+87pifqOO5ijcMHahSAAAQL4e3a0udDj9MpYhqPlintrjjfHe6ZfjFVLvgaco99WS1l+R0Jp6b/scpD8jF5V5f9h6ddsk1dEifAvng7cXv1sjnrrrzQcq/6iY5n93EFXIv6YceQmX3F/s+D8HwVNliOve6W1Uq8cbch2mMifT8G0vUllOvk090TENhvU85SeQHz6iUEze6OdqRcX6RcUQHua0b1LcPLX3iPtp/X6PTz3TiMRlqy4nv7ADAUq6BPv3ma2n8FZc4HsMvPEeGv3HIifviTJRwn8PP7SkqCvyd+Lu5v++DN12r/hKSie9vyqt5+qla9U866aKRco6a3+qgjCtxtz8yU6VCPXgjbqsGAJAop59oj6J7zTPnTlIeEXti/FjH6NnMhW9Sx3Mvpguv/xP948N/yXyeH7x9wZjx1Om8IfT0q2+ovybae689afzIS2hn9UKaVTxOruKsR87xgnGZPhV1aH7vrvlA3i7r6qkPJWzeuRtHVIwZ8geVgngbL+pePL3QC3eYeeEOOS8fb/5cbRlTWuq/+lqlbH8T+YvXwA0vXullx9fJOc8g+FKugT78gnNoyjUjHA+eD8IF6Z67J6dxziKt+skLyPB34u/m/r78b4Dku2X6UxHnm5urvB5XMExW1LyO8x1PzPFdCIZvq8a34gE4Y8QYOqXwKpUCgHjRw9z/9oH3PcoZl7/rymbT2aefpvYY90z382/t3sicl3Po65RrR8gRcl61fXHJXfT47dervzDumQzBs6V+Ow25fSr9duT11u2yEoFHV00HH3gATb95FK1/dY68zRfEHy8Md/esUpUKdYLHXHJeyHfUPSUq5bRgSRX96dFn5a0UB9w4yXOtCo6kOefacY6IGnZ4+0PVltPOBjTQwZByDXSAxuBCmlfejxaHKXGo46+GXE2r1n2k9oa/lQqHV+K2aqnlnx994ngAQOLlaCPoPPodLqyUQ+LfevQeemHq7Y7Rbw5nnXHLaNmoOvrwdLWXxN/sQXOn3EpVTz8oR+Ld9PnmPF1q/afRTYuCxONb6xU/NZdOGDCcXnz7HbU3/vhOAsuefZhevGcCjb64v5zStmnxPLkNicHTVC6+9U6VCtUzqzuNGhT6+//lH+/LupmXhl3f0l3PzhPvO4XeXvF338jYz+q3y+d1flGWB/jcgg1ST8o10HkVzr+v/cjx+FDs++nnXyhIa6/xd+HvxN8t9Psai9pA8lx3z3S1FRtudPUYei0Nn3Qvbf1qJ11/32NylN3LNRddiNuqpZjhk6bJUXJ++K1JAADxpY+gs7/+s05t+Ss8N48OSTtApYiev/M2um5QgWxUzS6+Re0lan/IwTT0vLNUKhQv/nlqt+NViu8KglH0IHhpaTWd8PvhVPzk3EbfmSWSI9ofKqc6/GPeE3K+M+MOnvvHXu27EBnExzV3PUzfaBEuuvS2h1DZA8XyVohuVw+8wLfO5uYXGcv3PR+Q11ulDJt9btOr3+INUlvKNdB58ZZfX3qt43F58f3ynuQ//GCsqhoE/F34O/F3c3/fvtfYlQFIvNK3KuXt7ppi7utL6JgLL6U3lteoPU4c3lZ89WUqBQCJtPtuwS36dhP/QWLxiNhp3e1VlKNpoDP9vNldG1XT72keafoa63dGjtoieh1h7s2KO0Y5lH3wLVNo89Ztam/8TbhiKH20cK6c6pCstY7AMOf1P9Nbf12pUk7cKOfGOTfSvYzs/zvfBd2iNemqy6j9Ic678mzyaaB3PAwNdDCkXAOdRzH9cMEaTeGaaJG+x+fbd6gtSDTuSR83/SmVCjX/3glU8eT91PXoo9Qef/8N0yvP8xQPSTtQpQAgkX7+JboRkeYgcn+1BYl0epTz0HVZx3VRW6LS/fhs+v6HH2VY9OSn5qq9fLu2yPc0P6+33UDnhcg4VBaaR1nFMnkMEmXIuXm0+Y1SKr5meMhK3pAcs8qdtzvU3T36jzK8PZz7xjb+FnudOhzmOXWBQ+69dOyABjoYUq6BDhCLe2eVytuoeTkj+0S66Kw+8r6Z68pm0cM3X9eoW+BxWDuHUUFy3Pzwk/IBqQsj6KDPQ/9bXXQN9EvPt0PXl9Sson1PP5f273keLa35h9pLVFQ4QG3569G9qzVix53x5VXL5TYk3w2XDrRulRWrcK/j8+uvs2fQ81Nvp44IW25WfveVP69XDt08bJBK+Tun52lyasL5vU+nOZNvof9bvlg9E4qnwny86Dm69qIL6aZLB9H7Lz3jWLuC8YJxPH3Vy1Hp9i0gIbWlXAO9Ywf/k5/DjoIQehTpe2QcHnqvRYg/DnebNne+SjlxiOSTf7pBpQxFF/+ePiqfS1f0P080AKI/j3hhOL9FSCD+uDK94p9Nm7IALVuQQ0yD/N1ak5yTTlBbRqTUe+9HzhMWvhO+Ic2jpVyZj4SPMd9yzfTGu95TnyCxuCw4dcg1tOeee6g9seFbprpxY/y5O2+jFXNmOKI0oPnss9deasuJpxzufupZ1oPv1OOHpyYsevhOurRfXxkJwYtHeuEImi5HHk6P3FpE066/0rMTZ9qc+fSzR5Qsh9vz3R8AWMq1Cv786D30t+ceczyenXQT7bP33rSXz0XcHPi77LP3XvK7ub/v4hl3qb+CRLr5oSfpf997r0vAI97dPG7JwQsAPTXhBlo17wnHQkB++JZqyJABkivRIe4Xn3OmvKVWYwQ5/L41OfaoI+nQg9NUKvI89JIXX6VXKpaplLGwFC/sddABbWRezyNrPFoarX69T1dbJOfHBmF6XargEcz+N0yks68dJ++swrc9jXUUnaek8bG/sM9vZHq/ffaRYewfLZxDl/wuX+6DYDite+S6WKxGe0TKcD4Q6TbI27/+N81c+KZKOfGIvl/DH1JPyjXQT8joJC9W/cH3Ptxj990oibdBj4i/C4+q8ndzf1+vhiHEF89J41VdvRx6UJqcMx4O30Zl5fOPybAov8VH2EM3Xau2ACBZYg0jP/l4e+5xJJnHZNDMSTfJEdI/XXGJ2hs9hLgnz+lamHu4BjqHwI/TpsXw9KbP3nqRvvnLIvq6ulzm9TyyFgs+P8zIKb7l0vIoF6qDxuP1Au54Yg51uWAoLar+q9pr8FrB20ub/faVjXNu1PNxq/r7GiusmReC43veQ7BcEuauCo116/CL6edVSx0Pzgfci8HpeDX4S8ZPpR9+/FHtcRrZ/zy1BZCCDXSAaIyZ9ojaCsWNc151PRocFrV+4RzPRUJ4fhKHQkHwvTtrOn255CX56Hly+AVl4uWVB+6Q91+G+ItllHrsJX+gwefkqVR4PKLGI+c8msbuuGo45Z56styOFhaJSx79dmt+DfSdoiE24MZJckE4xh20L903ifbco3Fh0SYOkz2zR7ZKEb21/G9qCxJhwZJqOr7/ZTT56efUHidubIdrXDE+9rv++51snJt4gb+2osGOkc/g4oimgWf9VqX8JXp60TVTH3asV6HrcGhbKsg1ojEAWMo10GcteosmPD7L8XiqbLEsfH/6KXmhhZEygh9//kV+J/5u7u8757W31V9BIjyz8A1avf5jlXLikfFYF3TjMEi+1+mHZbOpb86pch9XBCZcOVRuQ/BxFIT+SIZkfhZ449V97x1zpRwt4QUhw+E8/aVpk+SqvSYelePGHI5jMOkLxW396mvasOULlTLwiNcfbppEX2z/Su0hmnf3+LgdTz3M/U000BPq/rnzaUv9dpXy9t//fa+2nHjEnEfOv/p3g9rjpE99gGCadcc4Gd3UXHjeOdct/dxT9Ee1BWBIuQb6qLun09RnXnA8Zi96m3786SfRKP45afPAwn0OP/cTfx/x4O/m/r6j7p2h/hLi7T+7/kt/evRZlQo145bRait2xx/dkd5+7F55z82ScaMbvXIsACQej5bxtWqOlM6dciv1yLTvne1WfPVwOivnVyplc78PBIc+gs7+WutcKO6mB5+g6lW1KkU0+ZoRVidrPPAaJCbuFD5/zHi6teRpOU8V4os7ySP5TVYmjbtssEoZETFmODuPnPvh2/fyQoMQXNzB8tfZJXT36CvosLYHq71Oiaj/c6fO8En3yuvaT78zcmjY+bFNkYHWL+Ua6P/1WfSL/SIa6EER7ruEKyigabiXfdvOb1TKicOkeO5hU/XP7UWDz85VKQiKSVcOkw8+PtC67bF7+May18g3L9r5+vS7HCPkJg5NDDffnEfi7xo9UqXCC/It4Fobjm466djOKkX0ntZAn/dWJU0vLVMpoxLdmDUFwlm74VNxrtnHm1dz55G2kwf/kVbWrVd7IR74GuQy3AtPNXv1gclyShGPZPI6P9ww57B3PZzdD09XwD3Og48HRW4ZfjGd1s27ozXeIe4cAXtcwTCa+/oS35VFeNV/7vwFcEu5mkDYCzDMU7yoA49oxwuH03//Y5j3C/Ndol3MBGL3mU8IHBe+D9xwjUpBazP0vLNo0lWiga4e0LpFGinh0XCvueM8NYVvtbOfVhnn1cDnTI5cweI1J8wVn8NJVhQXGPRO1xXvr5P/f//jjTSy+D65zU7IOIpK7/6TSsUHN84HjZtMP3t0xvOIbL+i2+X/IX6mjbnSsYgbrxXBURG8wJs+//eUrsdG1TA3nfubHmoLWoID2+yntpziOfjFo+ZXT32IvvnP/8m0X64+u3ic7AwCcEu5BvqwC86Wq6fqD+5Z3WOP3WUIol8D/oD996MRF55LeT1OCXl9rI+8Htk0ouBcOnD/fdW7O/F32HP3PeQKr/zd3K+/7Pzwt3GA+LtlRCEWgWklOAw5WQu9QcvDt7oZP9J/pDTruC70omqs7bfP3rLBziOx0eCRks5HdlApCIJfdbdvwbT6w3/R0D/dTWddfZN1i00u+1+bPlX+P57G3v+YXFWc7b3XnnJ0l889swN+xzf/pilPeS9oBo3Do5U8gso4im39q7M9oyJKbhlNR4m/jdZvTm56ZB0kT9ejj1JbTn/5hz2dpal4msruYQYE+ZrnqA1uUwB42e2XFOuu53lCP7pucbBy7Xq6cOwEa9Cab5fy+O3Xq5Ttf6Iw/c+339HeezZtLiGPxnNhz/ded7vmrofpucVL5DYfmEUPTaEe3Z3hOHuKz99/X+/GPUSn8/mX0Kdf1qtUeBzSuv7VOTLEFcDt+TeW0rAJxmrrvIjg6lL7dkwL31lOA26aJLeP6XgE/at8rtw2nVJ4Ff3zo0/kNjfeeCQfEq/nZaOp5gNjtFR35GHt6P0Fz0R1l4a7Z5XS8Z060h/ye6s90Vmz/hP61ZCrVCoUL1y2Yg7WGUkGXqH97GvG0T9Ew9wPN845vD1WX+74Si4u9+WOncb/5bbYJx5fbt8pOwN+VtWvNx+5h87peZrcfuylRTTqnhK5jXMh/v77v/+Ja//DiHdX4CkGff44lr7zWThO10s00Jc9+7BKQdDN/3MVFd52p0oZuC3Nl+NtIwpp6qjopiOFwxEwfgs/8hz4clG31xepBHBLuQa6l/feX0tnXX2zSvk30JNBb6CzpU/cR6efhNG+eIulgf7K/XfQ7888Q6UAnLiBrtMb2WigB1POsOtC5vhyBBVHNh3R7lC1J3EWv/se/X3tRyrlxAvR1cx9VKUgkfKvuone+fsalQp19umnhdzqMFLD2/i/vep7ND59o9QaseXvw9+LcbTFJ4uel9uQfMv/+QH1vWZcVI10vgUn7tbQMnDYOdcB+RZ5Xk2g07ofT/m//hXtu48xiMYdt1fEeI9yvwY6T5d5+7FpMUVoQGpCA11AAz31RNtA5/mJf5mJnnFoHDTQg+n0YaPob3UfqpSB55cHYfXsX2eeQO/NfUSlIFEWv1tDF4wZr1LGIqD9zzyD7pk1T0Y5MJ5uxnff+L9v/0v/EZV5rtAnQvE1w2nCFcZtN0dMmkZzXv+z3OZV3nmkDZoHj7LyaGs0HrzxGrp+yB9UCoJuyjPP06THZ6tUeI3pNPVroN88bJC8dSdAJGigC2igp55oG+hDzs2j4zp1VKnmcdCBbVDwt1BooAeT1wh6UGAEPTkmP/0c3fHEHLnNt07jW2Ayboxz+eB3z+tY8FS09EMPpsPaHkKHHXIwtZePg+R29ap/0qK/rFB/aXQG8324V62zIyuemXgTXV5wrkpBMnEofLszB8j/R4PXC1o+y5iaAMEXy3XemKkmaKBDU6GBLqCBnnqibaAHwdGHp9PG119QKWhJ0EAPpt6XXy/DV4MIUTvJwYu0mbdRu2HoQLp/7NVym2VffCXV/muDSjkdknaAbHBzODPPJTX+L9LcELca4UZDPNzqzNzwO+H3w33vHIIGX/PymqccCcLcW5YVtWvpd6NujRgZ05iopvOLxtMby2tUysb32edb+QFEgga68NGnWxyL9hzRvh3l/7p5Vlas+Ntq+mL7DpUi+se8J2WIHcQXGuiQDGigB9NVdz5IT7/6hkoFy9UDL6DHbhujUpAofPz5PGC8KCB3ipx4TIa8//nQ8XfJ/axk3CjKPv4YOQ/1CPHYZ6/4LRbKc9iLps2gssp31R4jrP7KAf3o7tFXRLVYISTGH266g159xz4upmHn96UFf662VuDX8a1Yx16CaLeWhG+pyAN027/+Ru0JhRB3aA5ooCsnDRpJGz/fqlL+9J/L65Zs5vPhnmNez7t1PqIDvf/STJWCeEIDHZIhUgP92runqy2+VU8mGuhJ8sKbFXTpn+5WqWB58Z4JNKhvH5WCRNlSv526D7xchrr6SdYq6v/+v130yZYv5EKFnE+02Q93aWlO//n2WxneznfcceNFA+e+9mfZkeN2+knd6K+zsep+S8N3c7h3Vik9Mr/cc0oDGujQHFLuPuh+Jv5xmNryx5n1d9//IB/f//Aj/fSz3eDmTb5vqvk8b2tPi7/9Wb7GfN4r43ebeGXk7wQALRePlJoPNM6T55Lf5ctQ8qA587RsNM6ThO+J/eykm637jru1O/ggKr3bXkQukQ46oA396oTj5D320ThvfouqV3jW0Q7cf3+5uvfF5+apPU7vvb+O6nd+rVLQUrRNO1A2mjmKzQt34lWt+mdMj69Fox+gKTCCrnlpSTVNfmoubfwidCSdfyTZ6BYNbRP3du+9155y22yA6yPoe++1F+2hCv8fxHM//PST3GZ77L477b33Xta913U8cs6N84tQUUsYjKBDMvAIelnlMpUywtghGHgE9fc3TnIsytWc+NY+Cx+cQke0T/xt3sC2SZT3PHK25qOP6eeffqZ999mH8n6dTVcNOJ8ObLO/+itIJQVjJ9Br2gJ+Jl6faM7kW2Tj/dAzf+8ZfYEw95Zr2pz5dGvJ0yqVGBhBh2ihge6B56TvbHCu7Ljrv9/R9fc/RnWfbFJ7iC7v/zu6QjzYhxs306h7Z9C33xnhMdwLPmPcKDqhcyeZfubVN+nZ8jflNuO5bg/ddG1Ib3nbtDTMOU8CXvxl61c7VSrYOhzalkrv/pNKAUA83TP7Rar7eKOcD/zzL3YHbDLsvtvucm7zicd2losHAUDz4vD2g3pfqFJOCx+cTBf2+Y3cvnLKg/TMwtB1LHiq0rvP2lOXoOVAAx2CBA30KDX83y46d9StMoTJNPHKS+mOqy6T239f+xHlX3WjyNyNHtW0NvvT0iful6Mi7I4n59Dkp56T24znKr31yD2UdkAbtQcAAAAAmgvfg57vRe92wP77UcOy11TKWNC37zX23X90n735oux4g5YFDXQIEsxBBwAAAICU99Kfq9WWU78zctSWge/0w7fS8/LSUu/3AACIFhroAAAAAJDyXi+ZSj+vWhry8JpmVr/0Fc+/vX4I5qADQNOggQ4AAAAAAAAQAJiDHqVvv/uORhTfTy/9uUqm99tnb3p+yu30+/wzZHrdxs008OY75P9ZZpej6aX7JtEJGcYicS8t+QsNm3A3/e+HH2Sab9PxzIQbaf9995FpAAAAAAAASG1ooAMAAAAAAAAEAELcAQAAAAAAAAIADXQAAAAAAACAAEADHQAAAAAAACAA0EAHAAAAAAAACAA00AEAAAAAAAACAA10AAAAAAAAgABAAx0AAAAAAAAgANBABwAAAAAAAAgANNABAAAAAAAAAgANdAAAAAAAAIAAQAMdAAAAAAAAIADQQI+zmvkl1GZ+nUpB6qmjaRPLqEaloAXbUUVDJs6mBTtUGlIIX8clNG2due19HtRXzaY2JVVUr9KRoHwAP3xuDKnarlIAEHQy/0d+Dgmy2y+C2k4pXBjm6ddVZj7tGpypEmGsK6M2pVtUQteRKicPoByVYnzxdqlsUCkW+jeQTFzRrqBilWIFeYU0L7e9SsUDf8Z66oPjHDzc4C6ppXKVjPqal5Jx7kDibKcFJaU0wmpkx5IX87FfSRlFw2lQO7XLizy/dtIYXPvBosrsSYVFNK6b2idFm1cb586mvu7XxxfXSaanu/MU47MXZjn3y/pLfRZtKMqldLUPwovpN2vqtRxST0yjWZHyD4gzd54vxFTmRybr+PU9GvWeaB9AJCk4gs6FssioSVyok4usRyVVRDcS0m2A/RpxTXIl3Uh7X1j280W0Ia+B8mIYbYFE4EzQPO75lF1ZqkbJoFWTFa5N1L/IPPbi+k3fHuO1iHOnZbIbOeax31XYlj5FZETqaJdGa0pbYmRTexo0JIuocrEdwSHysul1Ii9C4zx6/JvVd6RJtImqk3Xdc2PQym/SaEQJIuuSjztG1DGYXEiz6isCFaWC9gGEk3IN9PqqlVTs0YuWM1hcvFRLc1SFm3tbHZVv7hGNIpSFX+eXAaTn9qBJO3aKIgKCIZMuyxMVt3o+XkbHTRv1sI8h759NC9ZxuLN63nUe8DE3X+dusMkQKPN1jtB3/fMQRp0U7TKojzaCkZOrV3Cdx18eR27U+05XsM+d0GtenTM4pgGSRv1P1EYmu+Vqo1ncgLePvXEs/Y+hcb0b54UV4sjlg4zO2EJ51nuE0s8V47VV9mfLypn2XRyVNef5GXq+mc+J7+Uqqxx5UKqGY6b3oIe4Ahz236//juax533GKFxxqdgvjsmb4hja+bxxvOzjwWn7vNHLBkf+r/KWBerYhHT08TE097fLFd+daEQFf3fx/vNqKbsQI22xqP9A1LqyetNlWUQLP3BemyHXh9e17Hm8nNdk2GurW2+a1a6BPt1hnC+O4x22nIH4aU+D+nak8vptMhVy3D2Og5W/S87jrR9D3zqgfE/7Ob9ygVntg4jfA1JFijXQt1N1bQNNyvIKR2lPfbLSqLgWF0FKWreeqFD1tBa5RiyogUYsIXpI9nTm06S6CisT5oxTj8boU6uHQYvzrT6DNqjnKjNFgS8zWS6kK+zPm4zQt4Rrl0n9qZa6eBZyXPBqx0Mc/wz1TDRyskShL/INqzElzqXizB44poHBebto4HiOYPG1qI+u54vzxJ+83jlM1h0xxZFV4rwpUFEWUU99qBMNhyH8uUYHcZeJix3psWaFzjd/cuclXalaD60VjY0utVoeRMEaQUqm9Nx+cgTNUYG2uH7HogxaKM+XTBrHx0Jcyxwiv6sol34nrne7nrCNNlGaODGMSj/tqKOFIvfgjkD7XFHvWUiuEbIt4m/7yeccofNcQS9tkCN/5n7ru89fRiPS8xMaat/6cL2PZAdd+okiZ69cZucDrutDDtz4Xsv68TLOlzXaCGh011ZoPVN2HuT1RodLMnkdd64jtNtC1Vb+YJw3s/K5vRCmjiDqg9VZxv4NeeLYLjGvcfGaEu5MU68R+Uj/2iii7sJ+D0glKRjinkYZPnWn9HRR0CZQzXzReMvsiow4KERFaGylUXBzoWxVemQGqbalNJo1xBxtzaQ+Ip80R93niNfrGWfOYNGAV9uyx3awPUrLDTlDezpa7DTeA5JDHAtR4ZVTWbg3W2+oywa1Vultl0uDIlWAHedOV0dkTE3tFp9OQGgu6bnDjQaSHMnQGuqyQZVFD1mV8Ewa5Ne4/kBU6irTog4tdoye+o1+WB05RsXdnTZHe3zzp3WiwSa+/2XW+SoalIVmPiMaEUvEudjXmQdZ75lyjHBxz1B39+8of2Me8VRpXfu2VFC33ngPkXesycqgbDO9fSeRuPbTzbLBKjcEHkV1hFh3pDEh55pZqXd32hqjf8V1ouGOinps5LFV0VPuxg8fy6ijGrXjpc4XO98Q11Z+FpHeUaupr1psfQfuJCgQZb/xd3bnASSauLZ4LQoumz2Pu5HnWvUyrbMtbB1B2y+PrXpfM1rXeo15DfsMAtrtgzDfA1JKCjbQG2iTT7uovr6BCtIPU6n4KK8stSppcqTVFVoPyWaErcljIuckmxUh7hFX+1VIo58MR0dOGh0dLuNUoYryoY1s8ZQK7k3l/ak6otUccgYbvdn6mhPRX/d+5w532piVvjqqrutIfaxCGQLDXD9ENtRVGLJoUJWnt4+iwd1AIyp5obHoQ4vNc00+mpzvh8mfInx/GZptnrecB1mNgxQkw8V9Qt13cASD/hv71BW0xntNbYNoXOWK699Mb6FscTwM7rKBO2b96x+svLLWVak3ceOigSaJ02jEPH0UHiLhY1IgO02Yq5Ekzod5Xh130XBfd+3aU7be6KtTncHiIUdrzY49Pn/Mjho0vhJM5NtWvmmMgMtry+e4ywgL1cliTIswzpuo6wh8DqhNFvIa7hjQ8l+/9oHf94DUkmIN9NDwIhv3ZDZohWt86ItAoHEeBPpCX3rj3Fil19hvhDRGxzXKsmM7rVGbsnG+pK0W4miObDFjRDfqsCeIK2PNCXs0K7pRRa9zx8CjJ2s4X5E97YiSCTTRUN+Qp81FjarBmkazCnn0tTnWFoiQP7m+P1cmbfoiSeqR4ouL+Ya6i4ax43cSj9CGMuN6BJ8/dfSpalxliB9Upuv1zjn3CPx28bx/BB8ryMv3XMiKR9fW5PWjcYPFd9fWyoFIuMPU2RCSnVR1K+3rWO+4c0xBiMCdb3DZ366tOCMU/XxyXHPcSZAm8x80vhLNmf85rmev4y4a7mPSuV4QGtnQmMijkNe4OoR92wdhvgekjpQbQZcLMdS5C0CjAqTP7eJRUrshb4TGQGu1jTbt0CpO3KsdVSWcR04b1OI9hpoK+zZesqKsZcbckx8K4e5Jsa7MWSHXjrEMS9PWFeDw9QWxVoB5VKR+PU2rRQhq8Ij82zFianTGSnJ6gjbXW/ztAr+IlvY86sKrMSe7kR4mf1Lf326wcWi12UA3GpIYcXUTDSQZ6q6tF8K/o54HRMDT4cprV9JC8V6cvxsjXiKdbnbOqbJB/+31UGtfh9GgIuMOEVYdReRdeXVmeLX53WMc7U1R1qLAZiNIPSrFsXEvFhdTuHtIvmGU/VE3tsXrs2uX0ZzaNI9pDpBUruOek5VGCyuWiWvZXkemMXWEkNdwO4OnHIlzJBpe3wNSSwqGuPOiL0U0pl7rUZ2oFgnSerDMhrzx/Hrq4xj9hNaF521yxVudD/N2UnaUGaIcia23Q9mqs+w56OZIjfUcaXNDrbArI7QJ99NOsG69KWOJ/Zs7QtQ53K2IK732c6IeHCNuDDVQcT3CFYMnky5LX2kfe5XfG9cclwdGg8h4roI2hYuiUqPvnFeENOZ41IMXghTvE99pK+HyJ/Gcfu66yiqee1+Zrodue3zvVCSO1UN5+lQl9+8oHtZoqgqLVqu4y32ygdZA2WZlW4Ytc4esHdLKUxwcvz1HU0UVvWB8F+Jzcm4ZDSl1Ta0wz7NYRntTktER59Ugkmsx8GJx+hQ0WSao3znitezON7zuYR9OJvVJ30LFVocOJJXfcWfceVK3xb62WWPqCO7XiHKHo6C8o3I8eH0PSCm7/SKo7dTEK6aqlRajvnAAAFx41eax1A+dLdCscB4CBB8vIsmrf6PeGTR1NI07Ot136ki6oHwPaC4pOILuwr1ck/OJrJ4x9EoDQKw4tBjhitDM9LsLAEAwiet0er1+9wUICp4WsSYAt70LyveA5pNSI+izV9XRdeUVKmXjOUlu3FhPlIn5PemWPj1UCpJh7bavqMcjL6hU8HQ/7FBaOeoSlYJ4O+zOx2nX9z+oVPxw3sEjIXl1xn2SeTTEzDuWXjGQenY6Qm5D8zl/zqv0ziefqVTrwvdt5/vzWnOpBfd56IXzGs5zWrvJFSvo3uqVKtX6pMpxbIw312+kgS+8plLBwAs8yvWOdvDiZcPltBV29MFptPaG4XIbmu6rb/9Lne55WqWiw/c252ja8nZZcioKT01pDn7fo3/msfTC4PPkNqQGhLgDAAAAAAAABABC3AEAAAAAAAACAA10AAAAAAAAgABAAx0AAAAAAAAgANBABwAAAAAAAAgANNABAAAAAAAAAgANdAAAAAAAAIAAQAMdAAAAAAAAIADQQE+WHVU0ZOJsWrCDE3U0zdoGiMV2WlASxbkjz7cyqlFJaHlq5pfQkKrtKgUAQVZfNZvazK9TqWRDnQIAoDVJvQb6ujJqM7FEe8RQqMlGTyNf2y6X5k0eToPaqTQEB58TJVVUr5LhoNHUUnHHhn7tikekyrRnJwdXhEto2jqVlIz3du5LHpyT0Qo9B5L5u8kGnPuzffMeNLhav+bNN1KGq87X9Gu+EWUJAECMUnMEPTOfdk0uMh6FaTSiJPJIo6xclWyi/kXqdfwoyqCFKGABWog0mmVdv4U0q74ifGWtXSb1b7eFqvXre8d2WiP+V1yrV8i20aYdHalPN5WEAOIGbyktzCq0829xDvSvLU1C5dqo0HepzaAN1mcX0Zj6ZVTTrStN2rGJqt0N8XXrqTizBzp0AZqCG+elRJX6NS/y66aLsSwBAIgRQty79aZZ7RroU1HxDunNtkbQ6mhOJYkM2TUCzqPihR2peIkxAsKNeEcmza83R0cQchwIPNqo96TLjpfSLeL41FIXsc84/sYoqf53ZiU7T9TlyytFpd46lvrfmiNeavSryu65l++r9eQ7O3Wcn+duMOgjb0Oq3JULr88P5f53Q3sa1LcjldeL39NjFNMYlSbqk5VGa+rt36v+g01EmR2pQOyz/p4bU+3aUobYdI6SqnPE49rX8wrHa8I0FkOPoc85KT/P/FvkOaxmfgWtySukebnt1R4mzoGifJpUt9J53a7Tfj/XeeF3rIzzpU4bWbN/9/qqxTQiPZ92FeVSutrHcgYPoBzKpD6ZDbTwA/2aFMd1yRaalJWp0tBUzjyUj5N3Xm1cV8782M4vI58fTL9O/Tvv+b1KaYT4DsWl+vs4PztcWRBTBF8qy+wqrjOTuOZzjetKz4Mlr/qaVmY7/tYhmrLE77UAAN7QQLe0l5VxfWRMVsbzelOOrIBnUB+v0Qy/ERAIHC6Q88iOnuDKenrucNpV2JGoXZYc3RrHo6DieFOh6h0vyiKqXCwqQlyZL6JKUbYXiIr+rslcueYGUoX9t44pDA00or6rsZ87cbgSVqunzQq88R7ceDDeQ3wGab3xosDXR94eopWyUmdwfb6M6AhtkHn9u0ETcg3XUXVdRxrD50d6GpWLPMGocG2n6lqi/vm9qT/Zf19Tu4UKRGMqnZ+vt49VZeYWyuMKdshIvHqfE8VxcB1fx7HXOI+hMfI7bZ3XOSkq+I5IH96X6vh4phm/dwh3A1lct0uIHjKPR3otdTEbSRGOVXnlSqIh6jnz2Mtj3RC2sZ2TJSr31jkm7KijhYjIiJ+weSiz82qZN3rm/+pPw50frK6CqrOM5zbkifqE6rwPlUnjeORVlBeT+LNk500UZUFlmj0a7JPfg4bzdnFMGtdAFtewWWaHnAc+wpQlAACxSPkGuhzdIKPxnX5ihjYyplWiWbqorBtbLodRhlfDHQKHG1ukj3z66TbAaKgz2bhS2yHa09HipNBHWG1pNCtfVcq50A5Jc9SG2F63TJx/WfSQVoDn5IvKgKywq5G0vvbIW3puP1mpk9RrL3N8V/W+mqj/3SlFNGRLzVFKo5G2yTyMMrxYjbroFS5uOMm8go+72ajbTp/Wm40/0WAebB8rbngZjM4/6zyx3if0+MrGGo/EOKgIHvP8cb+fA+dH2r8FlDQ62uc6zuDrwyKu0yHa8RDXYkHdetEIinysCvL6WR108thb11waZYSrn3MUl9bhwx3D5Y5RP2i8CHmopOXNLGz+73d+KJn51mtlfWLHTnFkBUdUi8/IdzRlQaHW4dYul8ZkuqbggIvRESKnsoQdBffSkSoHq/NCla3e+WqUZQkAQAxSs4FeV2GFLcmedTP0kDNhs6JkVaL5CcG3gcPzT/0rfxAgouK1IWuTDGX3Ck20icqQFapqhCH6yRnc2MJf4+78EQ3AbLNiF6lyr0Lz7e/qUYmI+t/d2jXQCOu4GpEHZmWaG1Rm9AyPiNsjnlqFa/tOKlfHymqcydFO7fpfZ4dEyqkTClfWjYq2eP+KWsrWGgwyukJ/jWdeo393kW9VNng05BmPqucTqff0D7FNNaEdV6ZN9Q2ULY6rJ74W1SaL7lgJ7dtSgdrkzw7fYcIdLkQjKswRd70zBpouQh4aIvr8331+OOjPyUVi1ch3uMViYywLuHPJu6MObEakUdPWnDA6422NKUsAAKKHReIc8wJFRt43TY6MyfB2kbHK50LCljQy/N2YfwrBJ0PaxXGXDVbPgporZ6W0qa9ZmTLCEP05C/9GNYjclXxeiMw6p9yVe+4QUptMP5fVwxr90UT+d6eCNG1hH9fvxKOY9TwSZoQk6uHFZoXLUdniPIFHzrjRbo6QcON8SVsrlFZOnTBZnX/u93d+J/lwzVU2dNQWOlIPc3QnBI8a8d9wQx3zVM1OFuc8b5MR/u7bgHNci9EeK13o1CkvcrSVzyd3xzDEQYQ81CHG/N9xfsRBTGVBhM4lcDE6L2W+rfY0XuPKEgCAaGEOupuoeGfXLqM5tWnavKFMuiyPQld75wp5aYMV8uaer7pgXi2Vy20IGv+wbyMiwqqwyxFStR1WuHD3MGTnTy2N1UbfeYTV6BxSlXttHmN91UoqVttGI7Eipk4BhLv74d+6garnr6c1vO6E2ivxaKj4nfMclS1u9G2hPCu0UfysorKsj4Bxg95mjJIurBDvb4U8qpHTeZGiGtRnxdyxgnB3kwwVrix1Rbnwglw859cOTZcjY3Ikmxl5uH0tRnOsQqXn9pDXqXvkrma+Vp7IENotNH2e1jEMcRAhDw0RKf/3Oz/iIJqywFq7RNhRRdPRAAyrvqrM2UHJAypqM3H1NT5WPmUJAECU0EAPISrD6VuoON05b0iOQBa1pelmeKMMceTbd2jhanIuoRlyvJiob5YW5gjNzbECLh87c/RLO27T1mXSOHnrPfV383ZStjaCYlb0jVWaebRF/Z148CJesS/AxqOd+ZQt39N4n+np9mrTfN7JhYjUc2OphzaiI15blEVr9LBbjxB23383OPAo5pq6htDFxMx5qK65hMbcZbuCLOe21tvTZ6rFczoZ5l63hbJVg565jy8/vDpceCqF/t76PFbnOamvAm3cVswroiLlyBBj53VmhqY6r9k0mpW+3vr9ePV1v2uRH9F1jhnzYJ3HT5wfWfoCfkYDrFwcU+/F7KCxwuehbuHz/3DnR+w4Yk8tICrz7chlwYa8BspTz7Up2UljsAhkWOm5XWmTVkYbdTb1myWwvuZblgAARGm3XwS1DQrfFoNXYg1XseW/yavPsuevA0DLxgs5zSN6CNd0iuLOjZWU4b6dJrQyfJzXU5+YG7c4PyBKKEsAoIkwgu7GYWOi4W2tjO0jZ7Caz6t6ZrEYE0DL5l68DQBaH74nPlbWhkRCWQIATZVSI+izV9XRdeUVKuXEi8Hw4jAjdvDiH8NliFsybL71j3To/vupFCTK2m1fUY9HXlApWDnqEup+2KEq1foddufjtOv7H1TKiRdzkytyZ+YT3+Ghtel73NG08NLUnWxz/pxX6Z1PPlMpf7yonjlCmqz8P5LXL/s9nXnMUSoFsZpcsYKu2mO9vOuBpV0W8d0vYhXE88PLO1cOol937KBSqevN9Rtp4AuvqVTi8WJxxrpEoWXJzD+cTReffIJKAQBEhhB3AAAAAAAAgABAiDsAAAAAAABAAKCBDgAAAAAAABAAaKADAAAAAAAABAAa6AAAAAAAAAABgAY6AAAAAAAAQACggQ4AAAAAAAAQAGigAwAAAAAAAAQAGugAAAAAAAAAAYAGuo+a+SXUZn6dSnnYUUVDJpZRjUrqIr4WAFosvr6HVG1XqVRTR9MmzqYFO1QyxaT2sW+Z6qtmU5uSKqpX6WSQn4k6AAAANFLKNtBlI3qi9nAVpjmDi2jX4EyVio3jtevKkl45AG+eFTU+Pinc4IBIttOCkhKatk4lW4FUbGTKaz/MdS7LgwTn02jcN4/03OG0qyiX0lUaUows4+26XvKvQaMM0b8DOm8AIJIUbKDzCFAJ5VE+7ZosGtLqUUkVaEi3cum5/WgW1dJYq4AWBeeSLTSpcDgNaqd2AUCrVCCu8REVHhXjHVU0HfVlgNaHG+elRJVWXa+Q+tM29WQypdGsIvs7zKqvQGcdAIS12y+C2k4JPJLSpb6Hx+g493KW0qa+RTSumzHaMT29kObltjfC2UtqqVz+XUeR2Q+gHLlvJ43hbfXaEZRFG4pyaZN67UO0mLpUNshXsUmFxntDM9KOW0bIucCdNxVUrFIFeer4y/0rKSMvjUZUbpH7x9SXimOcRdmVtVTczj7ueWZFX+1L5wrCkrbGtnrKcW5BkqhjWJhBC0vVtWweI8e1bDDyiSNpUt0663ww/964vvOpf20FjZAjslz5sjt55Gut615/zuM7ZOZHjNRxvJ/5ncUmn0fW+WbmS7xp/nsKifJKt8hnjXOZjHzKGkU2XkPy3+M8lynSv0H797YE/BuOpQzxb9xJfbTjzPh3rBb//jW1RA95/bau3zz2Y6/KB9fvbpQhZrniLB/0z7fzIWgM41q283n9GBXk8bFcSTSEj1NoPj8vd5vYF6ZM8MpPxKb5mdzxbx5HlP/NgMvf2q6eeWykY+SXBzDHde6TJ9vnCl//i9U5Zjxnfa+s9agfAIA3bqCnjm2/zJ8+/Zd716qky9Z3Zv2y/4sfyO33Xpz+S+E728TWB7/cO2HWL/O3y9227e/8UjjhlV/eE5v8t+brmP1aYe0rv+w//Z1fthopCADjOL8ijqtx/CziWFnnhjy+5nHncyD0GO/veL34G+t54zzzPn847fpcSAJ1DLVr0b5u3fkCp81jFppnGMfePqaO65+vd/34avlE6Hcw0n75EZPnqv6d3zG23fsd+Yz8TO07Oc5l4/ta+ZMQci5H/Dfo53PLwL8X/5vN/1vMfxv/Xz8untdyU4596O++9Z1X7N9Re62RP5mfD03l+D3160SQz1nHU12f+m8v/j5smaBfm9q5YLyvfW3LtH69QpIYx8lxzSvuYxRyfK3zwJkHuI+lI092vcZ4b708Ufg8lH/L309/jtNaHgIAKSsFQ9zTKMOnYzI9PU1t6Q6jjHYNtMknGunTqtmUV59FGyKMgkFwpOf2oEl1W2hNXm/HSBp1G2CPcLTLpP6OEcI0mpXvPMYFjtdn0jjrHGhPfbLMcymT+mRq58+69VSc2dX5uZAk4hgOsUcqcvKzqKBuPdWo47WmXh2kHXW0kDKoT5gR4oK8ftZoSE5WRyLx2npryoQ2Qtsul8ZkbqFqaw67/h343CDrc3nkxDlHcTtV15LzO+fydh3NqXTup269aRZtomp9lNY8H+W57J+HMftcjubf0HKln5hBVLnMWtyz/oNNRO58wPdaNjT+2Dul5w6wR9S6daVJalOWQ/I9Ib7UMeprXzdy2lO4fD5SmeCZnyiZ+dZr+bwr2LFTXKGQXOJa5rD22lKZr4aElWvHyLheG2jhB/w3fnlAhDzZOndcZYpDHU0rFedhFv8t6gcA4C0FG+j+FdX6+gYqSD9MpUztaVBRPlGpUXF2Lha1hUa4K8oQeDXzK2hNpqhYVy52LRrFoWhmI0kPSY0Oh72ZDSw7zNWoxBfXGnFvNbVmwQzNrl17ylabsuEmjhE3imSjTRyjqK/p9m2pQG1ypd3dAZghGlzeFTXjOZNcXNKcKykrh9to0440OtrRKDC597eno9P98jZ+Tm1GJbZ/Q4viaDRzpTqNxniEkvpdyyGacOyNMGkzv7HDqLlRuCFrE3Xh/VgXJc78O+i9xVAmaPlJiHDPQYJxHc6Y+y0b6mEWaNPzY+88IFye3EAjtMXg+DXl9eZ8d/25CiItlB71AwDwkmINdKNX08wMnbhntIGy071Kb+6F5QyeG+r6SsAdqbIwTWS83rdbgwBaVyYjHh4aPIAeytMXjeKKmLEGgbWQi2ch7M2cz2Y2sDbkaaNuPLpZzyMrdVRd15H6mD320Lx2bKc17dqSaJobDbd0HoE2Rkj6nxhTLV4T2kjeVO+Xr0SjgT71bBS492+nT+tjbXz4ife/IVh4pHPNkiqqqVoZGkUjhL2Ww4rldzPn8pv5Tb41gs7kyuP82dxQx4rPceQ+RtzgUpshYiwT9PwEAsgYbJmkRzm4mNdr+DzAL0/mtSXMc0U9rFH4NLIXiXOtRYD6AQB4SLkRdCO82b2CplEQj0jXwp08eYS782hHXgPl+dwTHYJEhZapEEcZ3lhfoaIijJ5xq4HDYc6+FbdQXLDb0RdGZ4+NO4YaqHr+es8GASRLg7NDZp5oiWsj5TlZabSwYhktTO9hhx7HRHUAlmp5wQ5eIbyxlS4j/HHEPHsUtaaKt0P307plNCJCWH504v1vCCAOVaZayqv07ogJfy37ifF348acHgXBoa1qU4dw93hSx2iJfd3UV630/N0NkcqE8PkJNL/6qjJnlJz7OqtbaT/PnffqevXPA8LlyVsor1GdaagfAECoFAxxN0bDeRVuMxSJQ9cWZhX6rKashyEaf+duxPNoRyVnzl732ZVzQ2tluGJrupdyy8OdMBVUrM85EwXjoL4dRaWaj5s4L2Q0hDrW83ZSdgyNnZzB+ZRdaZ5Ti2mTFirHOIR6TV1DE0ZmoenSaFb6euta5g45x0q53bpSdt0WynaEGJrniHhNFOHGnBcYHXbqPHKtDh8rDnuvTDfyD36/vPr2sgHg3u9eCTgcHkEmea56dyrG+98QPMYxpUzvjphI17KfSL+b43dvl0sP6X8r2nbmCLoeWitvERXlcYXIZFmtXTdjqUeYUfFIZUKE/ASaXXpuV9qkhZ0bt1zT8rLMDKJ55nMNNKvIeC5cHuCfJxu3T7M+y6s+6AP1AwBwS7nbrIVQt7rJxi1QIJH4PJtn38YJks0MKQ53ezD+m/Uht+ECgNaqsdd8NPkJBJkVxu45MJNkqB8AgEsKjqC7tMuleXJuuer1xKI8kAA1FbWUra0eDMHD4a4IMQRIHbxgKFbNhuaG+gEAuKXUCPrsVXV0XXmFSiXfFT1OoukXnKlSkExrt31FPR55QaWSZ1dhR2pTuoX4di7cU8+dQOz2M3NovHhAstgjXhyyqttVlCWjaMrbZckwcQ5dhMjW3jCcjj44uvDv5nT+nFfpnU8+U6mW6eVLLqDfde2sUhCtyRUr6N7qlSpFcrEvx6r8jbzmeVE/v/wknC5tD6L3r79MpSCR3ly/kQa+8JpKhZLnghpBN8vlZOLF4njeu1k/oDq7bjrnonNp4EnHqxQApCKEuAMAAAAAAAAEAELcAQAAAAAAAAIADXQAAAAAAACAAEADHQAAAAAAACAA0EAHAAAAAAAACAA00AEAAAAAAAACAA10AAAAAAAAgABAAx0AAAAAAAAgANBABwAAAAAAAAgANNABGmtHFQ2ZWEY1KgkAAAAAANAUu/0iqO3UsK6M2pRuUQmWRrOKhtOgdiqZNHU0beJ66jN5AOWoPZAEruNfkFdI83Lbq1SMuIFespPG4Bi2ANtpQclioiHua70ZrkN53tRSuUpSZj7tGpypEgAQV00p893XquAoM/zKk8DUMwAAoCVKzRF0rhBPLjIehWk0ogSjoClBVpqIKs1jP7mQ+tM29SRAEsgK/ybqX2Seg0VUmb6d6tXTAJAAjSnzubxwXau7JudTdr0qMyKVJ6hnAABAIyHEvVtvmtWugT7dYSRr5pdQm4nGY0jVdmOnHGWbTQvWcUizen5+nXrOeM2QqjpaUGK+VhXEHiHQ9VWzHa/1on+HNiVVVuXd93MU+d7m6yJ8RsrK7KqNlLanQbnayKU8Xh6/rWN/CU1bp/abuKJmPu/63R3HMuQ9y2iBOmb8npGOLySYrJDb1xszjsl2j2Mj8gOVZ0g+545xvVep16n97TKojzaSlpObS+m8YeYXXudTmO8GADGwynyOqnHl5+Y1yP+XjW/3qHcmjdOjXcKVJzpXPQMAACAcNNA1XJnOI7PXu5D615ZqhXcDjVhC9JB8Lp8m1VU4CvbyypVEQ4ze8srMLZTHFet2mdS/3Raqtv5uO1XXEs3KDxfOWkfV2neYRbU0VquEe34OExX4LrUZtEG+TjxHFai8u3XrKo+b9+9SR9P00ZJCojzVIKr/YKe2vyMVl+oNZ3EMarsaz/HxqrffX55P9VnWMdHf07CFFlI/+dy4bsYe3+MLicfnx45NVG1VosW1WNeRxqhwVv3YOEfE/M8dqW6Tet0AyuE8QVzTXXyPq8/5FOG7AUCs2lOfrDQqrrWvxfoPxLWa15syxP/LHY1vD2HLEwAAgMZL+QZ6fdViGkE8olVHcyr1xrNReK+pNwvfNJo1RI10USb1EX9mP8dzz/pZPe05WR3FG3PYqus9dtSJBplz9CyU3kNvvF7n/TnbacGSLTSpr/n9jOfKzVA8UMRvqzpeeHRSr1jVV62k4swe9miJbBDtJFFdo/TcAc79atPQkSq14zWor/jdRYWvXjSg5PlknTMCj6KId7QbWaENLO/jC/HRIBrV5ii3+aigYvWscV030CbztFi3XpwTdiVdPzbGiJjR+Rbu3JH05/gcEQ157kBzjJBb/M6n8N8NAKJjl/kibz8xgwqsPNboQO9/opEnF6QfJv8v6REyVuebf3nipn8mAABAJKnZQK9TlWPxkKPORWYjylmB71LZ4NvIzUh3Npwd2relArXJFQCSFWxRSHPvfFam3WDzoYeq83fwpX0OKy61v7tcoAaNOw9GA8mMkHA0kLTzwmi4mSGJPMVB3x+G45ik0dGOCll7Ojpda2RF4jq+0FS8UJMa5bYe+Y4OF+4UMUfUamq30CRxvXrjY6k2me+54y1nsPH5sqHuCl130M6B6L8bADj4lfkyokV1mro60B1lf7tcmsf5RVGWK0+Orjxx1jMAAADCwyJxjkKzo7bgi3pYo1mNJAr2MelcAXD2zvvhxnmX+h7W52/IC9MR4ODR+ECFIAyuWPFUhfVWuDqvwOv4/eT8Q26cr6QM67d1NuhCbN9J5ent1e/ubqRtp0/r0ygDUcnBxSPj9XxOGCHkfdTUg1DOY+l97hjPhZMzmKex6FEVLvr5FPV3AwAH3zKfo1TSaOEH2x0d6HJkXSsbIgstT/w/EwAAIDzMQbdwCGli5vzmZIkKQMUyWpiuh7p621TfoIXWcaM+zAi6hUPhiUbMCzMSB1RfVeZc2IvDhNWmjHSoXOx8nu3YTmv0kXDtNYYtNN0KbRSN+VJzZNMISXYck3XLEOYYeHwtNVD1/PW0Jq+3I4S8vHKZVfl2h8l6njte1pW5FqWqo4WO1/mdT8z/uwFAI3XrStm1y2hObZo95Yg71rk+EGahznDlCQAAQFOgga6Ro1n1eqiqa6XmxuIKQN0Wyg4JSeUKgPlZ4lFSRRmD8ym70pjT1mbiYtoULpRek547nCrTa6mL9n6OhgCI36grbdLnIMtVetX9rzmEUS78pT3PnTVi/0N5DfZxqqWQOej9abF6TYVoOBVaC75xGLPjmCxpizDHFoAb3GvqGkKiXQry2lK1OpZdKtOo0jyWfueOl269KWOJ9ndycTl9tN3/fGJ+3w0AGiuT+qRvoeJ055oOchoKL/hoXqvm9arWFQlbngAAADTBbr8IahsShsOk11MfFN4AwccLQs0jekjrTOFbmk1PL6R5iVw1nT+3ZCeNCZdPeHw3AGgavr6rs+y7aQAAADQnjKAnAa/yjJBUgJahpqKWsrU7IgRJkL8bQIu0o4qm12fRZWicAwBAQKTUCPrsVXV0XXmFSiUer/g6pKSWyttlydBmDnVOttVFl9Lx7Q5RqdS1dttX1OORF1SqZbmx92k0ue9vVAoa47A7H6dd3/+gUqF4ISeeHy7vfsCLOw3OlGGr5nPmCHp5ZanclwhGfmGMoHNYrY7vv+/13W7p04Mm5veU2wDgNLliBd1bvVKlnHjl9QUlpTRiBy+wOlxOUUm04adm0qMF+SoFAADgDSHuAAAAAAAAAAGAEHcAAAAAAACAAEADHQAAAAAAACAA0EAHAAAAAAAACAA00AEAAAAAAAACAA10AAAAAAAAgABAAx0AAAAAAAAgANBABwAAAAAAAAgANNABAAAAAAAAAgANdAAAAAAAAIAAQAMdAAAAAAAAIADQQAcAAAAAAAAIADTQAQAAAAAAAAIADXQAAAAAAACAAEADHQAAAAAAACAA0EAHAAAAAAAACAA00AEAAAAAAAACAA10AAAAAAAAgABAAx0AAAAAAAAgANBABwAAAAAAAAgANNABAAAAAAAAAgANdAAAAAAAAIAAQAMdAAAAAAAAIADQQAcAAAAAAAAIADTQAQAAAAAAAAIADXQAAAAAAACAAEi5BvrWRUW0+6lnuR4zaIV6ntbMMPYVldNWtcvfVppXZLzH1DVqV0T2a6L7jCSrL6eB7t+ktbD+bc5H9McuXhpz3kS2Yrr274r63Ar4+Rg3q2mq+ducWkTz6tVuRf/tGndMzN8x9L2bm/lvG7iokUfXvG5awfnhuEasf1Pyjl2TjwU0nlm2a4+kH4fWXL4Gmp7/q0cLzM/M/MOzjMK55UOr4zTlt4lUDsbUdgg+Z1mJc6o5YARdKqdeSbqoVkwfSkOXq0QQmJnO9NVqR+qZMDJ4japkCdz5mBRrqaxGv9pXU+VctRmtwF43qiLaSioJ8WNU0nrFepybidmRnPzOw9ZJVjZHlqsUpBTZcLqZJqgkpJj6Giqz6jjlVJm0PDVeZXHyy3Quf5xlZfLaSGBL2Qb6gEnP08+rltLPb4ymAbxj+WbayP/PHm3sLymgDpwOqwMNKRF/K/5+fLbaFdZW2vgJ/787Pf9GtJ+RYF9upjK1KaUX0Mv87181mnqqXa1Or9H0hfw3Pk/P9+Ida2njl/KZJIn1vIlOzzH30RS5VUDLozq3Ang+Jlqv7vJ6L1taYxc2a96NvfLmvm6Con6zKM6deo4xzrWXL2z1R9fX1kV3qY4oda7L638pLT9LPp000R6LjRvXqi1oMtFAMyubU2bax/7nVfcZZX8ypUL5GiiicWN2zAy7Tzv2yb/2Ew7nlqetNRWyrJ4yrECmJ1QnqFPd3XbwKIsbJV7v0whGfmnWKw3GyDpG1JMBI+hmRbtXJ+rM/zfDVLSRMXdYvB0W5wqN1ENgtHA6YxSE/9YcrVxLQ88Tz6nP8H9/O8xk6hrViyZeY+/TQnfke2lprbcrJKxf/1yz8Jp7s3hO/DvqPMJ4rNAp5+udITAtcRT6S9qoKu2dD+f/a7+fetjHTk8zV6+m6zeyjqHnb2e+n/mb+X2uoJ2P9nGM8rdu5Pno+2/Rvosjk47i7/2+u/vcNP/dzv1xPLeWH0enDOP/V1Cles8V1XwNFIgC3Eib3N/N/H3kfvd14/h+6tzQXiPF9DsZv62d1j5DO5byYZ6DvP+8GUZ+tnwGHSGe49/Tzi/4CaZ9P+31fv/elm81zSw2GrxTZpbQkHS5KfW80N0p5XPs3L+Z+ZznNaaOlXaczN8+5Fi4juXARe/LvKCXalBOGCn26+8tPte69sx95vEXzGNoH+tUJ/K5Z41rlTvlnR2ip9AQraPEef6Hz6f0Mjr0GJrPeVxn+vmi/qpF5Z8tzNZFs4zOV+6UH3OK3GdyXPt+x4C5nnMcO8GuB4nfeZHzmrSvd3UucL7hOl/097P/Xq8TeDWGtOfN10dxbjnztFSwlSqXct4v6ngXn2E0NOe+a/+e2m+2Ql4z5rXiXUZatGMYkpebx9ijLGbhrk37XFLPVXq9j33s3e9pnLfm8+L1a4x/n3k+O9/fv5HdISdfdl7K8kdFn0y5PAUGcAImZRvoZcVDjZOUK9rcs+ozesgn/hGqcmfi1zoy8BAVNEoLp5sw0v9CiPb9Vz+rChrN6mfNUSFh7iwaaDW4BHExz1QXb8hojGhUhP/+Gs7AzAxCw9+7VwsJFw2hMjoj4ymg5avMSrvZYLcZ4e8dKO+s7kba7H1Vo64DzsqhDh6/ER9DWSh7/Hah/D5XJdgns2iUdZ6IBvVUV4ERVvTno9fxNv4tKsHEd3nAPPZR/r3Xd/c691nofu5ACPOdY5TXh3vSzTB3Fd4+7AzK4yc1jb1uyqZq4ZTiNfK3iPl3KqcHivTfQfwGLxrn3tbN/5L/t/D5HHXFiyse3uGeTcongswagSigvAgRK57Hzus3C/lt9GuMz/EiGqhfc6KRGPJL8jmh/U1U9GsvW1U4rc4mszIa+d+ZOuxO2AE5XMLrDR9+GPlKuDwnbBntewz9rzOHFph/tiRmnibLafF//m3sY68aOOGOgcdzMr9VDTZ+v15WPUj8zsXe17Nef4sm/3bU7Ti8ONzz4vWjvPJpr++easzw9l75lJd+CuXJTnivMPcKesC6ZiJduzHUp1zCXZvceLbPpfgoe9Y+/qHvHyZsPb0TObqzRBvJ6NxUUZfmgCYkFEbQmahshfSQSebIixYWOdMIk3GEyLqJDGGA/HszNORftFE08oaUmCHV6v3GUNTvX3bMCON5rRfY3LdcZjqiwXGMEcJlpMW332y8gxlW6Xj/jV9ShwtLrLQR/iUaqu2MpGnFi+oC18PD9J5oK1zcOTLVcohMyurFPIXGm/9G8TB/Vw5/73DhCEfvqzHqalT6zN/ImjahftMJ1R/L/zMrtNLVi2/w/1zL8uPoRn7ePSUjGlGfj6eE+bdoFQTzu6waTRTL3zu+uz6qye9lPMZnh15zxu8Rx7ljh3eyw9xV421Kn9DjEtN1Y5374rufZfwW+nUY0+9qfpZIL9fS9MlmmSfIz+f9/DB/U36OQ+zMtLou3VMoHCNK5nuozkm/f2/q8D521m9m5oHqN3bk0eY1Zp3j7nS469U+11++8CQ5/cX8fHlt6J3H2rXXU+QbIydxx6HqbDIro8POQIhrTMLlOdHWAfRj2CHsdaaLKV9wnEvNmH+2MuGOQchzZhkqO8VCf+sv5PUYSq+/+ebf8i8N1t+bz+ujvoL5vPl5Xvm0+d19624pwAxvNztoOnd2DbSYrDpSCeXVRLh2PetTcsPmWRaHuTbfKVcdr1o+w/WKvMhluj/xWao8ezmnRr0/D0jxe6u6nxZJaOGOHWvwSp1j3EaSUVsvyY4h8/eExMIcdOtEtUecQx1Hnc0KuDVqEabCJXvreONw6iwbQJFEfn+vBoS5z8x0Bhhx2lba4BoxiHXERnF/vtVg5d5f+d4tqIdey3iNAm6tMTopMyb7t3L2Nuq9r2rU1TrOBu51d/7Gx6oKtCgQZKiQK3TOFPZzFbPS7e7ZjEbM56PXv0Xj0QCI6u89v7vfaB/3LIf5PZoiPYcGyGt+M1XKAtyc4qBr7HVjjtS5r0NDVL+T6kCweqnNtOIIU2vkCEloARuffCKQrPMuUiMl/LEzKik+v7l5jVmfpfL0cNdregHdKPMU+1x3jJx6cV17ZigiNxZXmHMtPcqK1GXmeWbEjLn+h3NepSFcnuNTRkc4htFWZFtU/tmCmNex2ZliNo7NDjBduGNwSifzKJr1AL0D3T43zOvRTb8mo8m/rb/3yT/M5zt0Ok7+P5zUzQ/MiCL72Fqj164OD3ddjvleu42oTzmFuTY9vkfj2eWZjQek+LP9Fwc2O3amzDTWMrAHJMRr5bUh8rwUXs8mmTCC7hFeHErrITMXlIpriEcC31/1eJm9qH49vJGE9DiKYsMY9TVHYcvpgRYYDquH9doZk/7vsvW82OjJNMPV3HNy7E4f9dB7y81Rl+KXQjoyIn1uc/D6t4QT69/b/BpNek+y8YjfgnrmlIVyGsoFtlehGKfrxq3xv5NSr3razU4mdV7FyqywWhL07w0Gs1LNHWXOjsQVi8qdv0M4+kgUP3ymRcXCjFowf2/PUPhwzAbi8gp6gCuj4rwYGbfrpDWwpyeVFd/lnDYUIlye419Gex3DbXLL4zrz0bLyz5bDajD7hYFrwh0DMxqRoy2MO37onbr2uWGO2PqKMv+2Pi8OC4SF1t1ShGP1drdInbXRX7ux87g2zeLWa0Q7RAfqfIyxZZ4nIdPTfJkj6ObDP/LV77wxG+6QeJiDbs018RpFs0MIzR4vs3c1PgsmJPr9BXP0TY3+eM1Zk+TzRTRvh0orZqPUGj3ix3R90Rq7J87uZQ44a9Tf7sHk6AOzt90Y7fboYVQjr2XL+Te0Ry56yjnN+jnFDw6b57lMKm32ynt0vET83CitmG6ey2HmFkXg/2+Ru0PE+vc289w3/93GY+oae4TCuib40ch/jx99pMOzpzzW6ybCv7fxv5OLOaJinsMeoz2Set49Ihsa+aJ+22j/vS2UlY/xtWH+u8Wj11K5MyzrXNHzQPGIONodiRY5Y/3ex3RynIvy2ohw7hvn1lpZGUXoYSjrnHfkKfoc03B5ToQy2ucYZvldZ/IPbC01/2wxrAgH52/cSxu5DHcMzHzDfk6dN8NGiIZN6G8dMd+MMv+2Ps8cYfeIWovEr+6WKqzOElfHqhk9YXe6OPmWkfLZRrDK4jDXpkckTkg+YL2PFhmizhP9fPZkRg26yj+v88G8HhznjXaeWvlNCp1LzQUj6BL3aHn3JPEIqDscikc649Ubnej31wso2Xvm7rHNvij8iK14/cvmHJgwuPe5pfbQ83fneYN2RU4QmXpoGJw9GuMoMHm+UVQjmeL39xh1i/y5SRT1v0WJ9e81fO57jdTyiFTCfwOrwPIKAxOaet24NeF3crIr5jLfmum6Nh3f2wtHvniE90b697Z0nI95/btdDWJPUeaBTcajamrUzu5QiIIZcu13Lqc8I9rLK08xR4PC5TkxldHWMfS5ztxaav7ZgsgIB6/fWJS18hiGOwZ87buf4wafeZ2O0SPetHzTN1+JkH8rU2Zq546WL8QkWflWINnh7ebUT5PVIeM7Qh7ltRuJo0w1hLs2fZ/zeB9HnVGcH8s98gEnfc2hCDyvB3FucwdHyp5PzWO3XwS1DQBh8TxdY4Q7rp0oAACNxbf04REOrsjHIeweABrDrh+Ynf6xMlfaRv0CADCCDhAFY2EXFX4uKsKY5wkAzcoMr9ZDruUWACSD87Zt5vS0AiyiBQBNhgY6QEy8w9QBAJpLS55iBNB6cCgwFtECgKZDiDsAAAAAAABAAGAEHQAAAAAAACAA0EAHAAAAAAAACAA00AEAAAAAAAACAA10AEghfCscc9XdGbRC7W0yvtUVv+f01WpHjMzXF5X73JsVAABiYt7pwPWYukY9H0QoC+JkNU11Hfd4HXvjrj5n0cBFST5CODdSChroAJA66muoTN4Kh5VTZZAragAAEHcTRhbRvHqVAAAIIDTQASBlbK2poDLx/ynDCmR6QnUjR7zjLXs0/bxqKf2MW/gBAMRXr9H0Beevq56n53vxjrVUVhPQMUiUBXHGt77jY2884nE7yp5jjPd6Odn3u8e5kVLQQAeAFLGVKpeuFf/vTp0vPoOm8K6579ph7mY4JIePmaFkjpA4d8ic9yjM1kVFxvNauLsREqf+XntvfsgwOXOf+Rp3aGZjQ+cBAEDpQJ2PUZuCGao8dY3K21U+a+Xh6uEOZXY/b5YRzv1a+eCXn0dRFtjfUZue5Qhxdk7bmudR/oCL9hvbx8xZnpu/u9y/SP29+t3tYyISEesNguv4O84nv+e072h83gxagXMjpaCBDgCpwQxv75VPeemnUN4w3ukV5l5Bo0aWq20Oh1Rz1es3iya6bi0NPS90HnuHnHwawBtW4381Vc4V/+PPFZ83UHtvb6KyKN6XR/oBACBettLGT9SmZvWzs2iC2uYG2xHF3JFrKyseajWcvJ5nofvN8sEnP+eGWcSywLb62btoqDk9a/kMGqW+z4rpQ+39onwZ6vHdUls59ZINVKOR6iivP5lFo6zfSxyvqUbjlo9lLy6zJbG/OJrj5FdvEMfZdfz5fLIa937PmcR3fMD6Lt5wbrROaKADQEoww9sHnJUjw8M6d+4u94eEuYsCbcAbHMJ2nzHKTv+ijdyznl5AL1uhcmaopHpOJ/7uRr3xv+ZdWfkzP9fQnZ6XnxE+TG7KTPV5Y05RewAAICai0XKEbKCZDRaRR2v5btkxI1Q+SzRTNmLs/PnnmcZ0qLKlNaLxtlo9r+XN4jE+29xvv265Rwewd34eXVlgfscvJhnlVtnGL2UDz2i82WHcxudCVJYfRzfy7/bGaKNTfflm2mgdY/u4mL95WD71hhUvGg3wAZOel+9lnk9c7wj3nMX8jqtGU0+1yw3nRuuEBjoApAAzvF0UXsVDZW+6Ndqhh7kzOcLOG4dTZ9kIV7TwNbui561nH60QruZe9e40IEdUvqzGO4+uGO/l6C2XTqGRqqCdMNL4G3eIJQAANAY3WJyNnSl93B2gx1FnWQYI2Wo6lGy8mQooz3Mus52v2yOwPvl5VGWBzfyOHTodJ//v0KsTdVabZtkDJn0OuquRO+wMI53eSRwlN/scsKLiwvGrNyhmvWN3j6iJcM9Z3zEMnButExroAND6OVZvd4tmNfetNO9Zo6Ft9KqbveQ+si8yRtjN8LRhI2iIKuzNBWbM3u4J4n3dze8OF5YYFQpz9Kb4JWcnAgAARMdaJM6jkeZJi4xSEVB6Q8e/zNBG3tWDFyXzy8+jKQuionUeGB3C0HT2OWBG3zWFNUpuPrQoinDPNRnOjRYLDXQAaPWsAnbYfY6C0Az5Wr05UrXIXFzIHO242Zqz6K0D5Z0lKl3L18rPtUZoeM4Z95SLhzWCf0wnLfSdaYvRmT3qjsohAADEnznabY9qm3nwlMt55ezQ0XB+TF1jrmmivY4fcsEun/w8qrIggvQcGiBHa+151vbIPRj0OejRRKOFHkuvNQeiZY5aW6Pk8mEsSBfuuSbDudHioYEOAK2cHd4+oPPh8v8mq4CU8wvD63mxmqcmDJh0n5qD7s8Oi/MLhxR4ZCdib3kBLcdtVQAAEo5Hu91zdXnuuHl7Ln7ea04yj4ZHN8fXJz+Pqixw60BDSrRoLvEey9V3c5d1EL2eY8w1Zpg4XiryIeYOFMa3RjNf7xbuuSbDudHS7faLoLYBACBOrFV9edQ+niFrAAAAIXi03oju0jsVoCn4VmXGmjMcip70e5/HDc6NlgYNdACAeOLF5KzFXnhOYok1/xwAACBe+F7YIaHLPBqPqKtG876VXujigkGHc6NlQ4g7AECCTJmJxjkAACQJGmAJ0PIa555wbrQoGEEHAAAAAAAACACMoAMAAAAAAAAEABroAAAAAAAAAAGABjoAAAAAAABAAKCBDgAAAAAAABAAaKADAAAAAAAABAAa6AAAAAAAAAABgAY6AAAAAAAAQACggQ4AAAAAAAAQAGigAwAAAAAAAAQAGugAAAAAAAAAAYAGOgAAAAAAAEAAoIEOAAAAAAAAEABooAMAAAAAAAAEABroAAAAAAAAAAGABjoAAAAAAABAAKCBDgAAAAAAABAAaKADAAAAAAAABAAa6AAAAAAAAAABgAY6AAAAAAAAQACggQ4AAAAAAAAQAGigAwAAAAAAAAQAGugAAAAAAAAAAYAGOgAAAAAAAEAAoIEOAAAAAAAAEABooAMAAAAAAAAEABroAAAAAAAAAAGw2y+C2k55t814ht57f61K2S4+J4+u+sP5KhVfT77yOr34dqVK2Xqe1J3uGn2FSkG8Fd52J239aqdK2W4ZXkjn/qaHSkFr9sOPP9Kz5W/R1w3/UXuC4cD996cRBefS/vvuo/ZAsr349jsib35NpeLr6oEX0uCzc1UKWpJ/fPgv+ujTLbR56zb6TDz4/7vttht16nAYHSUe/P/jOh1JvzrhOPUKAGhOX2z/ipbWrKKPNn9O//v+e7W3eR3Zvh39qttx9NtfZak9AKHQQNecXzSe3lheo1K2cZcNpnuK/qhS8XVrydM0bc58lbL1OyOHXps+VaUg3jqffwl9+mW9StmeveNmGn7BOSoFrdUDz71EU55+nhp27VJ7gmU/0TgfP/ISuv3yIWoPJNN9cxfQLdOfUqn4mnb9lXTTpYNUCoJs7YZP6bW/rKB3V79P1f+opf/79r/qmfAO2H8/6iMq373F44Lf9qRunTupZwAgWWYvepuuvuth+v6HH9SeYOl/Zi96adok2mN3BDNDKDTQNX4NdO4V73xkB5WKr01f1Hs2FNFATyw00FPXV/9uoMPyB1BLyPk2LZ4n8x9ILjTQU9snW76QEXUvL/2L2tM0Q87NoynXXp6wegQkxrff/U920Cx8513KPKYzFZ57Jh3T8Qj1bNN9uWMnzVz4JlWvWkO9Tj6RxgwZQIekHaiehaao+WAd9bxstEoF1+UF59IzE29SKQAbGugavwZ6c0ADPbHQQE9d94vG1zit8XXsUfGrcMXDx599obaIJl05jCZdNUylIFk4qomjmxLh3jFX0s3D0EAPIm4wTXp8Nj2z8A21J76uvehCmiiu6cPaHqz2QNDs+u93tLBqOZVVLKNXRcPc7deZJ9Cgs3Np6HlnNfo4cj3zWdEwL6t0vv+owf2pZNwolYKmGDRuMr1cEZ8OtkRb8+JTlHVcF5UCMKCBrkEDPXUkooHO85lXrV1Pn2//in788Sc68rBDqfsxGbKHlOcVQzCMue9RmvHiq3K79yknUfUzD8ntxhp0i6gIqJG2i87qQ/PvnSC3G+u80bfTW3/9m9weceG5NHMSeteTDSPoqefdNR/QBWPG07//L7HTXtqmHSjL9p5Z3dUeaG7cKC+rXEaviEb5ouq/qr2R5f/6FBp8zplyTYlIZTyvefNU2WKa+eob9Fn9drXX6fSTutFfZ89QKWiKI84e5FhnqFf2iXRCxlEq1Xy+/+FHem7xEpUyPDXhBrqi/3kqBWBAA11z0bhimUEHwcCzfksL7p2oUhBv8Wygc2Z7y/SnPRedY2lt9qdbRhTSbeIBzQ8NdIgEDfTUwosCDrk9uR3iPPf0D/m9VQqSjdcTKBeN8ZeXVtPbf/07fdeEBcT23msvOahSeG4enf/b02nfvfeW+3/6+Wd6c/nf6GnRMH/j3RqZDqdHZleqmfuoSkFT7H7qWWrLMO+u8XTxOWeqVPM65oKhtPGLrSpFNPW6y+k2rDcDLliZQMMrKwYF5p22DDc88DhdNvFe38Y5a9j1LY1/ZCb1v2Fi1IsMAUDz+c3J3eX0goLc36g9Tgcd0MaYfuDx4Oe88Hvx87/JylR7IAhmvLgw6Y1zxgMCj720SKUgWThCYmTx/ZTW+wK69E93U3nVX5vUOGe8CBmHw3Nnbbszf08jJk2TdYOjzyukC6//k5zHHqlxznbfDVVyADBgBF1z/3MLaNzD3qMm1w0qoHYHH6RS8bFt59f0+Mvet/J58MZr6Pohf1ApiLd4jKDzucLnTCwwdaH5RTuCfvesUvrzipVy+7enZFHxNcPlthtG0FuvWYvekpV5t6MPT6eNr7+gUk4Z/YbI22+5YX2L4Hl92XuyAdWcuDzgcgGSY8x9j8hOmSDi+e3vzX1EpaApMIIOLR266zTh5oR985//U1vx802YuW6YnxZsVav+GXPjnC1+t4aefjUxCxBBfK3b8ClVr6qVjw8+2aT2AkBrUPuvDXTxrVNUKjF4gUee4hQOfwe+nRskx8q69WorePie+pAcvO5ALA+d1/PhHgCNgQa6hm9zcXi7tirl9MKbFVT81Ny4PkrfqlTv7tQxvT3lnNhNpSCIRhbfp7Zid8MDj9GOb/6tUgAAkEz1O7+WC8LxbbQS5cRjMuSUho8XPScjYfxwBZ5H8b9u+I/aA4n0408/qa3YmKPbNwwdKOtoifDzL5HD4CE+KleupgPPOD+qx/hHn1WvMvA16/V3Xo++19ysXgUQGzTQXX5/5hlqq/kMCMB3AH/z3qqkjZ/b4Ulu3bscTWeelq1SoThzf3R+uUpBkNz17DwqfnKufPAIm2ndxk+t/fyI1llX3xTVA4LJb0SLI6r080F/JHoVcGi66+971Hcl7XgpvdsIneepcTxNJdztszZ8/iXd/shMlYJEaso8b26k3z/2atr8Rin9ZebD8rZoHQ71HtRpjN3Ef5B6Pt+2g1at+8jx4LtKrN2AyL1Uhga6y5gAzPsuGjJAbUEQTZ/3itoKxbdU++ClmVTx5P10T9Ef1d5Qjy5AAz2I7uYGuopw0RvoH276zBH9Eq3KlWsiPt4RD2hZuBGunw/6Aw30YFuz/hOa/+cqlYo/Hl3lkdbMYzLUHgM35q4eeIHc9ur4efKV12lLgjsNoPGj1L+I/3RnZJ8oO10+f3s+VT71gDy27Q+x1ylqs99+ait67s+A1MBr2AybeI/jccXk++jyO0LXP4HUgQa6y3GdjqSbhzXfLXBuHX4xdTnycJWCoKn7ZJPvHLas47rQ47dfr1JE4y4b7BuRwSHufGsfAABInvGPxm+kWl+9/76xV8lbp72/4Bk50urlsdvG0Fk5vyK/tXmnzZmvtiBR9th9D7UVG7+Rd+5syT31ZHls65e+Qm89eg9dOaAfndL1WPUX0cMq7qlp29ff0LoNmx2Pjz79nFauDe56CZB4yA08TPjjpY6eUC8H7r8/9Tk1K6ZHm/32Va/2xqFS468YqlIQRM+EWeBt+s2jaK8991QpQ7iwxhfeWKq2ICh4VXfzek1ve4jaa4Sp6tdytPbde6+Ij33EA4IJNzlpXThslO9LHQ9cnvMicObjxqEXyfua+91mz7Tg3ol08IEHqJTTI/MXhr1lJzTdTz83bg56tCPvZ59+Gj0xfiztvnvs4eqYgw46lD+pDQ10Dwfsvx/Nuyv8rVf+8+231POk7lT55AP0zlMPhn1UPPEAZR9/bNjVHPfYfXd64a7bKVIjHpqX36j3MR2P8Gy4HXlYO7qwj/e9lN/660p5HkFwvDHjbuu67Xv6qWqv0XDXr+lofbvizageAJB4T73yutpqPtw4HxNmGlsiw+8BoOXYc4/GRXtA64AGuo/8X59CD910rUp5u2f2i3TW1TeH7fHetvMbOm/0bTS9tEzt8VZyy+iwC4tB83vv/XVy9V8vowt/r7ZCmfMO3X76+Wd6tXK5SgEAQCL9+b2/q62ma0o48pjCAXIgwMvrf1mhtgAgqPje5dE8LvhtT/UKf0cfnk69sk90PHhQINzdH6D1QwM9DC5ELzv/bJXy9s7f11D3P1xOr3kUqnNfXyKeGxGxUnBF//PoGp9GHATHoirvxjTPQbvkd/kqFeqcnqfJEGkvr/3lr2oLAIIG9yVuPXjRR+4wj5djjzpCbcVOjqKL+oWXir+txkKDAAF2WNuD6bbLh0T9iITXLFg282HHo/qZh+jJP41VfwGpCA30CGYVj6Or/nC+SnnjW+4UjJ1AIyZNo+1f/1vegut3o26l4ZPupZ0R7m3KK7s+NeEGlYIg+/N7q9SWE6/meuhBaSoViiv5BbneYe5cGcM8o2C6feQlcnVefky+ZrjaCwAtEU8piqem3m1l4Fm/VVuh3ni3Rm0BAEAqQgM9Crwy971jrlQpf3Ne/zMdc+FQ+Xh7ReRQukdvGxN2ETEIDh7R+MeH/1Ipp4LcXmrLn9/fcOdOzQcfqhQEyQkZR8nVefnhvmUSALQs8bqnMN9lhesEkaLrIjn5+GPUVqjVH36stgAAIBWhgR4lvvXanx+bRke0P1TtcTok7UD5///79r/y/+HwCvBvPnIPwtpbkHAjGn63UtOd3/t02m+ffVTK6a04rSoMAM1n0cN3Ut3Lz6oUBM1X3zSordic1yuHfl611Hp8vOi5iFF10ere5Wi15YSV3AES76RjO0f1cOOpMu9/vDHqRyQ8Dfb2R2Y6Hjc9/KScJgupa7dfEF8bEx7xvOrOh+ilpdVqD1HH9PZyfzSN865HH0ULpk30vOgheTqffwl9+mW9StmeveNmGn7BOSpl4+kKXpklH8d/zn9apcIbdMtkennpX1TKdmq342nl84+pFCTamPsepRkvviq3e3TvSuedkSO3G4vzgrUbPpXbXOG+6Kw+cruxXnizgj7+7HO5zYvEzJx0k9yG5Jv92tt0+R33qVR45Q9NoeOP7kjdBoxQe5z88hZIjjMuH0N//WedStk4OqbuE//R9X4if3ht+lSViq8ht0/1vDMI36qL76cN8ffrS6+lv6/9SKWi1yOzK9XMfVSlIsv94w30l3/UqlR0Yv0M8Lf7qWepLcO8u8bTxeecqVJNww30Dn0HqlR4p5/Ujf46e4ZKGY65YCht/GKrSvk7/NC29PmfF6gUpBo00BuJG2u3zXhazi/+YvtXam9440deQlOu9a68QXLF0kDnSyT9rIG045t/qz22cZcNpnuK/qhS4YWr7NcvfSXivfchPvQG+onHdqYPoujhbi5ooDevWBrokaCB3rx4wdYPN32mUranJ9xI277+hsY/MlPtaZq0NvvT2T1Po7tGjaRjjzpS7fV296xSz8/l8PfVpU+qFMQTGuipoTU00BlH7UBqQoh7I/H9yvm+5tE2zjkM+tTux6sUtCQ8R9yrcc7O7fVrtRVZvzNOV1uhFlVjNXcAgETxu6fw9z/+SLeNKKSpokEdDw27vpWRUv2Kbld7/B10QBu15fTTTz+pLQAASEVooMeIw9h5tfaLxhXLgjicfffeW843Z6++8y4NuHGSHI359rv/yX3QMiwUx87L/vvuI+9VGS0eIc/u6r0w0KuV3p8BibWXqLT3OTWrSQ898oG3vf4mlkdbtZ4FND8EmLUe6Yceoractn9t3HqNG+l3jb5CbsfDvzZ/Lm/tFk79Du+55h3atVVbAJCqjkpvr7YgFSHEPQa8ivdFNxdHHZrCveNe9zM9rtORVHr3n+hXJxyn9kCyxRLintFvCG3euk2lbIPPzpXHMRZ3PDGHJj/9nErZ9t5rT9pWUSbDIyGx9BB37mDh+402hb62AM8/n3/vBLndWOeNvp3e+quxcCBC3JvXrEVv0cji+1WqaRDi3rwuGX8Xlb5VqVK26wYV0IxbRqsU0T2zX6TbZzyjUk3zeslUucicn6vufJCefvUNlbJd8rt8eu7O21QK4gkh7qkhUoj7a39ZQX96NLpFPc/scQo9fNO1KhX/EHfumO+ZlalSBo7s6XVyZlSLEEPrhBH0KD26oJxOu+SaqBvnzKtxzrhnnd8LKzQG36p1H3k2ztkf8v3vY+tnQH5vteX0/Q8/0isVoQvIAUDz4TVGoHVIb+s9gv7Pjz5RW4Zbh18c15H0cNa4PtvU4VCMoAMkmteK616PRONFIXnNCv1x//VXoXGe4tBAj8K1d0+n0fc6e8C88Ig4r+i9dcnLNOz8vmqvP14Z/OaHsBBMkM1c+Kbactpvn72pX+/YV//OOq4LZRzRQaWcZi96W20BAEA8ZR3fRW05rahdG9KZnoxGOq9rsrJuvUo5newzFQoAAFIDGugRXPqnu+mJl19TKX8T/3gp/f2Fx+Vttw5rezDNLr6FXrn/Dt9FYEwPPP9S3EIoIb52NvzHt9HMPZt+9zWP5LILzlZbTstWv9+o0DuIv3f+voZ+dC3UdN+c+WorehxmF+mxh3hAy/PE+LF087BBKgVBd+5veqgtp59+/lneh9iNG+mTr2naXVd2E//5eXO5MY3Fyzk9vb8rAACkBjTQw5j4+Cx5T+Jwjj48nd59djrdcfVlao+NG3Hrymb5VgxMPM+x+Mm5KgVBcc3Uh+m7779XKacrBvRTW7EbWfA7tRWK5yT+939YRLA58TXf95qbqWDsBPrf9z/IfdxRd0vJ041qpEPrw3fxuFLkAZf397+WIVg4bNxvkc4ZpcaaFG5/uuISz7I9Hsx1MNxO6348brkJkEKeKltMvUde73j0uWKsqA82bX0caNnQQPfBoc13PvOCSnnjhVzeX/AM/eZk5+IOOq4UvDHjbjnCHk7xU3Npzut/Vilobnw8XlparVJOnY/sQLmnnqxSseuY3t6302b1+o9lYxCax4Il1fL3//nnX+QI13mjb6PC2++0OurQSAfGt9jkhSZ/M7xI7YGW4Fyfkel313zgO6Ldo3tXtRW7W0V+8btRt9Koe0pkVI6prPJd32ipSB36ANC68ILFy0UepD84opIH7yB1oYHu4aNPt9AfpzygUt54BGXLtu10wfXj6cwrb4j4qP7HPyOu0M23b9vw+ZcqBc3lxbffCRvRUFQ4QG01Xrj34MobIiqax9mnnyrXCTBxpXr1hx+rFFHXo4+i3+d5L/Tnpc+pJ0d89O15mvpraEm4UvV1w39UCloCM+LBK/Cc15r55j//p1K2A5twZw1eYOrtFX+nx15aRPlX3USFt91JW7/aSWPue0T9hc1ckHDEhYjKAAAKmWYHqQUNdA9ehacbj6BUr6qN6RHpvunshgceV1vQHG4reYaG3D5VpUK1O/gg+uPvGx/ebuJRklO6HqtSoXgEP3Pg5XLk5eF5r6i9kGgHH3gA/WXmw3Rqt+PVHqPDjqey8O0RX58+lY496gj1TGTvPPVAxMdbj9yj/hoAEunYo46kkaKR7nVvWe5wGXzLFJWyneyzuFxjzP9zFR1XMIw+37ZD7bHxHW952gRHaEHi7L5b46q9X+7Y6blWQTyFW7MAUg/uIpLa0EB3Wfxujezxbi6Lqv+a8EIA/NXv/FpteSsZN4r237dxi8O5PT7+erXlbd3GzXLkZfq8MrUHkoEjXQ5vdyh173K02mNU3vfac0867NCD1R5IBdxogtblT1cMVVuhltSskp2iugP335/yf32KSjUdd+77mRBhKhw0ny312+nc626lQ8/8vYy20KcseEHbCqJ12CEHU7cunRyP4zt1bNL0Gmj50EB3efC5l9RW83no+ZfVFgTJVX84ny4+50yVarpfZ55AD954jUp52x2lfNL9/sZJ9PqyFbRt59fU5cjD1V6itRs+pd+Nuk3esz5aD88ri/jgThgASA6Ohrn2ogtVKhRfj7xYp+7JP93Q6Lt2RKvo4t/TkYe1UylIlJ9/+VltNQ5Pa+E7+/CUhSPPGSQjLpf/8wP1rK0xfXu/eMZ2QGs38Kzf0tzJtzoez0y8iZ694yb1F5CK0EDX8L1QI/WKJgOP4P/n28jh8JA8l51/Nj1+e/gR78a4fsgfaEKYEZ2fMYKXVGPue5TKq5bL7R3fNNCB++9Hxx/dUabZX/9ZJxrV0U85uOGBxyI+Rt87Q/01BM0+e++ttppun732UlvQ3O687nIZ7u7n6VffoP43TKRtO7+Rae6oq3zqfjoqvb1M8xo08cTTZyZf27RbukHycdj7jBcXUu/Lr6ejzyukmx56gv5W96F6FiA63DHH0+r0xxmnnEjdu2Sov4BUtNsviOGzPP/GUho2wXs+6NDzzqJjOkY/9zQa/9q8hea9ValSTi/eM4EG9e2jUhBvvAIzhy1HgxvQxdcMV6nE4BX8eZFALzzis/H18HcUgOhxI9y8xVHvU06i6mectzIxnz+123H02vSpMrSdb3nCI+h868T5906gPffYQ/010aBbJtPLS/8ity86q4983sT3OY+E55n99PclKkV03ujb6a2/GitKj7jwXJo5Cb3ozYXvqnDqkKtVqmlWlz5JJx/vfZsvSL4PN31GOZdeF7Yz/JC0A+m+66+iywvOlWleRG5pzT9o4xdb6ZbpT8l9TcVTalY+/7hspEPi9bxsNNV8sE6lEiPjiA50wP770gcfb1J7otMzqzstn+WcYgGN4y5759013hEBGW6qiRe9U64pr2XHXDBU5iGmqdddTrddPkSlAAwYQdesEZUxP7x4VLyFe881H/5LbUFz4YXcFpfclfDGOeMR+vfmPiJv3QfNa/rN19Hoi38vG+d8m8RDD0qjZTMflvdEXjBtoqNxDq1bZpeMuEwz2WvPPeikY+O32Bg03QkZR1HpPeNVyhuHM18x+X7q0Hcg3fzQk/TJli9kOOrwC85Rf9F03BmPxnnrskk0vrbv/LdKRU9fnBQSixvNsTx0Xs+HewA0BkbQNZffcR/Nfu1tlWpevJrrE+PHqhTEm9cI+t577Skr0XybLb79VafDD1PPJNeOr/9NlStXU+2/NtAHH2+UozgYQY+fSCPosQo3gt4YGEEPluyLr5TXYlP86oTj6O8v4A4dQfTI/IVUNC3ynVtMh7U9mM7IPonKKpepPY33yK1FYefDQ/zFOoJ+RPtDqfCcPNr29TfymMc6ehqtwWfn0mO3jZHlPTRdpBH05oQRdIgGGugannPGq6gHwYC8M+jl++5QKYi3WELcmxtC3OMLDXSIxZOvvE7X3PWwSjUOL/hjhklD8LyxvIYuvvVO+r9v/6v2hLfvPnvTd//7XqVid8D++9GL9/yJzuuVo/ZAsvz60mvp72s/Uilvu+++G519+ml01R8uoPN/ezrtsbsRbPrd99+LOuIKKn2rgt5c/reYFgx122fvvahvzqn0h7N+S/1ze9FBB7RRz0A8oIEOLR0a6Jrzi8bLgjoI+p2RI0NsITHQQE9daKBDrHgNgmWr31ep2Jx5WjZVPHm/SkFQffDJJrpgzPiElwsd09vLqVMnHdtZ7YFk+s3w0fTe+94j6OltD6HhF54j79jC88jD4UWFOd+f92ZFTIsLX9jnN3KaBDfKuaMGEuOIswfR1q92qhRRr+wT5bSW5sadOs8tttecYU9NuIGu6H+eSgEY0EDXoIGeOtBAT103P/wkPaDdTpEbwU3BlTOec8i4UscNsqYofatSjtQwrigm4u4BEJv1n35G2YOvpP/98IPaEx2eNvNh2eyIlX0IBg5fvnd2Kd35TGLy25uHDaLxVwyVC8NB8+B7mPNt0nScZ1818IJGL8zLq7lzvr3gz1Weq7jz4qLcKOfGOeYkJ8egcZPp5Qqj4zzo1rz4lJxaCaBDA13j10Dv1OEw6nxkYipYG7Z8SZ/Vb1cpGxroiYUGeuri1dhPvGikSgVbzdxHqUdmV5WC5sTTn3idkp0N/1F7wmubdiDNKh5HF/y2p9oDLcUX27+i2x95hua+7hzpaiyOrLn/hqut27RB8+Hr95qpD9O2r7+Wi7JdLRrm4W65F6uPP/tc3p1n/abPqP+ZvURd7nTaf9/E3kMfQvE6A7zeQNBdXvA7embijSoFYEMDXePXQB932WC6p+iPKhVft5Y8TdPmzFcpGxroiYUGemq7YvID9Gz5myoVTDxfjufNQXBs//rfNHzSvXL+aTi/6/Vrml18C7U/5CC1B1oiDnuf//Y7VF61XG7Hght/PGo6qG9uwjr4AcDf7EVv09V3PUzfxxj5lCzcgfPStEnWGgcAOjTQNf2KbveseHFY2r1jrlSp+Br38FN0/3MLVMrGi8e8XoIGeqKggQ5/+UctzVr0FtV/9Y3a0zg8YrLz3w1yu+1BaU0ejWl70IFyQbG8HqeoPRA0Gz7/kqpX/VM9auW97Pv8Kot+e2oW5Z6ajQZZK8SRbryK94cbN9PmrduMx5fb5HN8xw8eHedH14xOMlSa55oDQPPiaJilNavoo82f0//U1LHmduRh7eSdPX4rygwAP2igAwAAAAAAAAQA4ioAAAAAAAAAAgANdAAAAAAAAIAAQAMdAAAAAAAAIADQQAcAAAAAAAAIADTQAQAAAAAAAAIADXQAAAAAAACAAEADHQAAAAAAACAA0EAHAAAAAAAACAA00AEAAAAAAAACAA10AAAAAAAAgABAAx0AAAAAAAAgANBABwAAAAAAAAgANNABAAAAAAAAAgANdAAAAAAAAIAAQAPdoY6mTSyhaetUMglq5pfQkKrtKgUAgbGjioZMnE0Ldqg0AAC0CvVVs6nN/DqVSrxkfx4AtGy7/SKo7dSwrozalG5RCdaRKicPoByVilrI+6TRrKLhNKidSvrgBvn09EKal9veMw2JxB0wFVSsUqwgL5rffjstKCmlEVZDTZ0z3IAr2UljGnP+QPLJ41VL5SpJmfm0a3CmSkTS2HMHgoTz2zytjjypsIjGdVOJRkD+3QI0sqyGVsJ1/M18mxvMXep7xFAGNE2yPw9M7rLbVeeP0CaQx62SfPMMWabUZ9GGolxKj6KeYLxfmke7w6eeqVKQelJzBJ0r5pOL5GNDXgPlNbZXU3ufXYVpNKKkjGrUUxBUnOmpYzY5n7IrSyNETBiZ5sKsQu1Yt6VPMarassjG+SbqX2Qe+yKqTN9O9erp6MR67kBwGNFReaTl2ZMLKaO2KsZzAFoklNWpSTa+SMu3C6k/bVNPQqvHx180mKnQPP7iUdSWqlXUqoxqcJwf4lFIlOeKnCsQDfMRFR7tBFGvmB6yO1w9oY7miMb5pMwtVO2oO6CeCaFSPsQ9PT1NXKVmRZ0rcfqFaVTq2piPcA35br1pVrsGcUHxheYKk5ehsvPpLrGfR2/KxQXbZqJeQdgmX2N8jjNjkBmI9R3c302k1/F7q+cRPhWjTLosL43WiOPPvaDOqQb6uZBG/U/URsi65dKg7SLjl6OxW0Rmbr/WebzsYyz3i+PDnxN6LCEp2mVQH60HPCeXe7xNzmtdXr/yuvWryEd77kAQ1MyvoDV5ovLjGL1qT4MGq3NAHmvX8bf2i3NAVvSM54xjbeTzXvm5fY3r54U6J6qM95H7/T4TEssqq8V2zMfdpOcX6u+08tdRDrjKZf38cNYDICEyu2qjkOKaz3WOYOvHQ78GHcepxO7IM/L7Ot86m/Oc8ji+5rmlksysH0A8iWu0tIFmFbmipNrl0jge0RbHYazXSHa3AbQhz9Ugz8qgSXXrQ45lTUUtZedlUYFKh7LrCdK69VQszsdxWR2puNZ9vD3qmYjySWkp30Cvqd1Ck/rqFXUTV8BUpU71aFVShauQ9tKe+mSlOS6++g82EeXl0e0io6gUZQOHvOzSMoXyypVEQ9RnZDbYGYMo9I1QGNWjVpRBCx09/+JvlxA9JJ/PFxlIBSp5jZQjMsxyccys0TSZkfYQGSQfT5FZu0dcRCa+q4gzZqO31Ahh2k7V9Rm0QR2vykzReNcLXXF8qrOM52QBMA+jd0nTLpP6Uy118awEcWVb62UXxzVDPRMN/3NHpaGZ1VF1navy41L/wU47uqJQVJ5K9etdXMe1Xa1zgyoXiwq5qOh75Odc0bZH6Qupf60+eiLy63rjfWSIbdjPhGSI/bjzfqNuYI/KdaVqPUSWy+1arRzQ6g3y/OBwWPWcHK3TGn8QZ926ynqRb73NUSaLetsS81iIPEO7jmeJsmOs9h56nc0ZkSHKEj1Sy+v4clnUTh9BFfWGWqJZ+Qh9jysuh12d8jqul5c7Om9s6SdmUIGjQc4N7Qaarp9HooE/va4j9TlRpaMg2xtZ4jjL83Kl1rHjU8+ElJaaDXSRKZs9o1xYXuY1B3HdMhpBWfSQNnckJ19cQXpFXFNftVj8vZEZyIvbGpU3Mt9wlcOCvH5WZZ4r+8aIvqgELBEXc6HWu9cul8Y4QmPSaNYQs3Mhk/qI697qqYPIZA+qOjacYe7YSZvUU1ZGKqTnDjcKWr8ecYs2IifIY6nLzLd6cuU5on0eJJpqUInKsrz29Ya6bFDbx4avs0GR5iVHee5AUKTR0WE6TNJzB9gdKnw81aahI1WaI++yct1AmzyzWQ5f1CvaRmetnSeL/FqrhIf/TEgUR1ndmOOu6gZ2vSGTxonGvUGV21qnv+zAq+ewanV+WGW2wKP5IueoRrRNgohjozrKON8Paaj7lsnidVa0jXEd6/Q6mxGRYdTL6qtWOjtnXWWDwZUv7Kijhep8hDhLb+8x+GYrSD9Mbbm0a0/ZatPE5wdVLrPqf8bAW2/PBr5FryeYDXp5vnF9vYEWfmCfj9HXMyFVpPwc9F1DiMb6XQzui5svWj2z1Rr6ssdcLhIhyNE6VejGmvm2b6uFy6RRhqtdn5GuV/ic+DmIxAhJl8dN9nSbC39whml2fvCIm5mRKjxibvaIhwtf1kIinQuPuHgUAJB4OYON61421NXIRn19g39B7dDIcwcCQIU0+9JDlp2L/Di1p6PD1fh4lNwKfRXlQmWDapx5ifYzocn8yurGHvcIFf/iUvM9xYPLAdnpztwdRfy+fh0+EB9G56wZ0eIbSu4qk/VpCnwd+3OdG9q5ZpxToXmPbOypwR7Z0MvKDHs+QSNZ150337x5x3Za066tM5LOMUBmzCUfow3g2bzrCe4Re88Bv2jrmZASUj7E3ewZ96y8uS9u90WrN/StAp+JAqFvmuwda1rmG1pwbxKNiWxROYDG0hfwcK7KyRnmGpFhmvOEPHtG1fwkvefTwo3zJW218EXXCDoERs5gDlu0R678G1G6Jp470ExCRyucuJG2kjLMsFSeLqSeiZ1+jqiHNRKni+dnQkSeZXUTjoGrbsCdfDZeJd58T/WwPtNd19hOn9aHdsRDInBDnacChs4lduPGuVxxXR0/Dn/35zyGxpQX/fg7ywqJG3vpXP5EjrCERpLRC/7RKTJiwudckI1pj044Wc4vqaKaqpW0xnf03KuewMdZ5BF65w2vYbSjluZYEbGacPVMSBlooPMI9w6P8Ed5cTvnHfGCEFE3tsXrs2uX0Zxav162SIwwKMecOEeIDMQdd9bUr6dpIiO1Q1FFJc7R464yWg+ykqZl6hzqDAGxrsy5PoO87o1No6DW1m8Q19kCr0IzHM9zB4JCjlZUlrpCXLfTgvlVVM8dr/rIJneyqM3YGJEUUd0VJG6fCY3W2GOg6gZ2xZpH08wyQc0l9VxfxOgocjwnw+UR3pwo9VVlzlHIKI8xD4TYUVWhZX65Hursmt5or1UQXo6o3y2sWEYL07FeSWLwvHGe1x26iN80LgfUiHiex4J9cu0nr45VGR1bS3lm2Hq01LQYa/BGPeS6B9yxH0M9E1JHys9BN0JQvO41yHOXjFskmH8b2/1uRWGcvoWK052jaWZFMZo5JjwnRd4GzvquuOd2YnHlqoGK6/UKk8jk01da50CbicatMOR5YGXwxty29Nx+NKvePreqCSPogdGtN2UsMY+heOgh6uI4zivKojVmWKp4TpwKMfI6dyAw+Bi78vM2ExcT5edSunjuIT2fraWoR1Ld+bmMzNDyAN+7NTThMyFOGn0MRN1Azy8mrqc+WrQUl9uV6bXUxXxf8TA7/3iKjeM5jrhyRN9BPKXndqVN2pQT45ZaketQOYP1vGIxbXJNHyzIa0vV6j1lY848hpzPyEXjtM/067DjQZy6LZSN9UoSxpjX7Toe84guU/V4vh4ddWzxMBZ49DtHODpWXOsxLgLLgzUFHoN7xuAALxYXpp4JKWu3XwS1DXHGt+PgFUIdt3iAQOPe07HUDxkjxAznDkBqwrWfOrheF9tgjR+eYrGe+mDQBQA8IMQ9UTgc3W+FeAiocAt/AISDcwcgJYmy3lqpGSBKvOK7/zxmAEh1KTWCPntVHV1XXqFSicErhS4oKaURO3ihmOEytCbZFl5aQH2PO1qlgK3d9hX1eOQFlXLiuUDcK55XRzSpsEiuwJss/TOPpRcGn6dSkCiH3fk47fr+B5WKn3DnztIrBlLPTkeoFDSX8+e8Su988plKBdvx7Q6h1UWXqhQ01eSKFXRv9UqVig9eTG6aa8X3ppYbZx5zFL1+2e9VCuLhzfUbaeALr6lUfJj5PY+gl1eWqr2x4XvqD+EFwtplyekNPN2B/bpjB3rnykFyG5rmq2//S53ueVqlWrYvbr+KDtp3H5WCVIIQdwAAAAAAAIAAQIg7AAAAAAAAQACggQ4AAAAAAAAQAGigAwAAAAAAAAQAGugAAAAAAAAAAYAGOgAAAAAAAEAAoIEOAAAAAAAAEABooAMAAAAAAAAEABroAAAAAAAAAAGABnoUauaXUJv5dXK7vmq2te2wo4qGTJxNC3aodJPU0bSJJTRtnUoCAECr51u+REEvpyA6+M0g2LguWEY1KgVxFNc6e6ri8xO/YaLs9ougtlMGF8p5VpmcRrOKhtOgdioZAVegutT3oF2DM9Ueb/wZ09MLaV5ue7XHjU/sCipWKTapsIjGdVMJSIDQ37wgL9wxMshjXkm+54k8n+qzaENRLqWrfTLzL6mlcpWkdubz22lBSSmNUBlaNJ8PceI+Jpn5Ea/j6DXu3ILkiO0aDj2W/uWE8bdr4nSsoy1fIDZNKfOhFXDn/ULT8+dk5Pn8Geupz+QBlKP2QKzcx6kjVXr8npHr7F6c9TnJqusFk1EWpnn+BrHj33YlZTQqPzV+u0190e7xk3Ij6LKgJlExn1xkPIoy+DxpJpxRmN8ji9aUoqc08bTffHI+ZVeWRhWpUCAynxEVHiMtouCf7trNGWCbkk3Uv8j8HPHou5Pm8OesE388RO0Tx5wqF6P3MRlkBc15TCrTt1O9ejo+GnduQXLEcg07j6V4iHJiYUkJDalyFhb1VStpTWZHotq6OJ9LEC/BKvMh6daVhZbHnD/Xb1N/0BTI8wONj71onFOhduyL2lK1Kx9vGu7w098/uI1zblDPEY3zSZlbqBrnaeClZIj7pCxtdKJdLg3Se2/kBV2iHkaDmQt4d8VM4kq/+Dv5nNzmv+deIaO3vlxk1uZ7RNSuPWVTA30qG2vcK6WHjXDa/E4IyYufTLosL43W1G/3OMauY5CVQZPq1occy5qKWsrOy6IClebzYKzsnXT1KHYbYPQSdhPnm7m/XSb1j7nXERqtXQb10X7vnFxRkFrXrU12sPA1pp5bwGl57Rnng3xeS3uL4dyC5Ij2GvYiyol5skNtmfb67VRdS9Q/vzf1p01UrR9P87zSyhP9HLDPIX54lRFGOeKo7GvnKp9T7vd1nGfyb8O9f2rxK/P138y47qvk7y5/t5IqqlfHwU4bzDxCPw7OhpleZruudf3YiPesEe/lzB8gbvi3LhWXrbs8FvnzOC1KxXE9uupX+jEOfy3Zeb67zmYfX5X3r9POgTCf527sO76Ldj7ievcifuvSBtl4dozQiut/HI+SW/mpR51ddupov6+g5xXRCM0jwuQD2jFz5kNqv1+eEev3XLeeijO70risjlRcG3reDamqs/M7x3nkdz7bQj9Xnev8bw75t/JzRuRBcanY5/o3gCHlGug5fGKW+lSO+WSXmbnRE7Yhr616wos4wUpExa6wyBUS054GiQyhUuT9HO60K9owEnnh9PAIE+HMwwihNHvoKqnC/wKERuHzolwfBQs5Hlz4NtB0/XcXmc70uo7U50SVFuo/2ETlIgOM6pjvqKOF5Gw0QoJwZwjVUhdXZcjoJNF7k41G16x8s/K2RRyjfio/IBohCq+xenpe5IIl8rkFyRHdNezLfa5Y12976iPa7qGj81sor7arkW87omXEOVafQRvM/DxT/J37vBTlSJ+sNEclivMWyutNGaJypo8Ih4Zkctmkjximdnhs2DLfrU78xjLCqZBmcX4xcbEjPVY/d+oqqDpL/cYyAs78DKPMtkbtZPSFWdl1HZshRNMrG+QzEH9Rlcei3telVrsetfoVN5bk1Bf13K5CcQlG05gQebx9/N2Rcg00YgnRQ/I982mSOI/Mhrj8PO3a7lOrh2bXUbX1nH4+4nr3xOWsq1Pem0edvVtXmrRD73QVv70oJ8bEOn1ByyOc9QXXMXOfV1Y+xMcyTJ4R4/esqd1idFby6+pWhuSJ5ZUrrQhPR7kU9nw2+NdzvM7PTBrH57A4Njy1N9hRB80n9UbQuw1QBSb35DgLbXnyFtqZW3purk9GZzeao5k74eiddWTu4gIw93NPn9Uo0KxbRiMoix7SLricfHGB6BcCNI6onI+tJOp/ovhtZUa3k0S2KFkZmSb9xAyRMdkjaGaF2X2OFKQfpra8aCMy80QhjYwpSVQhLCpf8re3GkRGQ8gY9RBCOk3swo6Pf4E7rZ0zDjGeW5Ac0V7D3trT0drFyiPvJI4j75LnQsjofEeqNEfpZOO+gTbJ00yci4Pt654rNl7ke4rz0sjn1Wi9OJ/S09PEFw83PeMwyrA+C8KV+SGsjjMjX3Cny/Ww6Mx8u/xvl0tjMhto4QfiR1dl9mXWc8ax5+g4nhLh6JwTr3soT3wOJIyjPNZH8mRdTJTHS0R+3Nd5PRrHmcOBiWYN0crobr1Fw9gVLWNy5PkqYo7J46+2pTTtPTOpj8gizFF3+XlaPTBnsGjAq23+W3vUX52fEq53X+kiv1SbseHjov2msrHp19HTIDvu5TklHo7BMy2P0OsLIfmAq45g5zuR8owYvqfZGS2/j/E6mV9pCvL6WZ8jyyWznAl7Piu+9Rycn42Vmqu4ixN8nuwJMgpto/dyO31an0YZRt07vLrakEZzOOm5w1XPkbunSJ+/1I9ons/K7e5MhsPh/RoGEIHWKSJ79czQN86wzNExoxfSyMg0shJm/w3P5fHqqXRU4kIYDUV5zIcQjRXfw/OYQ0LkDDZ+e9lQV51lstGmOrxkg001umLXhHMLkiPKa9ibXkbwcUwzKuPM8b5enI17x1Sq0i1qpwtXhMzGgN5xJCpLG7I2URd5nukdvibOY/KJOHRQ/A3yF8GzzI+vDO44Me3g0Xd1fGUop11BDd+BC/HmKI+t88A5pUWG2ZrHi69HqwMsjY52NEb4OtYbG355vtYRr0J5/TjOm5DPc9IHe7pYkRe43n2F7cgMT0beqAim8J3qzjnovovMyWmsmjo1WCAfHClhTnENFS7PiPZ7uqNJIg70tW+rXSPRnM9+9Rycn42Vmg10E2fWhfpcjCh7eTLzqTLdI1y2SVwjeTp3JrNjO61p11ZU1yB2eqeIc14aZ1hr+FwI0wsp/2YJzwFaSWs8Rt68R9J8iPOPe0I9jzkkVM5gDhFUjR9uXKXztj1K2ThNO7cgOSJdw77kyKhqJPNxdI2c8BzGYvG+ESuE3Dhf0lYLm/UeQZcVm75pcpTD3XFkdvrKhrpnOcQhhPz+XDGKMrw7FYSU+fGzqb6BstNV3sF3iDCPr3qYI1DuDlx+HSRGdOWxa5EvflgDKe5Gk3sgxyvP58aMsTq1sd8I5Y2O6/O4rqc2uXEu7/CgPm+DI/IC13sIOaLrE+0QDY6WqOdzJzGd6kY4vXmO8MNZZ9CFzTOi+p5ctxGv0TsF+K4GO2qNxYvDiv589q/n4PxsjBRroIsTbb6zAsU9TgajgVysraReXyUqcWrbTVbw68XJHrdGunEBWQW8SWYyzrlvemglxBGPWImMbpo4Dp7TDZgc1aqlPDOUzY0be5ncq64vsCGISjn3HNaIc8o+/3gEz+OYQ/yp39/CI5JaIZEjrv2FFctoYboWShZP0ZxbkByRrmEv3KjmaUgyNFWUIxwWa87Jsx75UVUI67lypUVF2WWQB5H/Z9cuozm13iP9CHePJFyZ30T6HE5xfuSZlWMus7V5xTqjwai9Toadqm2IP7/y2ML1Pr+1RIwwYMdzeiedr220aYfWiHeVNf7U52lrWXBdz7w1HDfK7JFU1eAKgXBiG685wuvGuBqE4pqbpoeh++Jzo4Gq56+PrSM3CjJqL8o7+ETOM6L4nmrajdUprB7cyRO5szKG8zliPQfnZyxSrIHengZl7dRCz9TtV9S8Hh6V2JDXYIUsdRHtYP9RaiNsgwtirzBD7kmiiKu4a+FRE0tpYZbXnHbueTJu32F+59jv1QjRMTK64vpwBTCPanUUh8W/Icdh1Pp5JB+1XeWxzUnXzz9jIaHQYw5x1603ZSzRjocjHJGfFw2hui2U7RvG1lTRnFuQHJGvYWfeLB5yxFudL7KC4jVSEVrB9pKe28/o3FXvXU1+I+hMvGf6FipOt0cjHGua8KKmIetY1Gkr7vqVK6kifJnfJJmidjBPva9cLdpcv0aU2XLROPszrTqCHMFPsyMv5hGNwRz0hJLTmngRLvNYyOMh8n81D5zrfTIiUnve7Fzh1zqe43wg4rox4vg7jvFOyo4yz7cGftTnVWfZc9B5PrpdD1xMm6zQeFzvfmSkkX4s+CGuucs86s9edXZuHK+pa4jQkeuMpApf51fc+QA//Ab7osgzIn1P7pQs8BjUC2n8e4rlfPaq5/idn0Y5jFXc/e32i6C2AVIeV355lW50gKQaLkTWU58EroCLcwsag29fwysBo9IdHFa4cRwa+ji+AAG1o4qGBHAx35A8I0DfE/Wc+EntOegADrEuGgWtBa+UGu8wNiecW9AIHM5Yr60IDq2LHhoPAIHCUwyytRX+A8EjzwjO90Q9J55SagR99qo6uq68QqVavqtysujBfrkqBeGs3fYV9XjkBZVy4rk43CPJizzxvFIOuUm2W/r0oIn5PVUK4u2wOx+nXd//oFI2Xs13CC+W0i5Lhi5yKGM8hTu33r/+MurS9iCVgkQ5f86r9M4nn6lUy8AL8fDCPCN28AJWw2V4YVP86ojDaNnVF6tU6phcsYLurV6pUvHB17Q5gs6LLsXCym9U2ligzDi+K0ddQt0PO1Tth6Z6c/1GGvjCayqVWvpnHksvDD5PpVLPV9/+lzrd87RKxY4X7pSr+fNij4MzZXh2cwmXZwTle8ajDs3vAU4IcQcAAAAAAAAIAIS4AwAAAAAAAAQAGugAAAAAAAAAAYAGOgAAAAAAAEAAoIEOAAAAAAAAEABooAMAAAAAAAAEABroAAAAAAAAAAGABjoAAAAAAABAAKCBDgAAAAAAABAAaKC3VDuqaMjEMqpRSbea+SU0pGq7SkEi8G/cZn6dSgFAqkJe0PKhzARTfdVs63qW2yVVVC9TAOE1Ph+po2kTZ9OCHSoJKW+3XwS1nRrWlVGb0i0qwdJoVtFwGtROJT1tpwUlpTRCv3DaZdGGolxKV8mk4wZ6yU4aM3kA5ahdOs4kpqcX0rzc9moP6Pj3yauP1zHkjLWCilVKN6mwiMZ1UwkAaBZcye5S2aBSTM/3PfJ3wXnt8t8sJhpilxXGe1Jo+REhb4bmIfN8vQ8lM592Dc5UicaUmR7njes9obl5lM1RHCN5bdf3wLFs6WReXEvlKpmM67PxdW8+V1dSRsT2CKSK1BxB54t0cpHxKEyjESX+I9E2rtCp1/CjORvn0DQi055e35Em0SaqjktvZSaNM88L9diQlybPMzTOAYKhIK/QvkY535+nj4q58vfJ+USlYUbF15WJxnkaVU5GZSr4uCEtGueklfviUUkVcRgZ1c+bQppVX4FR+MDpKK5T+7ij0Z0iZON8E/XX8vXK9O2IhIAWAyHu3XrTrHYN9OkOoxCftk7tZ3yBhwkjZ2YoFPeatZnID2eIir1fD3vhnjKPv1eft4DfU3tOfob7b00cEWC+F0Iso1L/wSairN50WRbRwg/0ypQKMaoyflM+Xnz8nBUu/hvjnAh9ThHHcSxX3lERCBjjGjevl3DH902+5rTKu7yO5fWlzpF1fK2q9zL/ziO/MPMHCJhuXWnSjp0kcgIf3OmWT5PqVobmuXycS0lU+u0Rcus84vxYjthsoTx1jkHzqq9aTCPSQ0fOcgaLBjXV0hy9zKdtWh7hLG9lHqCuee/j2p4G9e1I5fXb1HngbPz7lhfQTPR6mHj45NOOPJyvfcdx5TLFPE+c9Qd+yPqkVkdz1C8h8dplUB+tAzUnN5fSfcpp89q069vOc8K4fquMc8Y8B/T6t+M9/fMRx/u7ntMZ+U349ge0bmigW9pTn6w0Kq61L0jZkMvrHTlMsa6CqrOMHroNeWSNzPCFqPfaGyEvnKFXEBWqXr2iDFroGMHfQgupn/1e4iIfq6cdoz6iEljbVb0/eu+js52qa4n6n9ie0k/MELXsZa4MsIFG1Bu/KR+vnCxR4RLnhPWbr1tPxZldw5wT4vjOq6XsQoS3Bgtfd6W0MMscRc2n/mKv3/H9XW4/u/IuCvTpdR21Dhdxjiwheki+D/fK11IXLsjbZVL/dluo2qqEGefarHx01ARNfdXKCNcxy6Q+mQ3OTrztXEHnURmf67vbAJGnZ1GBGrXDFKPmxtdgA03K8roGQ8v88sqVRENU2axF13mX5WHIDiA9QquOqkUeMgbnQ0AY9bA1WlQNR1Q0vf5k1x92FXakYo7CMetoMo0GV9JweSzKcFk263zKaa4TcoO7S20GbfA5J8ord1Iffo4jaLlxLjtqjb/dkNdW/ZUzH6kUZciICvUd+P1l5JXxXGj93yDzG56CiWlSKS3lG+iyd52MXjZusBXUmyEw2kUriYvMNfpm0UKZ5XuokZn09DTxAa6QmnXLxOdl0WVm6LPMLHgEX6VFxc4sxOV7udOOUR+90aB67/XGBoSSv7/qVQ3JqFmas0HlGmmrqd3iU9kz8PnEjUCEtgfMjjpaKK67h6wKciYN4m3f4yuupyFZtGZJFS2ocHe4iHNkiD3FJSdfNMjq1otC1qjwrxHXvCQ/09mDD82nvLLUyr9lp2cUES4ZnIdbRBlQKgqFvH4Ia29R0ijDvOxdZBmtKdCPrYyuM8oHz7I8RB1NKzXzD6NzZ5NZTYjYsQuJY0SzOOpuqh5mlwdGPk5Nrj9p9QcuW0LSel0PEkuU4UVGI1see6uh7ldOb6cFS8T121cr27kDnyNilAJtwE7WFbR6QXpurrWt5yP8Hkbeod5fr0u0y6Uxma466AeqEY9ptCkvNRvodeqCFQ/ZW2ZeCLLHTfV6h1Su9blmYXrQ27WnbLXJoykbsjZRF/4sPSxqR62xTz54kRmtIG+K9m1Fgx7C4Uy1QFSgjIzP6NTQR1BCcUVLZaA8klqvda64qd5XvdCHgNi+k8rT23sUeGGOLxee6bWiIhdhLQHtmpdRGaqSZ0ylMM81aG7WHPRCUekKiZzxtqm+gbLFeWPgMiCfskVDH6GqLYl/+Vovjm9B+mEq5daejjYvXr+y3NFxb0TGmXkFV8zNsiVSxy4kknMOulV3c5cHnI+HnfYCLVHOYOO462tO6OV0DXfAa41yGfVg1s95QWnPjrnt9Gm9f8efg6NeHvoa7gS2Ogs4P6l0NeIhZWGROEcvFTfY0mRIY7wq1+m5w+XnyMLd7MHTP1894jLi6tsIAQOHGTpH0mQG7DXPVGNWtMKfEzx60uAYWYWA8RkB8z2+ssHekSbVV4RvkO3YTmvatSVR5KtGPXfyuSNwIDBEY6sycwtNjxTOqqY29HHkzZk0riiL1ohKHBrpLUFoGLvNCH+3O2DcnJVwz7Lc1XHvKMd5BL6eI2uM8HbneQTNzl0e6Pk4tDrGmhNqAM4ajHNfm87rWT58R7IbM7AW+pqQTuBCLl/856ZD6sAcdLduXSm7dhnNqU2L63wxK0SOw5zqIlT4o6ZXMvXwOvBizDsN7RzhOULOxeJc5DFbT3NEae7X4KqZz/PZEPoaWHwMd9TSWO16WWBuex5ftZZA3wE0jqMslrhGzcw5Zerv9IZ9jmgQLKxYRgvTe+B8CKicwTwSvti/EiQa53x7Hs+1JNrl0jzZSEclqiVIz+0hy1znImA8B7lULh6nN6r1yAp9+psuunB3xp0DDVQ9f70oG6JYywaSJ6Q8MEZSIw7KyFF2e20BeY4gDwimdWXOejZHxVrHiq9NEuW0uDatqSfGPuc6T35Ux5+2pkB9VVWEqKzQ13h2ArcX5Ytc/wLlS6pDAz1EJvVJ30LF6e75Ys456NGsruhYrZEXk5A9cfYIjPWcI2QuFh2pPy1W72MseBKXkfhWyX+xIDnPKGzIqxEGXVzvM59YFAR8f13HyLx6YJQtKIxVuTk82bxeNlm91qHHt2a+VnnnEVdzITgpjWalr1fvY/ydY8qLqPxl122hbHSWBVgmXSYX4TTzcVf+Lu9jHiayiRvpshLlcY2reYVYxT0o+No3FlG1jq+4buWCka51CAry2lK1+ht9Hqh3WR4Zh9KuqWtAJE3guMuDaO9dbeYbxmvGUg+ahU7YYOrWmzKWqGuWH3JxT/u2mDLM3VVOc5SMLOvN14iHXx2O/3ZDXoO1vkGXWooYfeF+jVHOeHQC85QadZ6hDpm6dvtFUNug8O0NeFV2NHYBwIlvpbOSMrSCPhT/zXrqgxVYAVIbR2LMI3ooygY9AAAAwwi6m5x3GmYhMACAMHgqBUJaAcC9ABUAAEA0UmoEffaqOrquvEKlnPg+4nJO2g5eJGK4DC1pDSb3/Q3d2Ps0lUpda7d9RT0eeUGlkueqnCx6sF+uSkFzOezOx2nX9z+oVOPx/dPNEXR3HsH3v+Z5y+XtsuSdIThMjl3QrQu9WHi+3IbkO3/Oq/TOJ5+pVHL17HQELb1ioEpBsk2uWEH3Vq9UqeThOwXIBUh5zZPBmTKcld11zhk0ptev5DYk1pvrN9LA/2/vDkLbyO44jv9Le2hrcGkqry6mq+bQEBSEDw2GQrBwyKGkJSGHBLuUbA49LXi7FExPCQk9tLksMYUeenByWJssZWtT9mTkyuRQTCgNatSQQ4O3zUWJk4MhLbSH7vvPvJHejGaUsWXFz9H3AwLN2NLInpn33m/ee6OP/2iX/PGtr39N/vmLn9olDMKLf/9Hvv2r39mlw402/PBiiDsAAAAAAB5giDsAAAAAAB4goAMAAAAA4AECOgAAAAAAHiCgAwAAAADgAQI6AAAAAAAeIKADAAAAAOABAjoAAAAAAB4goAPArjXl5tUFufnILgJ4Sw3oXH/0qYzcbdoFAAA6vvR/wz4fDlopLj+1C6FrMzNSWluWK9t2hePc9IwsVZ+ZCrom1+26QPm0vLpUtgsA/PZcPllInOOFijyZq4rUb8vR9R27Uo3K4tx7crFgF3PThrxbTozL+o0LMqlPt+syu9CQ1WC9QfnxRrW69rGzbzIl96fWFXMyf9wuZLF1TNbvhp9l1G7fHpcSHotF+zsd4Wd4ENRDY3YddiW1zu+1H8N9snUmx77uh36uxrHBlAMpf3Moz3EPADhowxnQe1WKQUP6pXwQq8S0kfRYpqjYgENKG92ficx2B28NTB/K2f4CUFooM2XJzYdlmT/RNGXKlpx3Qv9mvS6lalogwyAk93EQkhuljFAcSZT7qXVDCj0W1nbknJTko673j0J/FJTC43JFdmQiJRBGFxbCC8UE9D3ZdRB+CwK6Y/PugtwqcvwAwGHCEHcMF21kX12QkeDxqWza1doQHrlbNw0z+7OFurSChpq77NDGVdb7ROsTwxe1oRT9bLb+3K6Ft4JjxexbZ1939psGrdvySdAjb54v78jiXKJBX6jKfNQoLpRkyrkwMEk4P1DF6km5tv1StqJ9bNersCxIGXpcGJMJE6Q/t6MwYud64j2kWJLzsiUbiVFZrfp9eTBdkWt2OXK+Mi7XG8ltNuXO+qgsTo/aZeyrWF0QDWHX8zocaXN92awPyn33XDdSXxetzyovlL5P9LrE8WLEjydne13c99lLXeK+vrOdeB2on8/+3fXw7wm30++2AQB5ENAxREzjIujJnJNXN8xjRmTaDd7NLZFZ/dmMLEpDjl7VHtfO8odRY0QbYMsi6/oe5vFk+kh7fdArZ9evS63dgNHGz7ScDrdr3u98Y5n5y4fCU5nWXi7db3MVs9M/6244P3os1xMBPKZQNmHNHE/MN/WP7pvCU9lon4vPZaMhsng6pVdT93P5pB0FYX6v5ZzrZXOcxPbvmFw8MypXau46DdwmjJ9I6ck8cUoWW/djx5aG+evlYzJll7G/Wg9fOnXBuAnkGkrLMq/lvdnHOhrmVcoIi/TXRbLKC73YWxPR9wyOmWOy4Q5B17ojmPZgfz5XkpWF7hAfMMdh+32yyqRMic+R3E67DoxGiezIlVb49wQ98H1tGwCQ13AG9GatfQU47Up2OlPxOleOCVeHT9jgjRrYxvFjYS+aXZT2z8ZkqjLatbzaeqYLstnQocydYa7FajUcqrpm1p/pNOgmK+P2NWHDvNPoD9/vQYvehzfLNDajERH6cALV6vpyZ31stMS4rEdDUIMwtyNbabutONajR9yENdOg1ws2ye3iYGzerQXhdzJ5Lm43ZUXciy1Oua+jJJxz+OKl+LneRcuXphO6YwE/ST+HOIG+x4UC7F6szg97jYvVC/G6wD59nd6vyygvHt0L7jNwuT3CpizzJtyHbN3h1Ck6+uaDsnvhyHH8QmekTrAN+zyP5OewnzEaFdKp8yKj8WOwn20DAHIbzoCuN2jSK8DB4zXzCdt0zmD0mgHPTcPgxBpqOhfUaZzk8lw+b41KKWM6XzAsMnp/7SExDf8w7MXDoc4rjQI/3hS9+VvnHHbnfuoc3/b6zHnJY/JuVgpv7+dsk5fC9w+CenLKBAbOvQgTjGax+794oiTSaAb7o/VwS6RSdva/W+6fFVlyLs46Q5nTb8hVlsvTIisPNaFpCHMDfrdg2H3zcXjBWINUMSvMY9didX50Lwh3uHb8ZoC95X1dorzoeRGvu04pFbMu4moveLT99Jvb9rSto8Pc12dcdEzV57YBALkwxB1DJRbEYo213chq0CQCoD7aYS9+gSd4OAERh1gwEqN7vnGWyUs6ZSL/72N/xM5999zT3sqi7o+w1zp1CHrA6W3XcL52pD3EXYc6p9HQPbF+TzZzBW4N9Dtyq958bZhHvzRk35dSu7w+nbMHfa+vMxIX8Vot91sFuuuULfPzCRPq4zQghzewC7cfDsffldjFivCRr8NhH7YNAMiFgI6hEfSU9T1nLmyku/MOW/W6eW6HqC6l9YyWZaprjireHmFP6ZWFxI2dtutyU+9BYMJcbEqMDqMmnHtl0pzTK7V7stIzRGuAD0NTEK6cHlGd9pLOnvt6h//K6wN3WEbV5EpsmD323fZzeSCj8m70P9bpB/ZpT3t9XXARryF32uWATnuKAnp3naJlx63muEx1BednsrXt9LbvtiwJpl3U9jhFr89tAwByYw66eeS7E2l8DjpDVA+hQlWWZkYz5yHnVay+J0+md9rHw9GGmOZ0uH696A4f7AyHDXpNW93zIOGH2Bx0Z7/lpfv+VfLYWhK5rDdWOn5KSmvO+sRXrsEDJrhMNJ/KRFeIdsv9ZVmpzAS9jcXq2dj5vCHpPehq8nRFzhXc+cc9BHOPJXYvCwyA+T9/5JThI6YM7/SE6w3+9OZvZn2ynu/5ul7KMj9XkQftKVCPZcoZdZGsU0Yyv85P56475czSS5nYVTmS/By6rbxtmX63DQDIa/i+Bx0AgBgduux85zkAAMABYYg7AGCohd9PfopwDgAADtxQ9aDf/ktT3l+t2aX+/f7HP5IfHPuOXYLP/v7shZz8zcd2yQ9Hj3xD/vazy3YJg/TOL38rr/77P7vkh+8Wvil/nfuJXcKg/PDOH+RP//iXXYrT73KeXWjIaqEiendrn9048335+anv2SXkcaP2Z/n1xn27hEF5cfV9+epXvmyXAAD9Yog7AAAAAAAeYIg7AAAAAAAeIKADAAAAAOABAjoAAAAAAB4goAMAAAAA4AECOgAAAAAAHiCgAwAAAADgAQI6AAAAAAAeIKADAAAAAOABAjoAAAAAAB4goAMAAAAA4AECOgAAAAAAHiCgAwAAAADgAQI6AAAAAAAeIKADAAAAAOABAjoAAAAAAB4goAMAAAAA4AECOgAAAAAAHiCgAwAAAADgAQI6AAAAAAAeIKADAAAAAOABAjoAAAAAAB4goAMAAAAA4AECOgAAAAAAHiCgAwAAAADgAQI6AAAAAAAeIKADAAAAAOABAjoAAAAAAB4goAMAAAAA4AECOgAAAAAAHiCgAwAAAADgAQI6AAAAAAAHTuQLB9lJr9E7/ckAAAAASUVORK5CYII=)"
      ]
    },
    {
      "cell_type": "markdown",
      "metadata": {
        "id": "RW_M_SMJfItJ"
      },
      "source": [
        "![Screenshot 2024-03-20 050030.png](data:image/png;base64,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)"
      ]
    },
    {
      "cell_type": "markdown",
      "metadata": {
        "id": "KzE2MLPpeYHy"
      },
      "source": [
        "The above pictured is cropped from [numpy](https://numpy.org/) webpage"
      ]
    },
    {
      "cell_type": "markdown",
      "metadata": {
        "id": "aORWI5A1kS6N"
      },
      "source": [
        "## 9.2 Mathematics"
      ]
    },
    {
      "cell_type": "markdown",
      "metadata": {
        "id": "yPhpRMrl0qPs"
      },
      "source": [
        "### *Numpy*"
      ]
    },
    {
      "cell_type": "code",
      "execution_count": null,
      "metadata": {
        "id": "kMhs2ebTLdo9"
      },
      "outputs": [],
      "source": [
        "import numpy as np\n",
        "from numpy import array, mat, random, zeros"
      ]
    },
    {
      "cell_type": "code",
      "execution_count": null,
      "metadata": {
        "id": "9kZq3W5LidaJ"
      },
      "outputs": [],
      "source": [
        "a_1 = array([[1,2,3],[4,5,6]])\n",
        "print(a_1.ndim)  # number of axes(dimenstions)\n",
        "print(a_1.shape) # the dimensions of the array. For a matrix with n rows and m columns, shape will be (n,m). The length of the shape tuple is therefore the number of axes, ndim.\n",
        "print(a_1.size)  # the total number of elements of the array. This is equal to the product of the elements of shape.\n",
        "print(a_1.dtype) # an object describing the type of the elements in the array"
      ]
    },
    {
      "cell_type": "code",
      "execution_count": null,
      "metadata": {
        "id": "WTbx2FTj7r3g"
      },
      "outputs": [],
      "source": [
        "a = array([[1,2,3],[4,5,6]])\n",
        "m = mat('1 2 3; 4 6 8')\n",
        "m1 = mat([[random.randint(10,20) for j in range(3)] for i in range(2)])\n",
        "m1\n",
        "# print(f'a={a}\\nm = {m}')"
      ]
    },
    {
      "cell_type": "markdown",
      "metadata": {
        "id": "Qlzh27nNIyDG"
      },
      "source": [
        "**Hadamard product**\n"
      ]
    },
    {
      "cell_type": "code",
      "execution_count": null,
      "metadata": {
        "colab": {
          "base_uri": "https://localhost:8080/"
        },
        "id": "AgvJhFTnLWTf",
        "outputId": "bbab0fc2-b84b-47bb-e959-e4e5826936ec"
      },
      "outputs": [
        {
          "output_type": "execute_result",
          "data": {
            "text/plain": [
              "array([[  18,   16,  147,   13,  224,   10],\n",
              "       [  12,   18,   77,  130, 1288,   24],\n",
              "       [   3,    4,   21,   52,  280,   12]])"
            ]
          },
          "metadata": {},
          "execution_count": 12
        }
      ],
      "source": [
        "a = np.array([3,2,7,13,56,2])\n",
        "b = np.array([[6,8,21,1,4,5],[4,9,11,10,23,12],[1,2,3,4,5,6]])\n",
        "# np.dot(a,b)\n",
        "# a@b\n",
        "a*b"
      ]
    },
    {
      "cell_type": "code",
      "execution_count": null,
      "metadata": {
        "colab": {
          "base_uri": "https://localhost:8080/"
        },
        "id": "3OG0FLMh4MIE",
        "outputId": "0826b75c-420b-4a3e-95df-c5e8fb8331a9"
      },
      "outputs": [
        {
          "output_type": "execute_result",
          "data": {
            "text/plain": [
              "(1, 5)"
            ]
          },
          "metadata": {},
          "execution_count": 8
        }
      ],
      "source": [
        "a.shape"
      ]
    },
    {
      "cell_type": "code",
      "execution_count": null,
      "metadata": {
        "colab": {
          "base_uri": "https://localhost:8080/"
        },
        "id": "tUCPy6saHeYD",
        "outputId": "4f2ab298-1b4e-4b93-fde2-e1d1d7d17541"
      },
      "outputs": [
        {
          "output_type": "execute_result",
          "data": {
            "text/plain": [
              "array([[ 1,  4,  9],\n",
              "       [ 4, 10, 18]])"
            ]
          },
          "metadata": {},
          "execution_count": 9
        }
      ],
      "source": [
        "a = np.array([[1,2,3],[4,5,6]])\n",
        "b = np.array([[1,2,3],[1,2,3]])\n",
        "a*b"
      ]
    },
    {
      "cell_type": "code",
      "execution_count": null,
      "metadata": {
        "colab": {
          "base_uri": "https://localhost:8080/"
        },
        "id": "ShmJhG_fJ1gf",
        "outputId": "38b55a77-bd39-49a0-ca14-7f65d697fae9"
      },
      "outputs": [
        {
          "output_type": "execute_result",
          "data": {
            "text/plain": [
              "array([[1, 2, 3],\n",
              "       [2, 4, 6],\n",
              "       [3, 6, 9]])"
            ]
          },
          "metadata": {},
          "execution_count": 10
        }
      ],
      "source": [
        "a = np.array([[1],[2],[3]])\n",
        "b = np.array([1,2,3])\n",
        "# np.dot(a,b)\n",
        "# a@b\n",
        "a*b"
      ]
    },
    {
      "cell_type": "markdown",
      "metadata": {
        "id": "l9rSQoZoJ7oo"
      },
      "source": [
        "\n",
        "**Normal Matrix Multiplication**\n",
        "\n",
        "(m,n)*(n,p) = (m,p)"
      ]
    },
    {
      "cell_type": "code",
      "execution_count": null,
      "metadata": {
        "colab": {
          "base_uri": "https://localhost:8080/"
        },
        "id": "j-G-IePGKNcL",
        "outputId": "3390e2a1-0ac0-4ac5-f724-31df634bc37c"
      },
      "outputs": [
        {
          "output_type": "stream",
          "name": "stdout",
          "text": [
            "[[ 58  64]\n",
            " [139 154]] \n",
            " ******************** \n",
            " [[ 58  64]\n",
            " [139 154]]\n"
          ]
        }
      ],
      "source": [
        "a = np.array([[1,2,3],[4,5,6]])\n",
        "b = np.array([[7,8],[9,10],[11,12]])\n",
        "c = np.dot(a,b)\n",
        "d = a@b\n",
        "print(c,'\\n',10*'**','\\n',d)"
      ]
    },
    {
      "cell_type": "markdown",
      "metadata": {
        "id": "pTER9CYCkesd"
      },
      "source": [
        "### *SymPy*"
      ]
    },
    {
      "cell_type": "code",
      "execution_count": null,
      "metadata": {
        "id": "8IQKnvynkjc1"
      },
      "outputs": [],
      "source": [
        "import sympy\n",
        "from sympy import *\n",
        "init_printing(use_unicode=True)\n",
        "x, y = symbols('x y')\n",
        "solve(x**2 - 2, x)"
      ]
    },
    {
      "cell_type": "code",
      "execution_count": null,
      "metadata": {
        "id": "K0-9ac_3mzI9"
      },
      "outputs": [],
      "source": [
        "a = Matrix([[1,2],[3,4]])\n",
        "a"
      ]
    },
    {
      "cell_type": "markdown",
      "metadata": {
        "id": "i_zr34OH8qE-"
      },
      "source": [
        "## 9.3 Dataframes"
      ]
    },
    {
      "cell_type": "markdown",
      "metadata": {
        "id": "dB9PbYRed1lS"
      },
      "source": [
        "| Factory | Supply |\n",
        "| --- | --- |\n",
        "| Liverpool | 150,000|\n",
        "| Brighton  | 200,000|\n"
      ]
    },
    {
      "cell_type": "markdown",
      "metadata": {
        "id": "5v-6uzsR00yt"
      },
      "source": [
        "### *Pandas*"
      ]
    },
    {
      "cell_type": "markdown",
      "metadata": {
        "id": "z1-2JKm1KTTs"
      },
      "source": [
        "Pandas provides two types of classes for handling data:\n",
        "\n",
        "\n",
        "\n",
        "1.   Series: a one-dimensional labeled array holding data of any type such as integers, strings, Python objects etc.\n",
        "2.   DataFrame: a two-dimensional data structure that holds data like a two-dimension array or a table with rows and columns.\n",
        "\n",
        "\n",
        "\n",
        "\n"
      ]
    },
    {
      "cell_type": "code",
      "execution_count": null,
      "metadata": {
        "collapsed": true,
        "id": "u_O3NKm9Ken_"
      },
      "outputs": [],
      "source": [
        "import pandas as pd\n",
        "s = pd.Series([1, 3, 5, np.nan, 6, 8])\n",
        "s"
      ]
    },
    {
      "cell_type": "code",
      "execution_count": null,
      "metadata": {
        "collapsed": true,
        "id": "1JOMYycZKypS"
      },
      "outputs": [],
      "source": [
        "dates = pd.date_range(\"20130101\", periods=6)\n",
        "dates"
      ]
    },
    {
      "cell_type": "code",
      "execution_count": null,
      "metadata": {
        "collapsed": true,
        "id": "HZurfR4NK40p"
      },
      "outputs": [],
      "source": [
        "df = pd.DataFrame(np.random.randn(6, 4), index=dates, columns=list(\"ABCD\"))\n",
        "df"
      ]
    },
    {
      "cell_type": "code",
      "execution_count": null,
      "metadata": {
        "collapsed": true,
        "id": "99ciswIeLYLm"
      },
      "outputs": [],
      "source": [
        "df2 = pd.DataFrame(\n",
        "    {\n",
        "        \"A\": 1.0,\n",
        "        \"B\": pd.Timestamp(\"20130102\"),\n",
        "        \"C\": pd.Series(1, index=list(range(4)), dtype=\"float32\"),\n",
        "        \"D\": np.array([3] * 4, dtype=\"int32\"),\n",
        "        \"E\": pd.Categorical([\"test\", \"train\", \"test\", \"train\"]),\n",
        "        \"F\": \"foo\",\n",
        "    }\n",
        ")\n",
        "df2"
      ]
    },
    {
      "cell_type": "markdown",
      "metadata": {
        "id": "j6N7nN3B068E"
      },
      "source": [
        "### *Polars*"
      ]
    },
    {
      "cell_type": "markdown",
      "metadata": {
        "id": "IY54IeH28yGg"
      },
      "source": [
        "## 9.4 Visualization"
      ]
    },
    {
      "cell_type": "markdown",
      "metadata": {
        "id": "Wu7gPfIJfuD9"
      },
      "source": []
    },
    {
      "cell_type": "markdown",
      "metadata": {
        "id": "gd-1idIT0-iV"
      },
      "source": [
        "### *Matplotlib*"
      ]
    },
    {
      "cell_type": "markdown",
      "metadata": {
        "id": "97VcPTpb8532"
      },
      "source": [
        "### *Seaborn*"
      ]
    },
    {
      "cell_type": "markdown",
      "source": [
        "# **10. Concepts**"
      ],
      "metadata": {
        "id": "9b9QvIJ9B7Xj"
      }
    },
    {
      "cell_type": "markdown",
      "source": [
        "### **Hashable**"
      ],
      "metadata": {
        "id": "MQPM842uB--x"
      }
    },
    {
      "cell_type": "markdown",
      "source": [
        "An object is hashable if it has a hash code which never changes during its lifetime (it needs a __hash__() method), and can be compared to other objects (it needs an __eq__() method). Hashable objects which compare equal must have the same hash code."
      ],
      "metadata": {
        "id": "ONOFbSi8CKc6"
      }
    },
    {
      "cell_type": "markdown",
      "source": [
        "Numeric types and flat immutable types str and bytes are all hashable. Container\n",
        "types are hashable if they are immutable and all contained objects are also hashable."
      ],
      "metadata": {
        "id": "G9_Dzcc9CUz0"
      }
    },
    {
      "cell_type": "markdown",
      "source": [
        "A tuple is hashable only if all its items are hashable."
      ],
      "metadata": {
        "id": "bs9-y83iCf5s"
      }
    },
    {
      "cell_type": "code",
      "source": [
        "tt = (1,2,(30,40))\n",
        "hash(tt)"
      ],
      "metadata": {
        "colab": {
          "base_uri": "https://localhost:8080/"
        },
        "id": "4F1dbj8EChph",
        "outputId": "f83112f6-51f4-41a1-8114-9c41d447b225"
      },
      "execution_count": null,
      "outputs": [
        {
          "output_type": "execute_result",
          "data": {
            "text/plain": [
              "-3907003130834322577"
            ]
          },
          "metadata": {},
          "execution_count": 1
        }
      ]
    },
    {
      "cell_type": "code",
      "source": [
        "tl = (1,2,[30,40])\n",
        "hash(tl)"
      ],
      "metadata": {
        "colab": {
          "base_uri": "https://localhost:8080/",
          "height": 158
        },
        "id": "pLlvZ_hgCllo",
        "outputId": "fb98f931-33f7-4029-a297-a3627e4bd12c"
      },
      "execution_count": null,
      "outputs": [
        {
          "output_type": "error",
          "ename": "TypeError",
          "evalue": "unhashable type: 'list'",
          "traceback": [
            "\u001b[0;31m---------------------------------------------------------------------------\u001b[0m",
            "\u001b[0;31mTypeError\u001b[0m                                 Traceback (most recent call last)",
            "\u001b[0;32m<ipython-input-2-f7ea546b2bf3>\u001b[0m in \u001b[0;36m<cell line: 2>\u001b[0;34m()\u001b[0m\n\u001b[1;32m      1\u001b[0m \u001b[0mtl\u001b[0m \u001b[0;34m=\u001b[0m \u001b[0;34m(\u001b[0m\u001b[0;36m1\u001b[0m\u001b[0;34m,\u001b[0m\u001b[0;36m2\u001b[0m\u001b[0;34m,\u001b[0m\u001b[0;34m[\u001b[0m\u001b[0;36m30\u001b[0m\u001b[0;34m,\u001b[0m\u001b[0;36m40\u001b[0m\u001b[0;34m]\u001b[0m\u001b[0;34m)\u001b[0m\u001b[0;34m\u001b[0m\u001b[0;34m\u001b[0m\u001b[0m\n\u001b[0;32m----> 2\u001b[0;31m \u001b[0mhash\u001b[0m\u001b[0;34m(\u001b[0m\u001b[0mtl\u001b[0m\u001b[0;34m)\u001b[0m\u001b[0;34m\u001b[0m\u001b[0;34m\u001b[0m\u001b[0m\n\u001b[0m",
            "\u001b[0;31mTypeError\u001b[0m: unhashable type: 'list'"
          ]
        }
      ]
    },
    {
      "cell_type": "code",
      "source": [],
      "metadata": {
        "id": "P1pqsDgTCrQ8"
      },
      "execution_count": null,
      "outputs": []
    }
  ],
  "metadata": {
    "colab": {
      "provenance": [],
      "include_colab_link": true
    },
    "kernelspec": {
      "display_name": "Python 3",
      "name": "python3"
    },
    "language_info": {
      "name": "python"
    }
  },
  "nbformat": 4,
  "nbformat_minor": 0
}